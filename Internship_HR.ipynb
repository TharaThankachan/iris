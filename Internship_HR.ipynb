{
  "nbformat": 4,
  "nbformat_minor": 0,
  "metadata": {
    "colab": {
      "provenance": [],
      "authorship_tag": "ABX9TyN8HRVWHp/y0TY/VMwyXwFM",
      "include_colab_link": true
    },
    "kernelspec": {
      "name": "python3",
      "display_name": "Python 3"
    },
    "language_info": {
      "name": "python"
    }
  },
  "cells": [
    {
      "cell_type": "markdown",
      "metadata": {
        "id": "view-in-github",
        "colab_type": "text"
      },
      "source": [
        "<a href=\"https://colab.research.google.com/github/TharaThankachan/iris/blob/main/Internship_HR.ipynb\" target=\"_parent\"><img src=\"https://colab.research.google.com/assets/colab-badge.svg\" alt=\"Open In Colab\"/></a>"
      ]
    },
    {
      "cell_type": "code",
      "execution_count": null,
      "metadata": {
        "id": "jqbO-rW5bdle"
      },
      "outputs": [],
      "source": [
        "import numpy as np\n",
        "import pandas as pd\n",
        "import seaborn as sns\n",
        "import matplotlib.pyplot as plt"
      ]
    },
    {
      "cell_type": "markdown",
      "source": [],
      "metadata": {
        "id": "ZhYOmY-g3j7x"
      }
    },
    {
      "cell_type": "code",
      "source": [
        "df=pd.read_csv('/content/salarydata.csv')\n",
        "df.head()"
      ],
      "metadata": {
        "colab": {
          "base_uri": "https://localhost:8080/",
          "height": 444
        },
        "id": "ENM0eeeNccOk",
        "outputId": "827a0077-baa1-4142-c159-abc6c4e0a11f"
      },
      "execution_count": null,
      "outputs": [
        {
          "output_type": "execute_result",
          "data": {
            "text/plain": [
              "   age         workclass  education  education-num      marital-status  \\\n",
              "0   39         State-gov  Bachelors             13       Never-married   \n",
              "1   50  Self-emp-not-inc  Bachelors             13  Married-civ-spouse   \n",
              "2   38           Private    HS-grad              9            Divorced   \n",
              "3   53           Private       11th              7  Married-civ-spouse   \n",
              "4   28           Private  Bachelors             13  Married-civ-spouse   \n",
              "\n",
              "          occupation   relationship   race     sex  capital-gain  \\\n",
              "0       Adm-clerical  Not-in-family  White    Male          2174   \n",
              "1    Exec-managerial        Husband  White    Male             0   \n",
              "2  Handlers-cleaners  Not-in-family  White    Male             0   \n",
              "3  Handlers-cleaners        Husband  Black    Male             0   \n",
              "4     Prof-specialty           Wife  Black  Female             0   \n",
              "\n",
              "   capital-loss  hours-per-week native-country salary  \n",
              "0             0              40  United-States  <=50K  \n",
              "1             0              13  United-States  <=50K  \n",
              "2             0              40  United-States  <=50K  \n",
              "3             0              40  United-States  <=50K  \n",
              "4             0              40           Cuba  <=50K  "
            ],
            "text/html": [
              "\n",
              "  <div id=\"df-6f024f63-56d8-4f53-af61-fe220610c9f6\">\n",
              "    <div class=\"colab-df-container\">\n",
              "      <div>\n",
              "<style scoped>\n",
              "    .dataframe tbody tr th:only-of-type {\n",
              "        vertical-align: middle;\n",
              "    }\n",
              "\n",
              "    .dataframe tbody tr th {\n",
              "        vertical-align: top;\n",
              "    }\n",
              "\n",
              "    .dataframe thead th {\n",
              "        text-align: right;\n",
              "    }\n",
              "</style>\n",
              "<table border=\"1\" class=\"dataframe\">\n",
              "  <thead>\n",
              "    <tr style=\"text-align: right;\">\n",
              "      <th></th>\n",
              "      <th>age</th>\n",
              "      <th>workclass</th>\n",
              "      <th>education</th>\n",
              "      <th>education-num</th>\n",
              "      <th>marital-status</th>\n",
              "      <th>occupation</th>\n",
              "      <th>relationship</th>\n",
              "      <th>race</th>\n",
              "      <th>sex</th>\n",
              "      <th>capital-gain</th>\n",
              "      <th>capital-loss</th>\n",
              "      <th>hours-per-week</th>\n",
              "      <th>native-country</th>\n",
              "      <th>salary</th>\n",
              "    </tr>\n",
              "  </thead>\n",
              "  <tbody>\n",
              "    <tr>\n",
              "      <th>0</th>\n",
              "      <td>39</td>\n",
              "      <td>State-gov</td>\n",
              "      <td>Bachelors</td>\n",
              "      <td>13</td>\n",
              "      <td>Never-married</td>\n",
              "      <td>Adm-clerical</td>\n",
              "      <td>Not-in-family</td>\n",
              "      <td>White</td>\n",
              "      <td>Male</td>\n",
              "      <td>2174</td>\n",
              "      <td>0</td>\n",
              "      <td>40</td>\n",
              "      <td>United-States</td>\n",
              "      <td>&lt;=50K</td>\n",
              "    </tr>\n",
              "    <tr>\n",
              "      <th>1</th>\n",
              "      <td>50</td>\n",
              "      <td>Self-emp-not-inc</td>\n",
              "      <td>Bachelors</td>\n",
              "      <td>13</td>\n",
              "      <td>Married-civ-spouse</td>\n",
              "      <td>Exec-managerial</td>\n",
              "      <td>Husband</td>\n",
              "      <td>White</td>\n",
              "      <td>Male</td>\n",
              "      <td>0</td>\n",
              "      <td>0</td>\n",
              "      <td>13</td>\n",
              "      <td>United-States</td>\n",
              "      <td>&lt;=50K</td>\n",
              "    </tr>\n",
              "    <tr>\n",
              "      <th>2</th>\n",
              "      <td>38</td>\n",
              "      <td>Private</td>\n",
              "      <td>HS-grad</td>\n",
              "      <td>9</td>\n",
              "      <td>Divorced</td>\n",
              "      <td>Handlers-cleaners</td>\n",
              "      <td>Not-in-family</td>\n",
              "      <td>White</td>\n",
              "      <td>Male</td>\n",
              "      <td>0</td>\n",
              "      <td>0</td>\n",
              "      <td>40</td>\n",
              "      <td>United-States</td>\n",
              "      <td>&lt;=50K</td>\n",
              "    </tr>\n",
              "    <tr>\n",
              "      <th>3</th>\n",
              "      <td>53</td>\n",
              "      <td>Private</td>\n",
              "      <td>11th</td>\n",
              "      <td>7</td>\n",
              "      <td>Married-civ-spouse</td>\n",
              "      <td>Handlers-cleaners</td>\n",
              "      <td>Husband</td>\n",
              "      <td>Black</td>\n",
              "      <td>Male</td>\n",
              "      <td>0</td>\n",
              "      <td>0</td>\n",
              "      <td>40</td>\n",
              "      <td>United-States</td>\n",
              "      <td>&lt;=50K</td>\n",
              "    </tr>\n",
              "    <tr>\n",
              "      <th>4</th>\n",
              "      <td>28</td>\n",
              "      <td>Private</td>\n",
              "      <td>Bachelors</td>\n",
              "      <td>13</td>\n",
              "      <td>Married-civ-spouse</td>\n",
              "      <td>Prof-specialty</td>\n",
              "      <td>Wife</td>\n",
              "      <td>Black</td>\n",
              "      <td>Female</td>\n",
              "      <td>0</td>\n",
              "      <td>0</td>\n",
              "      <td>40</td>\n",
              "      <td>Cuba</td>\n",
              "      <td>&lt;=50K</td>\n",
              "    </tr>\n",
              "  </tbody>\n",
              "</table>\n",
              "</div>\n",
              "      <button class=\"colab-df-convert\" onclick=\"convertToInteractive('df-6f024f63-56d8-4f53-af61-fe220610c9f6')\"\n",
              "              title=\"Convert this dataframe to an interactive table.\"\n",
              "              style=\"display:none;\">\n",
              "        \n",
              "  <svg xmlns=\"http://www.w3.org/2000/svg\" height=\"24px\"viewBox=\"0 0 24 24\"\n",
              "       width=\"24px\">\n",
              "    <path d=\"M0 0h24v24H0V0z\" fill=\"none\"/>\n",
              "    <path d=\"M18.56 5.44l.94 2.06.94-2.06 2.06-.94-2.06-.94-.94-2.06-.94 2.06-2.06.94zm-11 1L8.5 8.5l.94-2.06 2.06-.94-2.06-.94L8.5 2.5l-.94 2.06-2.06.94zm10 10l.94 2.06.94-2.06 2.06-.94-2.06-.94-.94-2.06-.94 2.06-2.06.94z\"/><path d=\"M17.41 7.96l-1.37-1.37c-.4-.4-.92-.59-1.43-.59-.52 0-1.04.2-1.43.59L10.3 9.45l-7.72 7.72c-.78.78-.78 2.05 0 2.83L4 21.41c.39.39.9.59 1.41.59.51 0 1.02-.2 1.41-.59l7.78-7.78 2.81-2.81c.8-.78.8-2.07 0-2.86zM5.41 20L4 18.59l7.72-7.72 1.47 1.35L5.41 20z\"/>\n",
              "  </svg>\n",
              "      </button>\n",
              "      \n",
              "  <style>\n",
              "    .colab-df-container {\n",
              "      display:flex;\n",
              "      flex-wrap:wrap;\n",
              "      gap: 12px;\n",
              "    }\n",
              "\n",
              "    .colab-df-convert {\n",
              "      background-color: #E8F0FE;\n",
              "      border: none;\n",
              "      border-radius: 50%;\n",
              "      cursor: pointer;\n",
              "      display: none;\n",
              "      fill: #1967D2;\n",
              "      height: 32px;\n",
              "      padding: 0 0 0 0;\n",
              "      width: 32px;\n",
              "    }\n",
              "\n",
              "    .colab-df-convert:hover {\n",
              "      background-color: #E2EBFA;\n",
              "      box-shadow: 0px 1px 2px rgba(60, 64, 67, 0.3), 0px 1px 3px 1px rgba(60, 64, 67, 0.15);\n",
              "      fill: #174EA6;\n",
              "    }\n",
              "\n",
              "    [theme=dark] .colab-df-convert {\n",
              "      background-color: #3B4455;\n",
              "      fill: #D2E3FC;\n",
              "    }\n",
              "\n",
              "    [theme=dark] .colab-df-convert:hover {\n",
              "      background-color: #434B5C;\n",
              "      box-shadow: 0px 1px 3px 1px rgba(0, 0, 0, 0.15);\n",
              "      filter: drop-shadow(0px 1px 2px rgba(0, 0, 0, 0.3));\n",
              "      fill: #FFFFFF;\n",
              "    }\n",
              "  </style>\n",
              "\n",
              "      <script>\n",
              "        const buttonEl =\n",
              "          document.querySelector('#df-6f024f63-56d8-4f53-af61-fe220610c9f6 button.colab-df-convert');\n",
              "        buttonEl.style.display =\n",
              "          google.colab.kernel.accessAllowed ? 'block' : 'none';\n",
              "\n",
              "        async function convertToInteractive(key) {\n",
              "          const element = document.querySelector('#df-6f024f63-56d8-4f53-af61-fe220610c9f6');\n",
              "          const dataTable =\n",
              "            await google.colab.kernel.invokeFunction('convertToInteractive',\n",
              "                                                     [key], {});\n",
              "          if (!dataTable) return;\n",
              "\n",
              "          const docLinkHtml = 'Like what you see? Visit the ' +\n",
              "            '<a target=\"_blank\" href=https://colab.research.google.com/notebooks/data_table.ipynb>data table notebook</a>'\n",
              "            + ' to learn more about interactive tables.';\n",
              "          element.innerHTML = '';\n",
              "          dataTable['output_type'] = 'display_data';\n",
              "          await google.colab.output.renderOutput(dataTable, element);\n",
              "          const docLink = document.createElement('div');\n",
              "          docLink.innerHTML = docLinkHtml;\n",
              "          element.appendChild(docLink);\n",
              "        }\n",
              "      </script>\n",
              "    </div>\n",
              "  </div>\n",
              "  "
            ]
          },
          "metadata": {},
          "execution_count": 2
        }
      ]
    },
    {
      "cell_type": "code",
      "source": [
        "df.shape"
      ],
      "metadata": {
        "colab": {
          "base_uri": "https://localhost:8080/"
        },
        "id": "aN-biAxCdjrn",
        "outputId": "c71ad87d-fc6d-43dc-e9a3-4a31fb4dc0f1"
      },
      "execution_count": null,
      "outputs": [
        {
          "output_type": "execute_result",
          "data": {
            "text/plain": [
              "(32561, 14)"
            ]
          },
          "metadata": {},
          "execution_count": 32
        }
      ]
    },
    {
      "cell_type": "markdown",
      "source": [
        "# **Exploratory Data Analysis**"
      ],
      "metadata": {
        "id": "KX74UxKMTJi-"
      }
    },
    {
      "cell_type": "markdown",
      "source": [
        "**Univariate analysis**"
      ],
      "metadata": {
        "id": "6wH7QHwYbZ8E"
      }
    },
    {
      "cell_type": "code",
      "source": [
        "plt.rcParams['figure.figsize']=15,15\n",
        "sns.set(style='darkgrid',font_scale=1.3)\n",
        "ax=df.hist(bins=10,color='green' )"
      ],
      "metadata": {
        "id": "-zHN1kEibW9q"
      },
      "execution_count": null,
      "outputs": []
    },
    {
      "cell_type": "code",
      "source": [
        "df['age'].nunique()"
      ],
      "metadata": {
        "colab": {
          "base_uri": "https://localhost:8080/"
        },
        "id": "XzYX3HADhnKl",
        "outputId": "68c21aab-8ddf-4c05-c2bd-3af41aff74fb"
      },
      "execution_count": null,
      "outputs": [
        {
          "output_type": "execute_result",
          "data": {
            "text/plain": [
              "73"
            ]
          },
          "metadata": {},
          "execution_count": 8
        }
      ]
    },
    {
      "cell_type": "code",
      "source": [
        "df['age'].unique()"
      ],
      "metadata": {
        "colab": {
          "base_uri": "https://localhost:8080/"
        },
        "id": "I_AtRPHChnIe",
        "outputId": "dc9defb9-bcad-40c7-dd56-0f8e57475def"
      },
      "execution_count": null,
      "outputs": [
        {
          "output_type": "execute_result",
          "data": {
            "text/plain": [
              "array([39, 50, 38, 53, 28, 37, 49, 52, 31, 42, 30, 23, 32, 40, 34, 25, 43,\n",
              "       54, 35, 59, 56, 19, 20, 45, 22, 48, 21, 24, 57, 44, 41, 29, 18, 47,\n",
              "       46, 36, 79, 27, 67, 33, 76, 17, 55, 61, 70, 64, 71, 68, 66, 51, 58,\n",
              "       26, 60, 90, 75, 65, 77, 62, 63, 80, 72, 74, 69, 73, 81, 78, 88, 82,\n",
              "       83, 84, 85, 86, 87])"
            ]
          },
          "metadata": {},
          "execution_count": 9
        }
      ]
    },
    {
      "cell_type": "code",
      "source": [
        "df['age'].value_counts()"
      ],
      "metadata": {
        "colab": {
          "base_uri": "https://localhost:8080/"
        },
        "id": "iRBxjGIKhnGu",
        "outputId": "139b38f3-86d5-4398-c84d-cfac48d56aa0"
      },
      "execution_count": null,
      "outputs": [
        {
          "output_type": "execute_result",
          "data": {
            "text/plain": [
              "36    898\n",
              "31    888\n",
              "34    886\n",
              "23    877\n",
              "35    876\n",
              "     ... \n",
              "83      6\n",
              "88      3\n",
              "85      3\n",
              "86      1\n",
              "87      1\n",
              "Name: age, Length: 73, dtype: int64"
            ]
          },
          "metadata": {},
          "execution_count": 10
        }
      ]
    },
    {
      "cell_type": "code",
      "source": [
        "\n",
        "#plt.figure.figsize=(15,15)\n",
        "sns.set(rc={\"figure.figsize\":(8, 4)})\n",
        "sns.displot(df, x=\"age\", kde=True)\n",
        "#fig, ax = plt.subplots(figsize=(10,10),dpi=100)\n",
        "plt.title(\"age  Distribution\")\n",
        "plt.show()"
      ],
      "metadata": {
        "colab": {
          "base_uri": "https://localhost:8080/",
          "height": 381
        },
        "id": "07ggzuyOIhpc",
        "outputId": "0a34d729-f634-45ba-f088-0f2038102d84"
      },
      "execution_count": null,
      "outputs": [
        {
          "output_type": "display_data",
          "data": {
            "text/plain": [
              "<Figure size 360x360 with 1 Axes>"
            ],
            "image/png": "[encoded data removed]"
          },
          "metadata": {}
        }
      ]
    },
    {
      "cell_type": "code",
      "source": [
        "df['workclass'].nunique()"
      ],
      "metadata": {
        "colab": {
          "base_uri": "https://localhost:8080/"
        },
        "id": "WYBQ58Ar5T4c",
        "outputId": "90cbb984-6327-4b3b-ae34-1fd7ec6b4618"
      },
      "execution_count": null,
      "outputs": [
        {
          "output_type": "execute_result",
          "data": {
            "text/plain": [
              "9"
            ]
          },
          "metadata": {},
          "execution_count": 10
        }
      ]
    },
    {
      "cell_type": "code",
      "source": [],
      "metadata": {
        "id": "-CRC0JlYYbZ-"
      },
      "execution_count": null,
      "outputs": []
    },
    {
      "cell_type": "code",
      "source": [
        "df['workclass'].unique()"
      ],
      "metadata": {
        "colab": {
          "base_uri": "https://localhost:8080/"
        },
        "id": "YinueEqb5fdm",
        "outputId": "49704246-c28d-4488-e3d1-66f071b9b9c5"
      },
      "execution_count": null,
      "outputs": [
        {
          "output_type": "execute_result",
          "data": {
            "text/plain": [
              "array(['State-gov', 'Self-emp-not-inc', 'Private', 'Federal-gov',\n",
              "       'Local-gov', '?', 'Self-emp-inc', 'Without-pay', 'Never-worked'],\n",
              "      dtype=object)"
            ]
          },
          "metadata": {},
          "execution_count": 11
        }
      ]
    },
    {
      "cell_type": "code",
      "source": [
        "df['workclass']='?'"
      ],
      "metadata": {
        "id": "MQqjyWYt5rjE"
      },
      "execution_count": null,
      "outputs": []
    },
    {
      "cell_type": "code",
      "source": [
        "df['workclass'].value_counts()"
      ],
      "metadata": {
        "colab": {
          "base_uri": "https://localhost:8080/"
        },
        "id": "_Zldd7jm7UNm",
        "outputId": "9d90fc45-a770-42d3-b29d-b6dd6f220144"
      },
      "execution_count": null,
      "outputs": [
        {
          "output_type": "execute_result",
          "data": {
            "text/plain": [
              "Private             22696\n",
              "Self-emp-not-inc     2541\n",
              "Local-gov            2093\n",
              "?                    1836\n",
              "State-gov            1298\n",
              "Self-emp-inc         1116\n",
              "Federal-gov           960\n",
              "Without-pay            14\n",
              "Never-worked            7\n",
              "Name: workclass, dtype: int64"
            ]
          },
          "metadata": {},
          "execution_count": 22
        }
      ]
    },
    {
      "cell_type": "code",
      "source": [
        "\n",
        "sns.displot(df, x=\"workclass\",aspect=3)\n",
        "plt.title(\"work class Distribution\")\n",
        "plt.show()"
      ],
      "metadata": {
        "colab": {
          "base_uri": "https://localhost:8080/",
          "height": 338
        },
        "id": "EczVTYsLI1S3",
        "outputId": "54fe01a2-8534-4e10-c50b-6173675f9e9a"
      },
      "execution_count": null,
      "outputs": [
        {
          "output_type": "display_data",
          "data": {
            "text/plain": [
              "<Figure size 1080x360 with 1 Axes>"
            ],
            "image/png": "[encoded data removed]"
          },
          "metadata": {}
        }
      ]
    },
    {
      "cell_type": "code",
      "source": [
        "df['education'].nunique()"
      ],
      "metadata": {
        "colab": {
          "base_uri": "https://localhost:8080/"
        },
        "id": "yLtSFbJq505u",
        "outputId": "eb4c824c-e4bf-4082-df6f-63a2b9f0d491"
      },
      "execution_count": null,
      "outputs": [
        {
          "output_type": "execute_result",
          "data": {
            "text/plain": [
              "16"
            ]
          },
          "metadata": {},
          "execution_count": 24
        }
      ]
    },
    {
      "cell_type": "code",
      "source": [
        "df['education'].unique()"
      ],
      "metadata": {
        "colab": {
          "base_uri": "https://localhost:8080/"
        },
        "id": "beaMqOxp7uQy",
        "outputId": "734c0dd3-c24b-4b4d-9eab-bb18136618aa"
      },
      "execution_count": null,
      "outputs": [
        {
          "output_type": "execute_result",
          "data": {
            "text/plain": [
              "array(['Bachelors', 'HS-grad', '11th', 'Masters', '9th', 'Some-college',\n",
              "       'Assoc-acdm', 'Assoc-voc', '7th-8th', 'Doctorate', 'Prof-school',\n",
              "       '5th-6th', '10th', '1st-4th', 'Preschool', '12th'], dtype=object)"
            ]
          },
          "metadata": {},
          "execution_count": 25
        }
      ]
    },
    {
      "cell_type": "code",
      "source": [
        "df['education'].value_counts()"
      ],
      "metadata": {
        "colab": {
          "base_uri": "https://localhost:8080/"
        },
        "id": "0_7fyaBC72p7",
        "outputId": "cf95a97a-4def-4844-8288-a75310339f8c"
      },
      "execution_count": null,
      "outputs": [
        {
          "output_type": "execute_result",
          "data": {
            "text/plain": [
              "HS-grad         10501\n",
              "Some-college     7291\n",
              "Bachelors        5355\n",
              "Masters          1723\n",
              "Assoc-voc        1382\n",
              "11th             1175\n",
              "Assoc-acdm       1067\n",
              "10th              933\n",
              "7th-8th           646\n",
              "Prof-school       576\n",
              "9th               514\n",
              "12th              433\n",
              "Doctorate         413\n",
              "5th-6th           333\n",
              "1st-4th           168\n",
              "Preschool          51\n",
              "Name: education, dtype: int64"
            ]
          },
          "metadata": {},
          "execution_count": 26
        }
      ]
    },
    {
      "cell_type": "code",
      "source": [
        "\n",
        "sns.displot(df, x=\"education\",aspect=4)\n",
        "plt.title(\"education Distribution\")\n",
        "plt.show()"
      ],
      "metadata": {
        "colab": {
          "base_uri": "https://localhost:8080/",
          "height": 257
        },
        "id": "mcNKbbKAJWX1",
        "outputId": "2e28b74f-6738-49c9-9de1-d5b93a8f1d83"
      },
      "execution_count": null,
      "outputs": [
        {
          "output_type": "display_data",
          "data": {
            "text/plain": [
              "<Figure size 1440x360 with 1 Axes>"
            ],
            "image/png": "[encoded data removed]"
          },
          "metadata": {}
        }
      ]
    },
    {
      "cell_type": "code",
      "source": [
        "df['education-num'].nunique()"
      ],
      "metadata": {
        "colab": {
          "base_uri": "https://localhost:8080/"
        },
        "id": "918mYKTN8EMI",
        "outputId": "fae379d5-e677-40d4-c491-56da069f398e"
      },
      "execution_count": null,
      "outputs": [
        {
          "output_type": "execute_result",
          "data": {
            "text/plain": [
              "16"
            ]
          },
          "metadata": {},
          "execution_count": 28
        }
      ]
    },
    {
      "cell_type": "code",
      "source": [
        "df['education-num'].unique()"
      ],
      "metadata": {
        "colab": {
          "base_uri": "https://localhost:8080/"
        },
        "id": "2K_HYPUk9KAl",
        "outputId": "2ba43f13-4de6-4bd7-b31f-25076264c15a"
      },
      "execution_count": null,
      "outputs": [
        {
          "output_type": "execute_result",
          "data": {
            "text/plain": [
              "array([13,  9,  7, 14,  5, 10, 12, 11,  4, 16, 15,  3,  6,  2,  1,  8])"
            ]
          },
          "metadata": {},
          "execution_count": 29
        }
      ]
    },
    {
      "cell_type": "code",
      "source": [
        "df['education-num'].value_counts()"
      ],
      "metadata": {
        "colab": {
          "base_uri": "https://localhost:8080/"
        },
        "id": "DEIQbbZ_9QLk",
        "outputId": "a64a2d76-3e07-4cd0-a29a-f782324d0d4d"
      },
      "execution_count": null,
      "outputs": [
        {
          "output_type": "execute_result",
          "data": {
            "text/plain": [
              "9     10501\n",
              "10     7291\n",
              "13     5355\n",
              "14     1723\n",
              "11     1382\n",
              "7      1175\n",
              "12     1067\n",
              "6       933\n",
              "4       646\n",
              "15      576\n",
              "5       514\n",
              "8       433\n",
              "16      413\n",
              "3       333\n",
              "2       168\n",
              "1        51\n",
              "Name: education-num, dtype: int64"
            ]
          },
          "metadata": {},
          "execution_count": 30
        }
      ]
    },
    {
      "cell_type": "code",
      "source": [
        "\n",
        "#plt.figure.figsize=(15,15)\n",
        "sns.set(rc={\"figure.figsize\":(8, 4)})\n",
        "sns.displot(df, x=\"education-num\", kde=True)\n",
        "#fig, ax = plt.subplots(figsize=(10,10),dpi=100)\n",
        "plt.title(\"education num Distribution\")\n",
        "plt.show()"
      ],
      "metadata": {
        "colab": {
          "base_uri": "https://localhost:8080/",
          "height": 381
        },
        "id": "f9R0X3tgJ2rX",
        "outputId": "02866fa8-6172-4b1a-cdbd-d6afbeb1e830"
      },
      "execution_count": null,
      "outputs": [
        {
          "output_type": "display_data",
          "data": {
            "text/plain": [
              "<Figure size 360x360 with 1 Axes>"
            ],
            "image/png": "[encoded data removed]"
          },
          "metadata": {}
        }
      ]
    },
    {
      "cell_type": "code",
      "source": [
        "df['marital-status'].nunique()"
      ],
      "metadata": {
        "colab": {
          "base_uri": "https://localhost:8080/"
        },
        "id": "BJIR8vbn9mDp",
        "outputId": "55f4d836-b962-412a-b398-4a5f95dd951c"
      },
      "execution_count": null,
      "outputs": [
        {
          "output_type": "execute_result",
          "data": {
            "text/plain": [
              "7"
            ]
          },
          "metadata": {},
          "execution_count": 32
        }
      ]
    },
    {
      "cell_type": "code",
      "source": [
        "df['marital-status'].unique()"
      ],
      "metadata": {
        "colab": {
          "base_uri": "https://localhost:8080/"
        },
        "id": "zHNpME4G9YTr",
        "outputId": "0cfd8bdf-e7ef-4a4e-b377-4b653100c7f0"
      },
      "execution_count": null,
      "outputs": [
        {
          "output_type": "execute_result",
          "data": {
            "text/plain": [
              "array(['Never-married', 'Married-civ-spouse', 'Divorced',\n",
              "       'Married-spouse-absent', 'Separated', 'Married-AF-spouse',\n",
              "       'Widowed'], dtype=object)"
            ]
          },
          "metadata": {},
          "execution_count": 33
        }
      ]
    },
    {
      "cell_type": "code",
      "source": [
        "df['marital-status'].value_counts()"
      ],
      "metadata": {
        "colab": {
          "base_uri": "https://localhost:8080/"
        },
        "id": "Zt1pvalG-_gH",
        "outputId": "179938cd-e55d-400c-ccfd-6ee20477e2c2"
      },
      "execution_count": null,
      "outputs": [
        {
          "output_type": "execute_result",
          "data": {
            "text/plain": [
              "Married-civ-spouse       14976\n",
              "Never-married            10683\n",
              "Divorced                  4443\n",
              "Separated                 1025\n",
              "Widowed                    993\n",
              "Married-spouse-absent      418\n",
              "Married-AF-spouse           23\n",
              "Name: marital-status, dtype: int64"
            ]
          },
          "metadata": {},
          "execution_count": 34
        }
      ]
    },
    {
      "cell_type": "code",
      "source": [
        "\n",
        "sns.displot(df,x='marital-status',aspect=3)\n",
        "plt.title(\"marital-status Distribution\")\n",
        "plt.show()"
      ],
      "metadata": {
        "colab": {
          "base_uri": "https://localhost:8080/",
          "height": 338
        },
        "id": "yRJGO-8NKKgX",
        "outputId": "c157e9c7-12db-4e47-f54b-fe39a299bb63"
      },
      "execution_count": null,
      "outputs": [
        {
          "output_type": "display_data",
          "data": {
            "text/plain": [
              "<Figure size 1080x360 with 1 Axes>"
            ],
            "image/png": "[encoded data removed]"
          },
          "metadata": {}
        }
      ]
    },
    {
      "cell_type": "code",
      "source": [
        "df['occupation'].nunique()"
      ],
      "metadata": {
        "colab": {
          "base_uri": "https://localhost:8080/"
        },
        "id": "9FsobFWD_IDG",
        "outputId": "0903dce1-57ec-4083-aa81-0f7c45c71732"
      },
      "execution_count": null,
      "outputs": [
        {
          "output_type": "execute_result",
          "data": {
            "text/plain": [
              "15"
            ]
          },
          "metadata": {},
          "execution_count": 40
        }
      ]
    },
    {
      "cell_type": "code",
      "source": [
        "df['occupation'].unique()"
      ],
      "metadata": {
        "colab": {
          "base_uri": "https://localhost:8080/"
        },
        "id": "USErDvLqDrKT",
        "outputId": "3dee5792-7991-46b9-eac5-08d9f5fe8029"
      },
      "execution_count": null,
      "outputs": [
        {
          "output_type": "execute_result",
          "data": {
            "text/plain": [
              "array(['Adm-clerical', 'Exec-managerial', 'Handlers-cleaners',\n",
              "       'Prof-specialty', 'Other-service', 'Sales', 'Craft-repair',\n",
              "       'Transport-moving', 'Farming-fishing', 'Machine-op-inspct',\n",
              "       'Tech-support', '?', 'Protective-serv', 'Armed-Forces',\n",
              "       'Priv-house-serv'], dtype=object)"
            ]
          },
          "metadata": {},
          "execution_count": 41
        }
      ]
    },
    {
      "cell_type": "code",
      "source": [
        "df['occupation'].value_counts()"
      ],
      "metadata": {
        "colab": {
          "base_uri": "https://localhost:8080/"
        },
        "id": "pk7vVeQGDxB_",
        "outputId": "01f7115c-cc20-44bd-9d48-d2220bc8be69"
      },
      "execution_count": null,
      "outputs": [
        {
          "output_type": "execute_result",
          "data": {
            "text/plain": [
              "Prof-specialty       4140\n",
              "Craft-repair         4099\n",
              "Exec-managerial      4066\n",
              "Adm-clerical         3770\n",
              "Sales                3650\n",
              "Other-service        3295\n",
              "Machine-op-inspct    2002\n",
              "?                    1843\n",
              "Transport-moving     1597\n",
              "Handlers-cleaners    1370\n",
              "Farming-fishing       994\n",
              "Tech-support          928\n",
              "Protective-serv       649\n",
              "Priv-house-serv       149\n",
              "Armed-Forces            9\n",
              "Name: occupation, dtype: int64"
            ]
          },
          "metadata": {},
          "execution_count": 42
        }
      ]
    },
    {
      "cell_type": "code",
      "source": [
        "sns.displot(data=df,x='occupation',aspect=5)"
      ],
      "metadata": {
        "colab": {
          "base_uri": "https://localhost:8080/",
          "height": 218
        },
        "id": "drE7nC_KPKK9",
        "outputId": "a350ef42-6c36-4136-e398-efdd2bae364e"
      },
      "execution_count": null,
      "outputs": [
        {
          "output_type": "execute_result",
          "data": {
            "text/plain": [
              "<seaborn.axisgrid.FacetGrid at 0x7f0abbe82ee0>"
            ]
          },
          "metadata": {},
          "execution_count": 47
        },
        {
          "output_type": "display_data",
          "data": {
            "text/plain": [
              "<Figure size 1800x360 with 1 Axes>"
            ],
            "image/png": "[encoded data removed]"
          },
          "metadata": {}
        }
      ]
    },
    {
      "cell_type": "code",
      "source": [
        "df['relationship'].nunique()"
      ],
      "metadata": {
        "colab": {
          "base_uri": "https://localhost:8080/"
        },
        "id": "3Q-t80YiD_a4",
        "outputId": "03eff972-4576-4f77-edfe-d1ea7af1a842"
      },
      "execution_count": null,
      "outputs": [
        {
          "output_type": "execute_result",
          "data": {
            "text/plain": [
              "6"
            ]
          },
          "metadata": {},
          "execution_count": 43
        }
      ]
    },
    {
      "cell_type": "code",
      "source": [
        "df['relationship'].unique()"
      ],
      "metadata": {
        "colab": {
          "base_uri": "https://localhost:8080/"
        },
        "id": "KIY_kHMnD4ZE",
        "outputId": "f3a84a76-23f7-4be9-8d5c-43fad131cc07"
      },
      "execution_count": null,
      "outputs": [
        {
          "output_type": "execute_result",
          "data": {
            "text/plain": [
              "array(['Not-in-family', 'Husband', 'Wife', 'Own-child', 'Unmarried',\n",
              "       'Other-relative'], dtype=object)"
            ]
          },
          "metadata": {},
          "execution_count": 44
        }
      ]
    },
    {
      "cell_type": "code",
      "source": [
        "df['relationship'].value_counts()"
      ],
      "metadata": {
        "colab": {
          "base_uri": "https://localhost:8080/"
        },
        "id": "ZkCGnIl_EN6g",
        "outputId": "f51655be-2f29-47be-a0a0-bb3f8284642c"
      },
      "execution_count": null,
      "outputs": [
        {
          "output_type": "execute_result",
          "data": {
            "text/plain": [
              "Husband           13193\n",
              "Not-in-family      8305\n",
              "Own-child          5068\n",
              "Unmarried          3446\n",
              "Wife               1568\n",
              "Other-relative      981\n",
              "Name: relationship, dtype: int64"
            ]
          },
          "metadata": {},
          "execution_count": 45
        }
      ]
    },
    {
      "cell_type": "code",
      "source": [
        "sns.displot(data=df,x='relationship',aspect=5)"
      ],
      "metadata": {
        "colab": {
          "base_uri": "https://localhost:8080/",
          "height": 218
        },
        "id": "Uwkx-43WSBO9",
        "outputId": "5beeb82c-e6da-4bc3-ea88-cbdd5e5daf5c"
      },
      "execution_count": null,
      "outputs": [
        {
          "output_type": "execute_result",
          "data": {
            "text/plain": [
              "<seaborn.axisgrid.FacetGrid at 0x7f0aba02f880>"
            ]
          },
          "metadata": {},
          "execution_count": 53
        },
        {
          "output_type": "display_data",
          "data": {
            "text/plain": [
              "<Figure size 1800x360 with 1 Axes>"
            ],
            "image/png": "[encoded data removed]"
          },
          "metadata": {}
        }
      ]
    },
    {
      "cell_type": "code",
      "source": [
        "df['race'].nunique()"
      ],
      "metadata": {
        "colab": {
          "base_uri": "https://localhost:8080/"
        },
        "id": "PBg67VTxESS_",
        "outputId": "c341fceb-dc4d-48b3-ab6c-11fcf02af78b"
      },
      "execution_count": null,
      "outputs": [
        {
          "output_type": "execute_result",
          "data": {
            "text/plain": [
              "5"
            ]
          },
          "metadata": {},
          "execution_count": 46
        }
      ]
    },
    {
      "cell_type": "code",
      "source": [
        "df['race'].unique()"
      ],
      "metadata": {
        "colab": {
          "base_uri": "https://localhost:8080/"
        },
        "id": "IyZN3AqSEZCB",
        "outputId": "8beddfb0-1fac-4d67-8f6f-9ab22a0ee1a2"
      },
      "execution_count": null,
      "outputs": [
        {
          "output_type": "execute_result",
          "data": {
            "text/plain": [
              "array(['White', 'Black', 'Asian-Pac-Islander', 'Amer-Indian-Eskimo',\n",
              "       'Other'], dtype=object)"
            ]
          },
          "metadata": {},
          "execution_count": 47
        }
      ]
    },
    {
      "cell_type": "code",
      "source": [
        "df['race'].value_counts()"
      ],
      "metadata": {
        "colab": {
          "base_uri": "https://localhost:8080/"
        },
        "id": "lPVjzgatEcnV",
        "outputId": "4889759b-7bc6-44dc-ca8e-1aae0e60c42d"
      },
      "execution_count": null,
      "outputs": [
        {
          "output_type": "execute_result",
          "data": {
            "text/plain": [
              "White                 27816\n",
              "Black                  3124\n",
              "Asian-Pac-Islander     1039\n",
              "Amer-Indian-Eskimo      311\n",
              "Other                   271\n",
              "Name: race, dtype: int64"
            ]
          },
          "metadata": {},
          "execution_count": 48
        }
      ]
    },
    {
      "cell_type": "code",
      "source": [
        "sns.displot(data=df,x='race',aspect=5)"
      ],
      "metadata": {
        "colab": {
          "base_uri": "https://localhost:8080/",
          "height": 218
        },
        "id": "hidi3Fq3SHGv",
        "outputId": "87a6b99f-3742-41c7-a674-c7c802a37726"
      },
      "execution_count": null,
      "outputs": [
        {
          "output_type": "execute_result",
          "data": {
            "text/plain": [
              "<seaborn.axisgrid.FacetGrid at 0x7f0ab781cd30>"
            ]
          },
          "metadata": {},
          "execution_count": 54
        },
        {
          "output_type": "display_data",
          "data": {
            "text/plain": [
              "<Figure size 1800x360 with 1 Axes>"
            ],
            "image/png": "[encoded data removed]"
          },
          "metadata": {}
        }
      ]
    },
    {
      "cell_type": "code",
      "source": [
        "df['sex'].nunique()"
      ],
      "metadata": {
        "colab": {
          "base_uri": "https://localhost:8080/"
        },
        "id": "moLozkOWEleb",
        "outputId": "d08fe3e2-57a6-4e0b-f909-abf1c879ac79"
      },
      "execution_count": null,
      "outputs": [
        {
          "output_type": "execute_result",
          "data": {
            "text/plain": [
              "2"
            ]
          },
          "metadata": {},
          "execution_count": 49
        }
      ]
    },
    {
      "cell_type": "code",
      "source": [
        "df['sex'].unique()"
      ],
      "metadata": {
        "colab": {
          "base_uri": "https://localhost:8080/"
        },
        "id": "xGI7Co6-EvBm",
        "outputId": "053a8371-4267-4a5b-8d71-3261190c21e8"
      },
      "execution_count": null,
      "outputs": [
        {
          "output_type": "execute_result",
          "data": {
            "text/plain": [
              "array(['Male', 'Female'], dtype=object)"
            ]
          },
          "metadata": {},
          "execution_count": 50
        }
      ]
    },
    {
      "cell_type": "code",
      "source": [
        "df['sex'].value_counts()"
      ],
      "metadata": {
        "colab": {
          "base_uri": "https://localhost:8080/"
        },
        "id": "QghFhEILE1d-",
        "outputId": "7ec7d432-17f5-4dc5-a7b6-511c59b3f4ce"
      },
      "execution_count": null,
      "outputs": [
        {
          "output_type": "execute_result",
          "data": {
            "text/plain": [
              "Male      21790\n",
              "Female    10771\n",
              "Name: sex, dtype: int64"
            ]
          },
          "metadata": {},
          "execution_count": 51
        }
      ]
    },
    {
      "cell_type": "code",
      "source": [
        "sns.displot(data=df,x='sex',aspect=1)"
      ],
      "metadata": {
        "colab": {
          "base_uri": "https://localhost:8080/",
          "height": 382
        },
        "id": "CcwJWMLaSSVy",
        "outputId": "af11bbab-5957-47cf-b20c-a7ceb0433c6d"
      },
      "execution_count": null,
      "outputs": [
        {
          "output_type": "execute_result",
          "data": {
            "text/plain": [
              "<seaborn.axisgrid.FacetGrid at 0x7f0ab8afba00>"
            ]
          },
          "metadata": {},
          "execution_count": 56
        },
        {
          "output_type": "display_data",
          "data": {
            "text/plain": [
              "<Figure size 360x360 with 1 Axes>"
            ],
            "image/png": "[encoded data removed]"
          },
          "metadata": {}
        }
      ]
    },
    {
      "cell_type": "code",
      "source": [
        "df['capital-gain'].nunique()"
      ],
      "metadata": {
        "colab": {
          "base_uri": "https://localhost:8080/"
        },
        "id": "Fi4qX-caE69_",
        "outputId": "bddbaf2c-e5a7-4a1a-b25b-5ebd90ddc645"
      },
      "execution_count": null,
      "outputs": [
        {
          "output_type": "execute_result",
          "data": {
            "text/plain": [
              "119"
            ]
          },
          "metadata": {},
          "execution_count": 4
        }
      ]
    },
    {
      "cell_type": "code",
      "source": [
        "df['capital-gain'].unique()"
      ],
      "metadata": {
        "colab": {
          "base_uri": "https://localhost:8080/"
        },
        "id": "Zu4VGJVVGT2Y",
        "outputId": "0ed53442-42f9-460f-a7f7-a089447b8095"
      },
      "execution_count": null,
      "outputs": [
        {
          "output_type": "execute_result",
          "data": {
            "text/plain": [
              "array([ 2174,     0, 14084,  5178,  5013,  2407, 14344, 15024,  7688,\n",
              "       34095,  4064,  4386,  7298,  1409,  3674,  1055,  3464,  2050,\n",
              "        2176,   594, 20051,  6849,  4101,  1111,  8614,  3411,  2597,\n",
              "       25236,  4650,  9386,  2463,  3103, 10605,  2964,  3325,  2580,\n",
              "        3471,  4865, 99999,  6514,  1471,  2329,  2105,  2885, 25124,\n",
              "       10520,  2202,  2961, 27828,  6767,  2228,  1506, 13550,  2635,\n",
              "        5556,  4787,  3781,  3137,  3818,  3942,   914,   401,  2829,\n",
              "        2977,  4934,  2062,  2354,  5455, 15020,  1424,  3273, 22040,\n",
              "        4416,  3908, 10566,   991,  4931,  1086,  7430,  6497,   114,\n",
              "        7896,  2346,  3418,  3432,  2907,  1151,  2414,  2290, 15831,\n",
              "       41310,  4508,  2538,  3456,  6418,  1848,  3887,  5721,  9562,\n",
              "        1455,  2036,  1831, 11678,  2936,  2993,  7443,  6360,  1797,\n",
              "        1173,  4687,  6723,  2009,  6097,  2653,  1639, 18481,  7978,\n",
              "        2387,  5060])"
            ]
          },
          "metadata": {},
          "execution_count": 54
        }
      ]
    },
    {
      "cell_type": "code",
      "source": [
        "print(df['capital-gain'].value_counts())"
      ],
      "metadata": {
        "colab": {
          "base_uri": "https://localhost:8080/"
        },
        "id": "lIFjAPCKGZH2",
        "outputId": "d693087f-45e9-4441-a332-665f8853dbd2"
      },
      "execution_count": null,
      "outputs": [
        {
          "output_type": "stream",
          "name": "stdout",
          "text": [
            "0        29849\n",
            "15024      347\n",
            "7688       284\n",
            "7298       246\n",
            "99999      159\n",
            "         ...  \n",
            "1111         1\n",
            "2538         1\n",
            "22040        1\n",
            "4931         1\n",
            "5060         1\n",
            "Name: capital-gain, Length: 119, dtype: int64\n"
          ]
        }
      ]
    },
    {
      "cell_type": "code",
      "source": [
        "sns.displot(data=df,x='capital-gain',aspect=1)"
      ],
      "metadata": {
        "id": "_FA_X4x8JuQv",
        "colab": {
          "base_uri": "https://localhost:8080/",
          "height": 382
        },
        "outputId": "a13f6d4e-3f29-4743-8d55-df42038e59c9"
      },
      "execution_count": null,
      "outputs": [
        {
          "output_type": "execute_result",
          "data": {
            "text/plain": [
              "<seaborn.axisgrid.FacetGrid at 0x7f0ab806c1f0>"
            ]
          },
          "metadata": {},
          "execution_count": 58
        },
        {
          "output_type": "display_data",
          "data": {
            "text/plain": [
              "<Figure size 360x360 with 1 Axes>"
            ],
            "image/png": "[encoded data removed]"
          },
          "metadata": {}
        }
      ]
    },
    {
      "cell_type": "code",
      "source": [
        "plt.hist(df['capital-gain'])\n",
        "plt.show()"
      ],
      "metadata": {
        "colab": {
          "base_uri": "https://localhost:8080/",
          "height": 265
        },
        "id": "cbUl7U69HsGy",
        "outputId": "a179e66a-02cc-4855-f722-63318e7610eb"
      },
      "execution_count": null,
      "outputs": [
        {
          "output_type": "display_data",
          "data": {
            "text/plain": [
              "<Figure size 432x288 with 1 Axes>"
            ],
            "image/png": "[encoded data removed]"
          },
          "metadata": {
            "needs_background": "light"
          }
        }
      ]
    },
    {
      "cell_type": "code",
      "source": [
        "df['capital-loss'].nunique()"
      ],
      "metadata": {
        "colab": {
          "base_uri": "https://localhost:8080/"
        },
        "id": "GvtbGlBOHdTS",
        "outputId": "f9163e57-5f58-4547-da2f-4785f9d251f4"
      },
      "execution_count": null,
      "outputs": [
        {
          "output_type": "execute_result",
          "data": {
            "text/plain": [
              "92"
            ]
          },
          "metadata": {},
          "execution_count": 5
        }
      ]
    },
    {
      "cell_type": "code",
      "source": [
        "df['capital-loss'].unique()"
      ],
      "metadata": {
        "colab": {
          "base_uri": "https://localhost:8080/"
        },
        "id": "8IDyVvkOKcPl",
        "outputId": "3666ab0c-33a2-4a40-8907-1c4a11ceecb2"
      },
      "execution_count": null,
      "outputs": [
        {
          "output_type": "execute_result",
          "data": {
            "text/plain": [
              "array([   0, 2042, 1408, 1902, 1573, 1887, 1719, 1762, 1564, 2179, 1816,\n",
              "       1980, 1977, 1876, 1340, 2206, 1741, 1485, 2339, 2415, 1380, 1721,\n",
              "       2051, 2377, 1669, 2352, 1672,  653, 2392, 1504, 2001, 1590, 1651,\n",
              "       1628, 1848, 1740, 2002, 1579, 2258, 1602,  419, 2547, 2174, 2205,\n",
              "       1726, 2444, 1138, 2238,  625,  213, 1539,  880, 1668, 1092, 1594,\n",
              "       3004, 2231, 1844,  810, 2824, 2559, 2057, 1974,  974, 2149, 1825,\n",
              "       1735, 1258, 2129, 2603, 2282,  323, 4356, 2246, 1617, 1648, 2489,\n",
              "       3770, 1755, 3683, 2267, 2080, 2457,  155, 3900, 2201, 1944, 2467,\n",
              "       2163, 2754, 2472, 1411])"
            ]
          },
          "metadata": {},
          "execution_count": 7
        }
      ]
    },
    {
      "cell_type": "code",
      "source": [
        "df['capital-loss'].value_counts()"
      ],
      "metadata": {
        "colab": {
          "base_uri": "https://localhost:8080/"
        },
        "id": "JwZFjJ8oKhLE",
        "outputId": "895598b8-5b6b-4eb6-fa1f-05c88601a11e"
      },
      "execution_count": null,
      "outputs": [
        {
          "output_type": "execute_result",
          "data": {
            "text/plain": [
              "0       31042\n",
              "1902      202\n",
              "1977      168\n",
              "1887      159\n",
              "1848       51\n",
              "        ...  \n",
              "2080        1\n",
              "1539        1\n",
              "1844        1\n",
              "2489        1\n",
              "1411        1\n",
              "Name: capital-loss, Length: 92, dtype: int64"
            ]
          },
          "metadata": {},
          "execution_count": 69
        }
      ]
    },
    {
      "cell_type": "code",
      "source": [
        "plt.hist(df['capital-loss'])\n",
        "plt.show()"
      ],
      "metadata": {
        "colab": {
          "base_uri": "https://localhost:8080/",
          "height": 265
        },
        "id": "5qhcXMhTLvgB",
        "outputId": "d1cd4d59-3b36-4d43-db1b-d4a3247ba0c1"
      },
      "execution_count": null,
      "outputs": [
        {
          "output_type": "display_data",
          "data": {
            "text/plain": [
              "<Figure size 432x288 with 1 Axes>"
            ],
            "image/png": "[encoded data removed]"
          },
          "metadata": {
            "needs_background": "light"
          }
        }
      ]
    },
    {
      "cell_type": "code",
      "source": [
        "df['hours-per-week'].nunique()"
      ],
      "metadata": {
        "colab": {
          "base_uri": "https://localhost:8080/"
        },
        "id": "P2rplbgdL6zb",
        "outputId": "744e27b6-0f8d-4085-ec4f-369d2fd21841"
      },
      "execution_count": null,
      "outputs": [
        {
          "output_type": "execute_result",
          "data": {
            "text/plain": [
              "94"
            ]
          },
          "metadata": {},
          "execution_count": 74
        }
      ]
    },
    {
      "cell_type": "code",
      "source": [
        "df['hours-per-week'].unique()"
      ],
      "metadata": {
        "colab": {
          "base_uri": "https://localhost:8080/"
        },
        "id": "G2B6QgkrMfWl",
        "outputId": "a0f002f3-2cc3-4ddb-8832-3c979e0f9627"
      },
      "execution_count": null,
      "outputs": [
        {
          "output_type": "execute_result",
          "data": {
            "text/plain": [
              "array([40, 13, 16, 45, 50, 80, 30, 35, 60, 20, 52, 44, 15, 25, 38, 43, 55,\n",
              "       48, 58, 32, 70,  2, 22, 56, 41, 28, 36, 24, 46, 42, 12, 65,  1, 10,\n",
              "       34, 75, 98, 33, 54,  8,  6, 64, 19, 18, 72,  5,  9, 47, 37, 21, 26,\n",
              "       14,  4, 59,  7, 99, 53, 39, 62, 57, 78, 90, 66, 11, 49, 84,  3, 17,\n",
              "       68, 27, 85, 31, 51, 77, 63, 23, 87, 88, 73, 89, 97, 94, 29, 96, 67,\n",
              "       82, 86, 91, 81, 76, 92, 61, 74, 95])"
            ]
          },
          "metadata": {},
          "execution_count": 75
        }
      ]
    },
    {
      "cell_type": "code",
      "source": [
        "df['hours-per-week'].value_counts()"
      ],
      "metadata": {
        "colab": {
          "base_uri": "https://localhost:8080/"
        },
        "id": "adylxsIPMjV_",
        "outputId": "77d89f5e-cd0c-4486-f843-706b29f43ec9"
      },
      "execution_count": null,
      "outputs": [
        {
          "output_type": "execute_result",
          "data": {
            "text/plain": [
              "40    15217\n",
              "50     2819\n",
              "45     1824\n",
              "60     1475\n",
              "35     1297\n",
              "      ...  \n",
              "82        1\n",
              "92        1\n",
              "87        1\n",
              "74        1\n",
              "94        1\n",
              "Name: hours-per-week, Length: 94, dtype: int64"
            ]
          },
          "metadata": {},
          "execution_count": 76
        }
      ]
    },
    {
      "cell_type": "code",
      "source": [
        "plt.hist(df['hours-per-week'])\n",
        "plt.show()"
      ],
      "metadata": {
        "colab": {
          "base_uri": "https://localhost:8080/",
          "height": 265
        },
        "id": "cZrVro8LMo4n",
        "outputId": "6f72d32b-7e38-49ec-c5ae-b1f31e540155"
      },
      "execution_count": null,
      "outputs": [
        {
          "output_type": "display_data",
          "data": {
            "text/plain": [
              "<Figure size 432x288 with 1 Axes>"
            ],
            "image/png": "[encoded data removed]"
          },
          "metadata": {
            "needs_background": "light"
          }
        }
      ]
    },
    {
      "cell_type": "code",
      "source": [
        "df['native-country'].nunique()"
      ],
      "metadata": {
        "colab": {
          "base_uri": "https://localhost:8080/"
        },
        "id": "nPjPywZJM1XY",
        "outputId": "b45ed7cd-5617-4387-8853-59cc89784e78"
      },
      "execution_count": null,
      "outputs": [
        {
          "output_type": "execute_result",
          "data": {
            "text/plain": [
              "42"
            ]
          },
          "metadata": {},
          "execution_count": 78
        }
      ]
    },
    {
      "cell_type": "code",
      "source": [
        "df['native-country'].unique()"
      ],
      "metadata": {
        "colab": {
          "base_uri": "https://localhost:8080/"
        },
        "id": "ryP4RFpwNOxz",
        "outputId": "e67636ad-9111-4a44-8130-772d6a8c7cde"
      },
      "execution_count": null,
      "outputs": [
        {
          "output_type": "execute_result",
          "data": {
            "text/plain": [
              "array(['United-States', 'Cuba', 'Jamaica', 'India', '?', 'Mexico',\n",
              "       'South', 'Puerto-Rico', 'Honduras', 'England', 'Canada', 'Germany',\n",
              "       'Iran', 'Philippines', 'Italy', 'Poland', 'Columbia', 'Cambodia',\n",
              "       'Thailand', 'Ecuador', 'Laos', 'Taiwan', 'Haiti', 'Portugal',\n",
              "       'Dominican-Republic', 'El-Salvador', 'France', 'Guatemala',\n",
              "       'China', 'Japan', 'Yugoslavia', 'Peru',\n",
              "       'Outlying-US(Guam-USVI-etc)', 'Scotland', 'Trinadad&Tobago',\n",
              "       'Greece', 'Nicaragua', 'Vietnam', 'Hong', 'Ireland', 'Hungary',\n",
              "       'Holand-Netherlands'], dtype=object)"
            ]
          },
          "metadata": {},
          "execution_count": 79
        }
      ]
    },
    {
      "cell_type": "code",
      "source": [
        "df['native-country'].value_counts()"
      ],
      "metadata": {
        "colab": {
          "base_uri": "https://localhost:8080/"
        },
        "id": "E2j_PahVNRfF",
        "outputId": "67e89d1e-697c-4546-9187-52678fb2393d"
      },
      "execution_count": null,
      "outputs": [
        {
          "output_type": "execute_result",
          "data": {
            "text/plain": [
              "United-States                 29170\n",
              "Mexico                          643\n",
              "?                               583\n",
              "Philippines                     198\n",
              "Germany                         137\n",
              "Canada                          121\n",
              "Puerto-Rico                     114\n",
              "El-Salvador                     106\n",
              "India                           100\n",
              "Cuba                             95\n",
              "England                          90\n",
              "Jamaica                          81\n",
              "South                            80\n",
              "China                            75\n",
              "Italy                            73\n",
              "Dominican-Republic               70\n",
              "Vietnam                          67\n",
              "Guatemala                        64\n",
              "Japan                            62\n",
              "Poland                           60\n",
              "Columbia                         59\n",
              "Taiwan                           51\n",
              "Haiti                            44\n",
              "Iran                             43\n",
              "Portugal                         37\n",
              "Nicaragua                        34\n",
              "Peru                             31\n",
              "France                           29\n",
              "Greece                           29\n",
              "Ecuador                          28\n",
              "Ireland                          24\n",
              "Hong                             20\n",
              "Cambodia                         19\n",
              "Trinadad&Tobago                  19\n",
              "Laos                             18\n",
              "Thailand                         18\n",
              "Yugoslavia                       16\n",
              "Outlying-US(Guam-USVI-etc)       14\n",
              "Honduras                         13\n",
              "Hungary                          13\n",
              "Scotland                         12\n",
              "Holand-Netherlands                1\n",
              "Name: native-country, dtype: int64"
            ]
          },
          "metadata": {},
          "execution_count": 80
        }
      ]
    },
    {
      "cell_type": "code",
      "source": [
        "sns.displot(data=df,x='native-country',aspect=5)"
      ],
      "metadata": {
        "colab": {
          "base_uri": "https://localhost:8080/",
          "height": 218
        },
        "id": "4zTlvpiBSvzH",
        "outputId": "585b5219-33ab-44d7-d44a-371cbf7f309e"
      },
      "execution_count": null,
      "outputs": [
        {
          "output_type": "execute_result",
          "data": {
            "text/plain": [
              "<seaborn.axisgrid.FacetGrid at 0x7f0ab7a75dc0>"
            ]
          },
          "metadata": {},
          "execution_count": 59
        },
        {
          "output_type": "display_data",
          "data": {
            "text/plain": [
              "<Figure size 1800x360 with 1 Axes>"
            ],
            "image/png": "[encoded data removed]"
          },
          "metadata": {}
        }
      ]
    },
    {
      "cell_type": "code",
      "source": [
        "df['salary'].nunique()"
      ],
      "metadata": {
        "colab": {
          "base_uri": "https://localhost:8080/"
        },
        "id": "6lXKgvFINX5v",
        "outputId": "72d41e24-bbe7-400a-e779-f549d9e91905"
      },
      "execution_count": null,
      "outputs": [
        {
          "output_type": "execute_result",
          "data": {
            "text/plain": [
              "2"
            ]
          },
          "metadata": {},
          "execution_count": 81
        }
      ]
    },
    {
      "cell_type": "code",
      "source": [
        "df['salary'].unique()"
      ],
      "metadata": {
        "colab": {
          "base_uri": "https://localhost:8080/"
        },
        "id": "d-sLWnTbNlcJ",
        "outputId": "5fdb4a17-a34c-4b69-dc1b-b972a14395c5"
      },
      "execution_count": null,
      "outputs": [
        {
          "output_type": "execute_result",
          "data": {
            "text/plain": [
              "array(['<=50K', '>50K'], dtype=object)"
            ]
          },
          "metadata": {},
          "execution_count": 82
        }
      ]
    },
    {
      "cell_type": "code",
      "source": [
        "df['salary'].value_counts()"
      ],
      "metadata": {
        "colab": {
          "base_uri": "https://localhost:8080/"
        },
        "id": "-824ihmvNqwH",
        "outputId": "b4030276-3095-4adf-8be4-12daa1bf60e7"
      },
      "execution_count": null,
      "outputs": [
        {
          "output_type": "execute_result",
          "data": {
            "text/plain": [
              "<=50K    24720\n",
              ">50K      7841\n",
              "Name: salary, dtype: int64"
            ]
          },
          "metadata": {},
          "execution_count": 83
        }
      ]
    },
    {
      "cell_type": "code",
      "source": [
        "sns.displot(data=df,x='salary',aspect=1)"
      ],
      "metadata": {
        "colab": {
          "base_uri": "https://localhost:8080/",
          "height": 382
        },
        "id": "G8nhsmV2S5aN",
        "outputId": "e2af7b2b-2972-4b08-91cd-ea7a0cb26da7"
      },
      "execution_count": null,
      "outputs": [
        {
          "output_type": "execute_result",
          "data": {
            "text/plain": [
              "<seaborn.axisgrid.FacetGrid at 0x7f0ab7a75820>"
            ]
          },
          "metadata": {},
          "execution_count": 61
        },
        {
          "output_type": "display_data",
          "data": {
            "text/plain": [
              "<Figure size 360x360 with 1 Axes>"
            ],
            "image/png": "[encoded data removed]"
          },
          "metadata": {}
        }
      ]
    },
    {
      "cell_type": "code",
      "source": [],
      "metadata": {
        "id": "n1aJq5uwfGYt"
      },
      "execution_count": null,
      "outputs": []
    },
    {
      "cell_type": "code",
      "source": [
        "df.describe()"
      ],
      "metadata": {
        "colab": {
          "base_uri": "https://localhost:8080/",
          "height": 300
        },
        "id": "cbbb_Zx3eAsa",
        "outputId": "d6abfd22-43c2-4ed2-bde3-1357eed95324"
      },
      "execution_count": null,
      "outputs": [
        {
          "output_type": "execute_result",
          "data": {
            "text/plain": [
              "                age  education-num  capital-gain  capital-loss  hours-per-week\n",
              "count  32561.000000   32561.000000  32561.000000  32561.000000    32561.000000\n",
              "mean      38.581647      10.080679   1077.648844     87.303830       40.437456\n",
              "std       13.640433       2.572720   7385.292085    402.960219       12.347429\n",
              "min       17.000000       1.000000      0.000000      0.000000        1.000000\n",
              "25%       28.000000       9.000000      0.000000      0.000000       40.000000\n",
              "50%       37.000000      10.000000      0.000000      0.000000       40.000000\n",
              "75%       48.000000      12.000000      0.000000      0.000000       45.000000\n",
              "max       90.000000      16.000000  99999.000000   4356.000000       99.000000"
            ],
            "text/html": [
              "\n",
              "  <div id=\"df-ef8d20b7-e862-497b-83e4-7270ffa7ed95\">\n",
              "    <div class=\"colab-df-container\">\n",
              "      <div>\n",
              "<style scoped>\n",
              "    .dataframe tbody tr th:only-of-type {\n",
              "        vertical-align: middle;\n",
              "    }\n",
              "\n",
              "    .dataframe tbody tr th {\n",
              "        vertical-align: top;\n",
              "    }\n",
              "\n",
              "    .dataframe thead th {\n",
              "        text-align: right;\n",
              "    }\n",
              "</style>\n",
              "<table border=\"1\" class=\"dataframe\">\n",
              "  <thead>\n",
              "    <tr style=\"text-align: right;\">\n",
              "      <th></th>\n",
              "      <th>age</th>\n",
              "      <th>education-num</th>\n",
              "      <th>capital-gain</th>\n",
              "      <th>capital-loss</th>\n",
              "      <th>hours-per-week</th>\n",
              "    </tr>\n",
              "  </thead>\n",
              "  <tbody>\n",
              "    <tr>\n",
              "      <th>count</th>\n",
              "      <td>32561.000000</td>\n",
              "      <td>32561.000000</td>\n",
              "      <td>32561.000000</td>\n",
              "      <td>32561.000000</td>\n",
              "      <td>32561.000000</td>\n",
              "    </tr>\n",
              "    <tr>\n",
              "      <th>mean</th>\n",
              "      <td>38.581647</td>\n",
              "      <td>10.080679</td>\n",
              "      <td>1077.648844</td>\n",
              "      <td>87.303830</td>\n",
              "      <td>40.437456</td>\n",
              "    </tr>\n",
              "    <tr>\n",
              "      <th>std</th>\n",
              "      <td>13.640433</td>\n",
              "      <td>2.572720</td>\n",
              "      <td>7385.292085</td>\n",
              "      <td>402.960219</td>\n",
              "      <td>12.347429</td>\n",
              "    </tr>\n",
              "    <tr>\n",
              "      <th>min</th>\n",
              "      <td>17.000000</td>\n",
              "      <td>1.000000</td>\n",
              "      <td>0.000000</td>\n",
              "      <td>0.000000</td>\n",
              "      <td>1.000000</td>\n",
              "    </tr>\n",
              "    <tr>\n",
              "      <th>25%</th>\n",
              "      <td>28.000000</td>\n",
              "      <td>9.000000</td>\n",
              "      <td>0.000000</td>\n",
              "      <td>0.000000</td>\n",
              "      <td>40.000000</td>\n",
              "    </tr>\n",
              "    <tr>\n",
              "      <th>50%</th>\n",
              "      <td>37.000000</td>\n",
              "      <td>10.000000</td>\n",
              "      <td>0.000000</td>\n",
              "      <td>0.000000</td>\n",
              "      <td>40.000000</td>\n",
              "    </tr>\n",
              "    <tr>\n",
              "      <th>75%</th>\n",
              "      <td>48.000000</td>\n",
              "      <td>12.000000</td>\n",
              "      <td>0.000000</td>\n",
              "      <td>0.000000</td>\n",
              "      <td>45.000000</td>\n",
              "    </tr>\n",
              "    <tr>\n",
              "      <th>max</th>\n",
              "      <td>90.000000</td>\n",
              "      <td>16.000000</td>\n",
              "      <td>99999.000000</td>\n",
              "      <td>4356.000000</td>\n",
              "      <td>99.000000</td>\n",
              "    </tr>\n",
              "  </tbody>\n",
              "</table>\n",
              "</div>\n",
              "      <button class=\"colab-df-convert\" onclick=\"convertToInteractive('df-ef8d20b7-e862-497b-83e4-7270ffa7ed95')\"\n",
              "              title=\"Convert this dataframe to an interactive table.\"\n",
              "              style=\"display:none;\">\n",
              "        \n",
              "  <svg xmlns=\"http://www.w3.org/2000/svg\" height=\"24px\"viewBox=\"0 0 24 24\"\n",
              "       width=\"24px\">\n",
              "    <path d=\"M0 0h24v24H0V0z\" fill=\"none\"/>\n",
              "    <path d=\"M18.56 5.44l.94 2.06.94-2.06 2.06-.94-2.06-.94-.94-2.06-.94 2.06-2.06.94zm-11 1L8.5 8.5l.94-2.06 2.06-.94-2.06-.94L8.5 2.5l-.94 2.06-2.06.94zm10 10l.94 2.06.94-2.06 2.06-.94-2.06-.94-.94-2.06-.94 2.06-2.06.94z\"/><path d=\"M17.41 7.96l-1.37-1.37c-.4-.4-.92-.59-1.43-.59-.52 0-1.04.2-1.43.59L10.3 9.45l-7.72 7.72c-.78.78-.78 2.05 0 2.83L4 21.41c.39.39.9.59 1.41.59.51 0 1.02-.2 1.41-.59l7.78-7.78 2.81-2.81c.8-.78.8-2.07 0-2.86zM5.41 20L4 18.59l7.72-7.72 1.47 1.35L5.41 20z\"/>\n",
              "  </svg>\n",
              "      </button>\n",
              "      \n",
              "  <style>\n",
              "    .colab-df-container {\n",
              "      display:flex;\n",
              "      flex-wrap:wrap;\n",
              "      gap: 12px;\n",
              "    }\n",
              "\n",
              "    .colab-df-convert {\n",
              "      background-color: #E8F0FE;\n",
              "      border: none;\n",
              "      border-radius: 50%;\n",
              "      cursor: pointer;\n",
              "      display: none;\n",
              "      fill: #1967D2;\n",
              "      height: 32px;\n",
              "      padding: 0 0 0 0;\n",
              "      width: 32px;\n",
              "    }\n",
              "\n",
              "    .colab-df-convert:hover {\n",
              "      background-color: #E2EBFA;\n",
              "      box-shadow: 0px 1px 2px rgba(60, 64, 67, 0.3), 0px 1px 3px 1px rgba(60, 64, 67, 0.15);\n",
              "      fill: #174EA6;\n",
              "    }\n",
              "\n",
              "    [theme=dark] .colab-df-convert {\n",
              "      background-color: #3B4455;\n",
              "      fill: #D2E3FC;\n",
              "    }\n",
              "\n",
              "    [theme=dark] .colab-df-convert:hover {\n",
              "      background-color: #434B5C;\n",
              "      box-shadow: 0px 1px 3px 1px rgba(0, 0, 0, 0.15);\n",
              "      filter: drop-shadow(0px 1px 2px rgba(0, 0, 0, 0.3));\n",
              "      fill: #FFFFFF;\n",
              "    }\n",
              "  </style>\n",
              "\n",
              "      <script>\n",
              "        const buttonEl =\n",
              "          document.querySelector('#df-ef8d20b7-e862-497b-83e4-7270ffa7ed95 button.colab-df-convert');\n",
              "        buttonEl.style.display =\n",
              "          google.colab.kernel.accessAllowed ? 'block' : 'none';\n",
              "\n",
              "        async function convertToInteractive(key) {\n",
              "          const element = document.querySelector('#df-ef8d20b7-e862-497b-83e4-7270ffa7ed95');\n",
              "          const dataTable =\n",
              "            await google.colab.kernel.invokeFunction('convertToInteractive',\n",
              "                                                     [key], {});\n",
              "          if (!dataTable) return;\n",
              "\n",
              "          const docLinkHtml = 'Like what you see? Visit the ' +\n",
              "            '<a target=\"_blank\" href=https://colab.research.google.com/notebooks/data_table.ipynb>data table notebook</a>'\n",
              "            + ' to learn more about interactive tables.';\n",
              "          element.innerHTML = '';\n",
              "          dataTable['output_type'] = 'display_data';\n",
              "          await google.colab.output.renderOutput(dataTable, element);\n",
              "          const docLink = document.createElement('div');\n",
              "          docLink.innerHTML = docLinkHtml;\n",
              "          element.appendChild(docLink);\n",
              "        }\n",
              "      </script>\n",
              "    </div>\n",
              "  </div>\n",
              "  "
            ]
          },
          "metadata": {},
          "execution_count": 7
        }
      ]
    },
    {
      "cell_type": "code",
      "source": [
        "df.info()"
      ],
      "metadata": {
        "colab": {
          "base_uri": "https://localhost:8080/"
        },
        "id": "yaDpCXnRfpey",
        "outputId": "eb7cdf8d-9e22-4ae6-e176-ca4f19c5995b"
      },
      "execution_count": null,
      "outputs": [
        {
          "output_type": "stream",
          "name": "stdout",
          "text": [
            "<class 'pandas.core.frame.DataFrame'>\n",
            "RangeIndex: 32561 entries, 0 to 32560\n",
            "Data columns (total 14 columns):\n",
            " #   Column          Non-Null Count  Dtype \n",
            "---  ------          --------------  ----- \n",
            " 0   age             32561 non-null  int64 \n",
            " 1   workclass       32561 non-null  object\n",
            " 2   education       32561 non-null  object\n",
            " 3   education-num   32561 non-null  int64 \n",
            " 4   marital-status  32561 non-null  object\n",
            " 5   occupation      32561 non-null  object\n",
            " 6   relationship    32561 non-null  object\n",
            " 7   race            32561 non-null  object\n",
            " 8   sex             32561 non-null  object\n",
            " 9   capital-gain    32561 non-null  int64 \n",
            " 10  capital-loss    32561 non-null  int64 \n",
            " 11  hours-per-week  32561 non-null  int64 \n",
            " 12  native-country  32561 non-null  object\n",
            " 13  salary          32561 non-null  object\n",
            "dtypes: int64(5), object(9)\n",
            "memory usage: 3.5+ MB\n"
          ]
        }
      ]
    },
    {
      "cell_type": "code",
      "source": [],
      "metadata": {
        "id": "NELgxOHTay7k"
      },
      "execution_count": null,
      "outputs": []
    },
    {
      "cell_type": "markdown",
      "source": [
        "**PreProcessing**"
      ],
      "metadata": {
        "id": "gcvdZrT18UJI"
      }
    },
    {
      "cell_type": "code",
      "source": [
        "df.isna().sum()"
      ],
      "metadata": {
        "colab": {
          "base_uri": "https://localhost:8080/"
        },
        "id": "jFRhLNxQgdO0",
        "outputId": "9b7cf990-b240-4727-9b95-27073444fe01"
      },
      "execution_count": null,
      "outputs": [
        {
          "output_type": "execute_result",
          "data": {
            "text/plain": [
              "age               0\n",
              "workclass         0\n",
              "education         0\n",
              "education-num     0\n",
              "marital-status    0\n",
              "occupation        0\n",
              "relationship      0\n",
              "race              0\n",
              "sex               0\n",
              "capital-gain      0\n",
              "capital-loss      0\n",
              "hours-per-week    0\n",
              "native-country    0\n",
              "salary            0\n",
              "dtype: int64"
            ]
          },
          "metadata": {},
          "execution_count": 3
        }
      ]
    },
    {
      "cell_type": "markdown",
      "source": [
        "**Find the percentage of missing values**"
      ],
      "metadata": {
        "id": "zkuAwI3bislr"
      }
    },
    {
      "cell_type": "code",
      "source": [
        "col_names=df.columns\n",
        "size=df.shape[0]\n",
        "for i in col_names:\n",
        "  num=df[i].isin(['?']).sum()\n",
        "  if num>0:\n",
        "    print(i) \n",
        "    print(num)\n",
        "    print(\"{0:.2f}%\".format(float(num/size*100)))\n"
      ],
      "metadata": {
        "id": "gj2GfSoAgofG",
        "colab": {
          "base_uri": "https://localhost:8080/"
        },
        "outputId": "7ec66207-a260-49c0-c61d-f374b95c1820"
      },
      "execution_count": null,
      "outputs": [
        {
          "output_type": "stream",
          "name": "stdout",
          "text": [
            "workclass\n",
            "1836\n",
            "5.64%\n",
            "occupation\n",
            "1843\n",
            "5.66%\n",
            "native-country\n",
            "583\n",
            "1.79%\n"
          ]
        }
      ]
    },
    {
      "cell_type": "markdown",
      "source": [
        "**Missing value imputation**"
      ],
      "metadata": {
        "id": "mPo1q7_8V47W"
      }
    },
    {
      "cell_type": "code",
      "source": [
        "# All the columns are categorical so we can replace the missing values with mode "
      ],
      "metadata": {
        "id": "YTTMGWR1_wd9"
      },
      "execution_count": null,
      "outputs": []
    },
    {
      "cell_type": "code",
      "source": [
        "df['workclass']=df['workclass'].replace('?',df['workclass'].mode()[0])\n",
        "df['occupation']=df['occupation'].replace('?',df['occupation'].mode()[0])\n",
        "df['native-country']=df['native-country'].replace('?',df['native-country'].mode()[0])"
      ],
      "metadata": {
        "id": "SKUFYsha_8Ne"
      },
      "execution_count": null,
      "outputs": []
    },
    {
      "cell_type": "code",
      "source": [
        "df['workclass'].value_counts()"
      ],
      "metadata": {
        "colab": {
          "base_uri": "https://localhost:8080/"
        },
        "id": "lrgAO5hkB-aG",
        "outputId": "258a9adb-bd56-401c-9547-bc97feffad3a"
      },
      "execution_count": null,
      "outputs": [
        {
          "output_type": "execute_result",
          "data": {
            "text/plain": [
              "Private             24532\n",
              "Self-emp-not-inc     2541\n",
              "Local-gov            2093\n",
              "State-gov            1298\n",
              "Self-emp-inc         1116\n",
              "Federal-gov           960\n",
              "Without-pay            14\n",
              "Never-worked            7\n",
              "Name: workclass, dtype: int64"
            ]
          },
          "metadata": {},
          "execution_count": 6
        }
      ]
    },
    {
      "cell_type": "code",
      "source": [
        "df['occupation'].value_counts()"
      ],
      "metadata": {
        "colab": {
          "base_uri": "https://localhost:8080/"
        },
        "id": "4_7St5x58Hj-",
        "outputId": "dad20559-9017-4a8b-f5d2-bbcb6df94896"
      },
      "execution_count": null,
      "outputs": [
        {
          "output_type": "execute_result",
          "data": {
            "text/plain": [
              "Prof-specialty       5983\n",
              "Craft-repair         4099\n",
              "Exec-managerial      4066\n",
              "Adm-clerical         3770\n",
              "Sales                3650\n",
              "Other-service        3295\n",
              "Machine-op-inspct    2002\n",
              "Transport-moving     1597\n",
              "Handlers-cleaners    1370\n",
              "Farming-fishing       994\n",
              "Tech-support          928\n",
              "Protective-serv       649\n",
              "Priv-house-serv       149\n",
              "Armed-Forces            9\n",
              "Name: occupation, dtype: int64"
            ]
          },
          "metadata": {},
          "execution_count": 7
        }
      ]
    },
    {
      "cell_type": "code",
      "source": [
        "df.workclass.value_counts()"
      ],
      "metadata": {
        "colab": {
          "base_uri": "https://localhost:8080/"
        },
        "id": "KFgNXei8V5m6",
        "outputId": "91da2205-6c4d-45c3-8405-de6308126874"
      },
      "execution_count": null,
      "outputs": [
        {
          "output_type": "execute_result",
          "data": {
            "text/plain": [
              "Private             24532\n",
              "Self-emp-not-inc     2541\n",
              "Local-gov            2093\n",
              "State-gov            1298\n",
              "Self-emp-inc         1116\n",
              "Federal-gov           960\n",
              "Without-pay            14\n",
              "Never-worked            7\n",
              "Name: workclass, dtype: int64"
            ]
          },
          "metadata": {},
          "execution_count": 8
        }
      ]
    },
    {
      "cell_type": "code",
      "source": [
        "df.occupation.value_counts()"
      ],
      "metadata": {
        "colab": {
          "base_uri": "https://localhost:8080/"
        },
        "id": "112rXH2B3yIQ",
        "outputId": "4f2b909a-6f21-4077-ec09-cfc347032ef2"
      },
      "execution_count": null,
      "outputs": [
        {
          "output_type": "execute_result",
          "data": {
            "text/plain": [
              "Prof-specialty       5983\n",
              "Craft-repair         4099\n",
              "Exec-managerial      4066\n",
              "Adm-clerical         3770\n",
              "Sales                3650\n",
              "Other-service        3295\n",
              "Machine-op-inspct    2002\n",
              "Transport-moving     1597\n",
              "Handlers-cleaners    1370\n",
              "Farming-fishing       994\n",
              "Tech-support          928\n",
              "Protective-serv       649\n",
              "Priv-house-serv       149\n",
              "Armed-Forces            9\n",
              "Name: occupation, dtype: int64"
            ]
          },
          "metadata": {},
          "execution_count": 9
        }
      ]
    },
    {
      "cell_type": "code",
      "source": [
        "df['native-country'].value_counts()"
      ],
      "metadata": {
        "colab": {
          "base_uri": "https://localhost:8080/"
        },
        "id": "6kbtEqr25WnG",
        "outputId": "7768973e-6b72-47ef-c712-6e6881c7f319"
      },
      "execution_count": null,
      "outputs": [
        {
          "output_type": "execute_result",
          "data": {
            "text/plain": [
              "United-States                 29753\n",
              "Mexico                          643\n",
              "Philippines                     198\n",
              "Germany                         137\n",
              "Canada                          121\n",
              "Puerto-Rico                     114\n",
              "El-Salvador                     106\n",
              "India                           100\n",
              "Cuba                             95\n",
              "England                          90\n",
              "Jamaica                          81\n",
              "South                            80\n",
              "China                            75\n",
              "Italy                            73\n",
              "Dominican-Republic               70\n",
              "Vietnam                          67\n",
              "Guatemala                        64\n",
              "Japan                            62\n",
              "Poland                           60\n",
              "Columbia                         59\n",
              "Taiwan                           51\n",
              "Haiti                            44\n",
              "Iran                             43\n",
              "Portugal                         37\n",
              "Nicaragua                        34\n",
              "Peru                             31\n",
              "France                           29\n",
              "Greece                           29\n",
              "Ecuador                          28\n",
              "Ireland                          24\n",
              "Hong                             20\n",
              "Cambodia                         19\n",
              "Trinadad&Tobago                  19\n",
              "Laos                             18\n",
              "Thailand                         18\n",
              "Yugoslavia                       16\n",
              "Outlying-US(Guam-USVI-etc)       14\n",
              "Honduras                         13\n",
              "Hungary                          13\n",
              "Scotland                         12\n",
              "Holand-Netherlands                1\n",
              "Name: native-country, dtype: int64"
            ]
          },
          "metadata": {},
          "execution_count": 10
        }
      ]
    },
    {
      "cell_type": "markdown",
      "source": [
        "**Encode the categorical values**"
      ],
      "metadata": {
        "id": "dDjx3oblKtiL"
      }
    },
    {
      "cell_type": "code",
      "source": [
        "from sklearn.preprocessing import LabelEncoder\n",
        "le=LabelEncoder()"
      ],
      "metadata": {
        "id": "kHS9wWsOKtCT"
      },
      "execution_count": null,
      "outputs": []
    },
    {
      "cell_type": "code",
      "source": [
        "df['workclass']=le.fit_transform(df['workclass'])\n",
        "df['education']=le.fit_transform(df['education'])\n",
        "df['marital-status']=le.fit_transform(df['marital-status'])\n",
        "df['occupation']=le.fit_transform(df['occupation'])\n",
        "df['relationship']=le.fit_transform(df['relationship'])\n",
        "df['race']=le.fit_transform(df['race'])\n",
        "df['sex']=le.fit_transform(df['sex'])\n",
        "df['native-country']=le.fit_transform(df['native-country'])\n",
        "df['salary']=le.fit_transform(df['salary'])\n",
        "\n"
      ],
      "metadata": {
        "id": "5Oy_M764LYB1"
      },
      "execution_count": null,
      "outputs": []
    },
    {
      "cell_type": "code",
      "source": [
        "df"
      ],
      "metadata": {
        "colab": {
          "base_uri": "https://localhost:8080/",
          "height": 800
        },
        "id": "cHHW-tOmRLpK",
        "outputId": "f73bef51-20b9-4c05-91cc-c6a2953e5f94"
      },
      "execution_count": null,
      "outputs": [
        {
          "output_type": "execute_result",
          "data": {
            "text/plain": [
              "       age         workclass   education  education-num      marital-status  \\\n",
              "0       39         State-gov   Bachelors             13       Never-married   \n",
              "1       50  Self-emp-not-inc   Bachelors             13  Married-civ-spouse   \n",
              "2       38           Private     HS-grad              9            Divorced   \n",
              "3       53           Private        11th              7  Married-civ-spouse   \n",
              "4       28           Private   Bachelors             13  Married-civ-spouse   \n",
              "...    ...               ...         ...            ...                 ...   \n",
              "32556   27           Private  Assoc-acdm             12  Married-civ-spouse   \n",
              "32557   40           Private     HS-grad              9  Married-civ-spouse   \n",
              "32558   58           Private     HS-grad              9             Widowed   \n",
              "32559   22           Private     HS-grad              9       Never-married   \n",
              "32560   52      Self-emp-inc     HS-grad              9  Married-civ-spouse   \n",
              "\n",
              "              occupation   relationship   race     sex  capital-gain  \\\n",
              "0           Adm-clerical  Not-in-family  White    Male          2174   \n",
              "1        Exec-managerial        Husband  White    Male             0   \n",
              "2      Handlers-cleaners  Not-in-family  White    Male             0   \n",
              "3      Handlers-cleaners        Husband  Black    Male             0   \n",
              "4         Prof-specialty           Wife  Black  Female             0   \n",
              "...                  ...            ...    ...     ...           ...   \n",
              "32556       Tech-support           Wife  White  Female             0   \n",
              "32557  Machine-op-inspct        Husband  White    Male             0   \n",
              "32558       Adm-clerical      Unmarried  White  Female             0   \n",
              "32559       Adm-clerical      Own-child  White    Male             0   \n",
              "32560    Exec-managerial           Wife  White  Female         15024   \n",
              "\n",
              "       capital-loss  hours-per-week native-country salary  \n",
              "0                 0              40  United-States  <=50K  \n",
              "1                 0              13  United-States  <=50K  \n",
              "2                 0              40  United-States  <=50K  \n",
              "3                 0              40  United-States  <=50K  \n",
              "4                 0              40           Cuba  <=50K  \n",
              "...             ...             ...            ...    ...  \n",
              "32556             0              38  United-States  <=50K  \n",
              "32557             0              40  United-States   >50K  \n",
              "32558             0              40  United-States  <=50K  \n",
              "32559             0              20  United-States  <=50K  \n",
              "32560             0              40  United-States   >50K  \n",
              "\n",
              "[32561 rows x 14 columns]"
            ],
            "text/html": [
              "\n",
              "  <div id=\"df-481a3db2-9bd8-448b-8554-357507492e0b\">\n",
              "    <div class=\"colab-df-container\">\n",
              "      <div>\n",
              "<style scoped>\n",
              "    .dataframe tbody tr th:only-of-type {\n",
              "        vertical-align: middle;\n",
              "    }\n",
              "\n",
              "    .dataframe tbody tr th {\n",
              "        vertical-align: top;\n",
              "    }\n",
              "\n",
              "    .dataframe thead th {\n",
              "        text-align: right;\n",
              "    }\n",
              "</style>\n",
              "<table border=\"1\" class=\"dataframe\">\n",
              "  <thead>\n",
              "    <tr style=\"text-align: right;\">\n",
              "      <th></th>\n",
              "      <th>age</th>\n",
              "      <th>workclass</th>\n",
              "      <th>education</th>\n",
              "      <th>education-num</th>\n",
              "      <th>marital-status</th>\n",
              "      <th>occupation</th>\n",
              "      <th>relationship</th>\n",
              "      <th>race</th>\n",
              "      <th>sex</th>\n",
              "      <th>capital-gain</th>\n",
              "      <th>capital-loss</th>\n",
              "      <th>hours-per-week</th>\n",
              "      <th>native-country</th>\n",
              "      <th>salary</th>\n",
              "    </tr>\n",
              "  </thead>\n",
              "  <tbody>\n",
              "    <tr>\n",
              "      <th>0</th>\n",
              "      <td>39</td>\n",
              "      <td>State-gov</td>\n",
              "      <td>Bachelors</td>\n",
              "      <td>13</td>\n",
              "      <td>Never-married</td>\n",
              "      <td>Adm-clerical</td>\n",
              "      <td>Not-in-family</td>\n",
              "      <td>White</td>\n",
              "      <td>Male</td>\n",
              "      <td>2174</td>\n",
              "      <td>0</td>\n",
              "      <td>40</td>\n",
              "      <td>United-States</td>\n",
              "      <td>&lt;=50K</td>\n",
              "    </tr>\n",
              "    <tr>\n",
              "      <th>1</th>\n",
              "      <td>50</td>\n",
              "      <td>Self-emp-not-inc</td>\n",
              "      <td>Bachelors</td>\n",
              "      <td>13</td>\n",
              "      <td>Married-civ-spouse</td>\n",
              "      <td>Exec-managerial</td>\n",
              "      <td>Husband</td>\n",
              "      <td>White</td>\n",
              "      <td>Male</td>\n",
              "      <td>0</td>\n",
              "      <td>0</td>\n",
              "      <td>13</td>\n",
              "      <td>United-States</td>\n",
              "      <td>&lt;=50K</td>\n",
              "    </tr>\n",
              "    <tr>\n",
              "      <th>2</th>\n",
              "      <td>38</td>\n",
              "      <td>Private</td>\n",
              "      <td>HS-grad</td>\n",
              "      <td>9</td>\n",
              "      <td>Divorced</td>\n",
              "      <td>Handlers-cleaners</td>\n",
              "      <td>Not-in-family</td>\n",
              "      <td>White</td>\n",
              "      <td>Male</td>\n",
              "      <td>0</td>\n",
              "      <td>0</td>\n",
              "      <td>40</td>\n",
              "      <td>United-States</td>\n",
              "      <td>&lt;=50K</td>\n",
              "    </tr>\n",
              "    <tr>\n",
              "      <th>3</th>\n",
              "      <td>53</td>\n",
              "      <td>Private</td>\n",
              "      <td>11th</td>\n",
              "      <td>7</td>\n",
              "      <td>Married-civ-spouse</td>\n",
              "      <td>Handlers-cleaners</td>\n",
              "      <td>Husband</td>\n",
              "      <td>Black</td>\n",
              "      <td>Male</td>\n",
              "      <td>0</td>\n",
              "      <td>0</td>\n",
              "      <td>40</td>\n",
              "      <td>United-States</td>\n",
              "      <td>&lt;=50K</td>\n",
              "    </tr>\n",
              "    <tr>\n",
              "      <th>4</th>\n",
              "      <td>28</td>\n",
              "      <td>Private</td>\n",
              "      <td>Bachelors</td>\n",
              "      <td>13</td>\n",
              "      <td>Married-civ-spouse</td>\n",
              "      <td>Prof-specialty</td>\n",
              "      <td>Wife</td>\n",
              "      <td>Black</td>\n",
              "      <td>Female</td>\n",
              "      <td>0</td>\n",
              "      <td>0</td>\n",
              "      <td>40</td>\n",
              "      <td>Cuba</td>\n",
              "      <td>&lt;=50K</td>\n",
              "    </tr>\n",
              "    <tr>\n",
              "      <th>...</th>\n",
              "      <td>...</td>\n",
              "      <td>...</td>\n",
              "      <td>...</td>\n",
              "      <td>...</td>\n",
              "      <td>...</td>\n",
              "      <td>...</td>\n",
              "      <td>...</td>\n",
              "      <td>...</td>\n",
              "      <td>...</td>\n",
              "      <td>...</td>\n",
              "      <td>...</td>\n",
              "      <td>...</td>\n",
              "      <td>...</td>\n",
              "      <td>...</td>\n",
              "    </tr>\n",
              "    <tr>\n",
              "      <th>32556</th>\n",
              "      <td>27</td>\n",
              "      <td>Private</td>\n",
              "      <td>Assoc-acdm</td>\n",
              "      <td>12</td>\n",
              "      <td>Married-civ-spouse</td>\n",
              "      <td>Tech-support</td>\n",
              "      <td>Wife</td>\n",
              "      <td>White</td>\n",
              "      <td>Female</td>\n",
              "      <td>0</td>\n",
              "      <td>0</td>\n",
              "      <td>38</td>\n",
              "      <td>United-States</td>\n",
              "      <td>&lt;=50K</td>\n",
              "    </tr>\n",
              "    <tr>\n",
              "      <th>32557</th>\n",
              "      <td>40</td>\n",
              "      <td>Private</td>\n",
              "      <td>HS-grad</td>\n",
              "      <td>9</td>\n",
              "      <td>Married-civ-spouse</td>\n",
              "      <td>Machine-op-inspct</td>\n",
              "      <td>Husband</td>\n",
              "      <td>White</td>\n",
              "      <td>Male</td>\n",
              "      <td>0</td>\n",
              "      <td>0</td>\n",
              "      <td>40</td>\n",
              "      <td>United-States</td>\n",
              "      <td>&gt;50K</td>\n",
              "    </tr>\n",
              "    <tr>\n",
              "      <th>32558</th>\n",
              "      <td>58</td>\n",
              "      <td>Private</td>\n",
              "      <td>HS-grad</td>\n",
              "      <td>9</td>\n",
              "      <td>Widowed</td>\n",
              "      <td>Adm-clerical</td>\n",
              "      <td>Unmarried</td>\n",
              "      <td>White</td>\n",
              "      <td>Female</td>\n",
              "      <td>0</td>\n",
              "      <td>0</td>\n",
              "      <td>40</td>\n",
              "      <td>United-States</td>\n",
              "      <td>&lt;=50K</td>\n",
              "    </tr>\n",
              "    <tr>\n",
              "      <th>32559</th>\n",
              "      <td>22</td>\n",
              "      <td>Private</td>\n",
              "      <td>HS-grad</td>\n",
              "      <td>9</td>\n",
              "      <td>Never-married</td>\n",
              "      <td>Adm-clerical</td>\n",
              "      <td>Own-child</td>\n",
              "      <td>White</td>\n",
              "      <td>Male</td>\n",
              "      <td>0</td>\n",
              "      <td>0</td>\n",
              "      <td>20</td>\n",
              "      <td>United-States</td>\n",
              "      <td>&lt;=50K</td>\n",
              "    </tr>\n",
              "    <tr>\n",
              "      <th>32560</th>\n",
              "      <td>52</td>\n",
              "      <td>Self-emp-inc</td>\n",
              "      <td>HS-grad</td>\n",
              "      <td>9</td>\n",
              "      <td>Married-civ-spouse</td>\n",
              "      <td>Exec-managerial</td>\n",
              "      <td>Wife</td>\n",
              "      <td>White</td>\n",
              "      <td>Female</td>\n",
              "      <td>15024</td>\n",
              "      <td>0</td>\n",
              "      <td>40</td>\n",
              "      <td>United-States</td>\n",
              "      <td>&gt;50K</td>\n",
              "    </tr>\n",
              "  </tbody>\n",
              "</table>\n",
              "<p>32561 rows × 14 columns</p>\n",
              "</div>\n",
              "      <button class=\"colab-df-convert\" onclick=\"convertToInteractive('df-481a3db2-9bd8-448b-8554-357507492e0b')\"\n",
              "              title=\"Convert this dataframe to an interactive table.\"\n",
              "              style=\"display:none;\">\n",
              "        \n",
              "  <svg xmlns=\"http://www.w3.org/2000/svg\" height=\"24px\"viewBox=\"0 0 24 24\"\n",
              "       width=\"24px\">\n",
              "    <path d=\"M0 0h24v24H0V0z\" fill=\"none\"/>\n",
              "    <path d=\"M18.56 5.44l.94 2.06.94-2.06 2.06-.94-2.06-.94-.94-2.06-.94 2.06-2.06.94zm-11 1L8.5 8.5l.94-2.06 2.06-.94-2.06-.94L8.5 2.5l-.94 2.06-2.06.94zm10 10l.94 2.06.94-2.06 2.06-.94-2.06-.94-.94-2.06-.94 2.06-2.06.94z\"/><path d=\"M17.41 7.96l-1.37-1.37c-.4-.4-.92-.59-1.43-.59-.52 0-1.04.2-1.43.59L10.3 9.45l-7.72 7.72c-.78.78-.78 2.05 0 2.83L4 21.41c.39.39.9.59 1.41.59.51 0 1.02-.2 1.41-.59l7.78-7.78 2.81-2.81c.8-.78.8-2.07 0-2.86zM5.41 20L4 18.59l7.72-7.72 1.47 1.35L5.41 20z\"/>\n",
              "  </svg>\n",
              "      </button>\n",
              "      \n",
              "  <style>\n",
              "    .colab-df-container {\n",
              "      display:flex;\n",
              "      flex-wrap:wrap;\n",
              "      gap: 12px;\n",
              "    }\n",
              "\n",
              "    .colab-df-convert {\n",
              "      background-color: #E8F0FE;\n",
              "      border: none;\n",
              "      border-radius: 50%;\n",
              "      cursor: pointer;\n",
              "      display: none;\n",
              "      fill: #1967D2;\n",
              "      height: 32px;\n",
              "      padding: 0 0 0 0;\n",
              "      width: 32px;\n",
              "    }\n",
              "\n",
              "    .colab-df-convert:hover {\n",
              "      background-color: #E2EBFA;\n",
              "      box-shadow: 0px 1px 2px rgba(60, 64, 67, 0.3), 0px 1px 3px 1px rgba(60, 64, 67, 0.15);\n",
              "      fill: #174EA6;\n",
              "    }\n",
              "\n",
              "    [theme=dark] .colab-df-convert {\n",
              "      background-color: #3B4455;\n",
              "      fill: #D2E3FC;\n",
              "    }\n",
              "\n",
              "    [theme=dark] .colab-df-convert:hover {\n",
              "      background-color: #434B5C;\n",
              "      box-shadow: 0px 1px 3px 1px rgba(0, 0, 0, 0.15);\n",
              "      filter: drop-shadow(0px 1px 2px rgba(0, 0, 0, 0.3));\n",
              "      fill: #FFFFFF;\n",
              "    }\n",
              "  </style>\n",
              "\n",
              "      <script>\n",
              "        const buttonEl =\n",
              "          document.querySelector('#df-481a3db2-9bd8-448b-8554-357507492e0b button.colab-df-convert');\n",
              "        buttonEl.style.display =\n",
              "          google.colab.kernel.accessAllowed ? 'block' : 'none';\n",
              "\n",
              "        async function convertToInteractive(key) {\n",
              "          const element = document.querySelector('#df-481a3db2-9bd8-448b-8554-357507492e0b');\n",
              "          const dataTable =\n",
              "            await google.colab.kernel.invokeFunction('convertToInteractive',\n",
              "                                                     [key], {});\n",
              "          if (!dataTable) return;\n",
              "\n",
              "          const docLinkHtml = 'Like what you see? Visit the ' +\n",
              "            '<a target=\"_blank\" href=https://colab.research.google.com/notebooks/data_table.ipynb>data table notebook</a>'\n",
              "            + ' to learn more about interactive tables.';\n",
              "          element.innerHTML = '';\n",
              "          dataTable['output_type'] = 'display_data';\n",
              "          await google.colab.output.renderOutput(dataTable, element);\n",
              "          const docLink = document.createElement('div');\n",
              "          docLink.innerHTML = docLinkHtml;\n",
              "          element.appendChild(docLink);\n",
              "        }\n",
              "      </script>\n",
              "    </div>\n",
              "  </div>\n",
              "  "
            ]
          },
          "metadata": {},
          "execution_count": 11
        }
      ]
    },
    {
      "cell_type": "code",
      "source": [
        "df.to_csv('newsalarydata.csv',index=False)\n"
      ],
      "metadata": {
        "id": "AI9Z5r4M9ZNX"
      },
      "execution_count": null,
      "outputs": []
    },
    {
      "cell_type": "code",
      "source": [],
      "metadata": {
        "id": "HOlCVTdu9buV"
      },
      "execution_count": null,
      "outputs": []
    },
    {
      "cell_type": "markdown",
      "source": [
        "**Check the correlation of columns**"
      ],
      "metadata": {
        "id": "k5TG_zOwYFvU"
      }
    },
    {
      "cell_type": "code",
      "source": [
        "# for featurereduction "
      ],
      "metadata": {
        "id": "LyaVuEVeYSWe"
      },
      "execution_count": null,
      "outputs": []
    },
    {
      "cell_type": "code",
      "source": [
        "cm=df.corr()\n",
        "plt.rcParams['figure.figsize']=8,8\n",
        "sns.heatmap(cm,annot=True,cbar=True)"
      ],
      "metadata": {
        "id": "yAzKNWDK6bWh",
        "colab": {
          "base_uri": "https://localhost:8080/",
          "height": 571
        },
        "outputId": "d09be0b7-f81c-443a-fb9e-059f05850628"
      },
      "execution_count": null,
      "outputs": [
        {
          "output_type": "execute_result",
          "data": {
            "text/plain": [
              "<Axes: >"
            ]
          },
          "metadata": {},
          "execution_count": 10
        },
        {
          "output_type": "display_data",
          "data": {
            "text/plain": [
              "<Figure size 576x576 with 2 Axes>"
            ],
            "image/png": "[encoded data removed]"
          },
          "metadata": {
            "needs_background": "light"
          }
        }
      ]
    },
    {
      "cell_type": "code",
      "source": [
        "#education and education-num 36% correlated\n",
        "#workclass and occupation 25% correlated\n",
        "#hours-per-work and sex 23% correlated  \n",
        "#marital-status and relationship 19% correlated\n",
        "#relationship and sex highly negatively correlated"
      ],
      "metadata": {
        "id": "9v-bDzXYceU0"
      },
      "execution_count": null,
      "outputs": []
    },
    {
      "cell_type": "markdown",
      "source": [
        "Feature selection"
      ],
      "metadata": {
        "id": "vw6wxrkCc7SD"
      }
    },
    {
      "cell_type": "code",
      "source": [
        "df.columns"
      ],
      "metadata": {
        "colab": {
          "base_uri": "https://localhost:8080/"
        },
        "id": "lfqwTQQJdHJ5",
        "outputId": "c921e6bc-ae65-499c-97e4-0990278de095"
      },
      "execution_count": null,
      "outputs": [
        {
          "output_type": "execute_result",
          "data": {
            "text/plain": [
              "Index(['age', 'workclass', 'education', 'education-num', 'marital-status',\n",
              "       'occupation', 'relationship', 'race', 'sex', 'capital-gain',\n",
              "       'capital-loss', 'hours-per-week', 'native-country', 'salary'],\n",
              "      dtype='object')"
            ]
          },
          "metadata": {},
          "execution_count": 15
        }
      ]
    },
    {
      "cell_type": "code",
      "source": [
        "df"
      ],
      "metadata": {
        "id": "Txpyd5d0qZrY"
      },
      "execution_count": null,
      "outputs": []
    },
    {
      "cell_type": "markdown",
      "source": [
        "**Feature Reduction**"
      ],
      "metadata": {
        "id": "IKr5w0FRc13N"
      }
    },
    {
      "cell_type": "markdown",
      "source": [
        "As per the correlation maytrix we can reduce the columns of age,education-num,occupation,relationship,race,sex,capital-gain,capital-loss,native-country"
      ],
      "metadata": {
        "id": "xCKBTDZujCE5"
      }
    },
    {
      "cell_type": "code",
      "source": [
        "df1=df.drop(['age','education-num','occupation','relationship','race','sex','capital-gain','capital-loss','native-country'],axis=1)\n",
        "df1"
      ],
      "metadata": {
        "colab": {
          "base_uri": "https://localhost:8080/",
          "height": 424
        },
        "id": "aI6KaKy3c25y",
        "outputId": "147cc8fd-01dc-4057-dc4b-ef52478ea9b8"
      },
      "execution_count": null,
      "outputs": [
        {
          "output_type": "execute_result",
          "data": {
            "text/plain": [
              "              workclass   education      marital-status  hours-per-week salary\n",
              "0             State-gov   Bachelors       Never-married              40  <=50K\n",
              "1      Self-emp-not-inc   Bachelors  Married-civ-spouse              13  <=50K\n",
              "2               Private     HS-grad            Divorced              40  <=50K\n",
              "3               Private        11th  Married-civ-spouse              40  <=50K\n",
              "4               Private   Bachelors  Married-civ-spouse              40  <=50K\n",
              "...                 ...         ...                 ...             ...    ...\n",
              "32556           Private  Assoc-acdm  Married-civ-spouse              38  <=50K\n",
              "32557           Private     HS-grad  Married-civ-spouse              40   >50K\n",
              "32558           Private     HS-grad             Widowed              40  <=50K\n",
              "32559           Private     HS-grad       Never-married              20  <=50K\n",
              "32560      Self-emp-inc     HS-grad  Married-civ-spouse              40   >50K\n",
              "\n",
              "[32561 rows x 5 columns]"
            ],
            "text/html": [
              "\n",
              "  <div id=\"df-f70db1f9-33b8-400c-b7a8-75d8b2daea34\">\n",
              "    <div class=\"colab-df-container\">\n",
              "      <div>\n",
              "<style scoped>\n",
              "    .dataframe tbody tr th:only-of-type {\n",
              "        vertical-align: middle;\n",
              "    }\n",
              "\n",
              "    .dataframe tbody tr th {\n",
              "        vertical-align: top;\n",
              "    }\n",
              "\n",
              "    .dataframe thead th {\n",
              "        text-align: right;\n",
              "    }\n",
              "</style>\n",
              "<table border=\"1\" class=\"dataframe\">\n",
              "  <thead>\n",
              "    <tr style=\"text-align: right;\">\n",
              "      <th></th>\n",
              "      <th>workclass</th>\n",
              "      <th>education</th>\n",
              "      <th>marital-status</th>\n",
              "      <th>hours-per-week</th>\n",
              "      <th>salary</th>\n",
              "    </tr>\n",
              "  </thead>\n",
              "  <tbody>\n",
              "    <tr>\n",
              "      <th>0</th>\n",
              "      <td>State-gov</td>\n",
              "      <td>Bachelors</td>\n",
              "      <td>Never-married</td>\n",
              "      <td>40</td>\n",
              "      <td>&lt;=50K</td>\n",
              "    </tr>\n",
              "    <tr>\n",
              "      <th>1</th>\n",
              "      <td>Self-emp-not-inc</td>\n",
              "      <td>Bachelors</td>\n",
              "      <td>Married-civ-spouse</td>\n",
              "      <td>13</td>\n",
              "      <td>&lt;=50K</td>\n",
              "    </tr>\n",
              "    <tr>\n",
              "      <th>2</th>\n",
              "      <td>Private</td>\n",
              "      <td>HS-grad</td>\n",
              "      <td>Divorced</td>\n",
              "      <td>40</td>\n",
              "      <td>&lt;=50K</td>\n",
              "    </tr>\n",
              "    <tr>\n",
              "      <th>3</th>\n",
              "      <td>Private</td>\n",
              "      <td>11th</td>\n",
              "      <td>Married-civ-spouse</td>\n",
              "      <td>40</td>\n",
              "      <td>&lt;=50K</td>\n",
              "    </tr>\n",
              "    <tr>\n",
              "      <th>4</th>\n",
              "      <td>Private</td>\n",
              "      <td>Bachelors</td>\n",
              "      <td>Married-civ-spouse</td>\n",
              "      <td>40</td>\n",
              "      <td>&lt;=50K</td>\n",
              "    </tr>\n",
              "    <tr>\n",
              "      <th>...</th>\n",
              "      <td>...</td>\n",
              "      <td>...</td>\n",
              "      <td>...</td>\n",
              "      <td>...</td>\n",
              "      <td>...</td>\n",
              "    </tr>\n",
              "    <tr>\n",
              "      <th>32556</th>\n",
              "      <td>Private</td>\n",
              "      <td>Assoc-acdm</td>\n",
              "      <td>Married-civ-spouse</td>\n",
              "      <td>38</td>\n",
              "      <td>&lt;=50K</td>\n",
              "    </tr>\n",
              "    <tr>\n",
              "      <th>32557</th>\n",
              "      <td>Private</td>\n",
              "      <td>HS-grad</td>\n",
              "      <td>Married-civ-spouse</td>\n",
              "      <td>40</td>\n",
              "      <td>&gt;50K</td>\n",
              "    </tr>\n",
              "    <tr>\n",
              "      <th>32558</th>\n",
              "      <td>Private</td>\n",
              "      <td>HS-grad</td>\n",
              "      <td>Widowed</td>\n",
              "      <td>40</td>\n",
              "      <td>&lt;=50K</td>\n",
              "    </tr>\n",
              "    <tr>\n",
              "      <th>32559</th>\n",
              "      <td>Private</td>\n",
              "      <td>HS-grad</td>\n",
              "      <td>Never-married</td>\n",
              "      <td>20</td>\n",
              "      <td>&lt;=50K</td>\n",
              "    </tr>\n",
              "    <tr>\n",
              "      <th>32560</th>\n",
              "      <td>Self-emp-inc</td>\n",
              "      <td>HS-grad</td>\n",
              "      <td>Married-civ-spouse</td>\n",
              "      <td>40</td>\n",
              "      <td>&gt;50K</td>\n",
              "    </tr>\n",
              "  </tbody>\n",
              "</table>\n",
              "<p>32561 rows × 5 columns</p>\n",
              "</div>\n",
              "      <button class=\"colab-df-convert\" onclick=\"convertToInteractive('df-f70db1f9-33b8-400c-b7a8-75d8b2daea34')\"\n",
              "              title=\"Convert this dataframe to an interactive table.\"\n",
              "              style=\"display:none;\">\n",
              "        \n",
              "  <svg xmlns=\"http://www.w3.org/2000/svg\" height=\"24px\"viewBox=\"0 0 24 24\"\n",
              "       width=\"24px\">\n",
              "    <path d=\"M0 0h24v24H0V0z\" fill=\"none\"/>\n",
              "    <path d=\"M18.56 5.44l.94 2.06.94-2.06 2.06-.94-2.06-.94-.94-2.06-.94 2.06-2.06.94zm-11 1L8.5 8.5l.94-2.06 2.06-.94-2.06-.94L8.5 2.5l-.94 2.06-2.06.94zm10 10l.94 2.06.94-2.06 2.06-.94-2.06-.94-.94-2.06-.94 2.06-2.06.94z\"/><path d=\"M17.41 7.96l-1.37-1.37c-.4-.4-.92-.59-1.43-.59-.52 0-1.04.2-1.43.59L10.3 9.45l-7.72 7.72c-.78.78-.78 2.05 0 2.83L4 21.41c.39.39.9.59 1.41.59.51 0 1.02-.2 1.41-.59l7.78-7.78 2.81-2.81c.8-.78.8-2.07 0-2.86zM5.41 20L4 18.59l7.72-7.72 1.47 1.35L5.41 20z\"/>\n",
              "  </svg>\n",
              "      </button>\n",
              "      \n",
              "  <style>\n",
              "    .colab-df-container {\n",
              "      display:flex;\n",
              "      flex-wrap:wrap;\n",
              "      gap: 12px;\n",
              "    }\n",
              "\n",
              "    .colab-df-convert {\n",
              "      background-color: #E8F0FE;\n",
              "      border: none;\n",
              "      border-radius: 50%;\n",
              "      cursor: pointer;\n",
              "      display: none;\n",
              "      fill: #1967D2;\n",
              "      height: 32px;\n",
              "      padding: 0 0 0 0;\n",
              "      width: 32px;\n",
              "    }\n",
              "\n",
              "    .colab-df-convert:hover {\n",
              "      background-color: #E2EBFA;\n",
              "      box-shadow: 0px 1px 2px rgba(60, 64, 67, 0.3), 0px 1px 3px 1px rgba(60, 64, 67, 0.15);\n",
              "      fill: #174EA6;\n",
              "    }\n",
              "\n",
              "    [theme=dark] .colab-df-convert {\n",
              "      background-color: #3B4455;\n",
              "      fill: #D2E3FC;\n",
              "    }\n",
              "\n",
              "    [theme=dark] .colab-df-convert:hover {\n",
              "      background-color: #434B5C;\n",
              "      box-shadow: 0px 1px 3px 1px rgba(0, 0, 0, 0.15);\n",
              "      filter: drop-shadow(0px 1px 2px rgba(0, 0, 0, 0.3));\n",
              "      fill: #FFFFFF;\n",
              "    }\n",
              "  </style>\n",
              "\n",
              "      <script>\n",
              "        const buttonEl =\n",
              "          document.querySelector('#df-f70db1f9-33b8-400c-b7a8-75d8b2daea34 button.colab-df-convert');\n",
              "        buttonEl.style.display =\n",
              "          google.colab.kernel.accessAllowed ? 'block' : 'none';\n",
              "\n",
              "        async function convertToInteractive(key) {\n",
              "          const element = document.querySelector('#df-f70db1f9-33b8-400c-b7a8-75d8b2daea34');\n",
              "          const dataTable =\n",
              "            await google.colab.kernel.invokeFunction('convertToInteractive',\n",
              "                                                     [key], {});\n",
              "          if (!dataTable) return;\n",
              "\n",
              "          const docLinkHtml = 'Like what you see? Visit the ' +\n",
              "            '<a target=\"_blank\" href=https://colab.research.google.com/notebooks/data_table.ipynb>data table notebook</a>'\n",
              "            + ' to learn more about interactive tables.';\n",
              "          element.innerHTML = '';\n",
              "          dataTable['output_type'] = 'display_data';\n",
              "          await google.colab.output.renderOutput(dataTable, element);\n",
              "          const docLink = document.createElement('div');\n",
              "          docLink.innerHTML = docLinkHtml;\n",
              "          element.appendChild(docLink);\n",
              "        }\n",
              "      </script>\n",
              "    </div>\n",
              "  </div>\n",
              "  "
            ]
          },
          "metadata": {},
          "execution_count": 5
        }
      ]
    },
    {
      "cell_type": "markdown",
      "source": [
        "**Handling outliers**"
      ],
      "metadata": {
        "id": "cauYgnK_TySr"
      }
    },
    {
      "cell_type": "code",
      "source": [
        "\n",
        "#plot boxplots of non categorical column\n",
        "sns.boxplot(data=df1)\n",
        "plt.title('Data distriobution')\n",
        "plt.show()"
      ],
      "metadata": {
        "colab": {
          "base_uri": "https://localhost:8080/",
          "height": 281
        },
        "id": "v94n1jHMmIFu",
        "outputId": "7dfdba86-2e98-4d20-9fbe-f77531b20b9f"
      },
      "execution_count": null,
      "outputs": [
        {
          "output_type": "display_data",
          "data": {
            "text/plain": [
              "<Figure size 432x288 with 1 Axes>"
            ],
            "image/png": "[encoded data removed]"
          },
          "metadata": {
            "needs_background": "light"
          }
        }
      ]
    },
    {
      "cell_type": "code",
      "source": [
        "Q1_hpw=df1['hours-per-week'].quantile(0.25)\n",
        "Q3_hpw=df1['hours-per-week'].quantile(0.75)\n"
      ],
      "metadata": {
        "id": "5RXCpOI7Uu_q"
      },
      "execution_count": null,
      "outputs": []
    },
    {
      "cell_type": "code",
      "source": [
        "IQR_hpw=Q3_hpw-Q1_hpw"
      ],
      "metadata": {
        "id": "Tu7xxozWUv7j"
      },
      "execution_count": null,
      "outputs": []
    },
    {
      "cell_type": "code",
      "source": [
        "lower=Q1_hpw-1.5* IQR_hpw\n",
        "upper=Q3_hpw+1.5* IQR_hpw\n",
        "print(lower)\n",
        "print(upper)"
      ],
      "metadata": {
        "id": "zbyKsWVxotw2",
        "colab": {
          "base_uri": "https://localhost:8080/"
        },
        "outputId": "a3bb08e1-2184-4986-f069-939f48b36836"
      },
      "execution_count": null,
      "outputs": [
        {
          "output_type": "stream",
          "name": "stdout",
          "text": [
            "32.5\n",
            "52.5\n"
          ]
        }
      ]
    },
    {
      "cell_type": "code",
      "source": [
        "out=[]\n",
        "for x in df1['hours-per-week']:\n",
        "  if(x>upper)|(x<lower):\n",
        "    out.append(x)\n",
        "print(out)"
      ],
      "metadata": {
        "id": "9TykMU-fouyp",
        "colab": {
          "base_uri": "https://localhost:8080/"
        },
        "outputId": "4def9100-cfe3-45da-ba3c-19a95bc123b8"
      },
      "execution_count": null,
      "outputs": [
        {
          "output_type": "stream",
          "name": "stdout",
          "text": [
            "[13, 16, 80, 30, 60, 20, 60, 80, 15, 25, 30, 60, 55, 60, 58, 32, 70, 20, 2, 22, 30, 25, 60, 60, 32, 25, 56, 60, 28, 60, 60, 20, 30, 30, 24, 24, 2, 60, 20, 16, 20, 25, 12, 65, 1, 28, 24, 55, 60, 12, 60, 55, 20, 10, 20, 55, 70, 20, 20, 60, 30, 20, 30, 60, 12, 75, 24, 24, 98, 15, 60, 56, 16, 60, 80, 25, 54, 25, 15, 24, 10, 15, 55, 60, 30, 20, 8, 25, 25, 30, 24, 55, 15, 15, 10, 10, 30, 25, 6, 16, 55, 64, 65, 25, 24, 60, 19, 30, 18, 60, 72, 24, 25, 60, 28, 5, 55, 60, 20, 60, 16, 60, 24, 6, 30, 20, 20, 20, 60, 60, 25, 20, 20, 8, 30, 20, 24, 80, 58, 9, 30, 8, 20, 32, 55, 60, 12, 70, 25, 30, 24, 60, 80, 25, 28, 21, 60, 20, 60, 32, 55, 20, 20, 24, 55, 60, 64, 26, 60, 60, 14, 60, 60, 55, 15, 20, 32, 15, 60, 25, 20, 10, 16, 5, 4, 55, 30, 20, 20, 60, 20, 30, 65, 25, 15, 60, 20, 59, 24, 15, 20, 25, 72, 20, 20, 18, 70, 55, 30, 32, 55, 24, 56, 60, 55, 30, 16, 60, 20, 30, 20, 20, 30, 20, 75, 60, 60, 24, 25, 15, 24, 6, 20, 18, 55, 56, 20, 70, 15, 28, 25, 60, 7, 30, 70, 60, 15, 28, 60, 30, 65, 55, 55, 20, 15, 10, 30, 60, 30, 20, 25, 5, 60, 55, 10, 99, 25, 30, 20, 30, 70, 70, 20, 60, 20, 20, 70, 20, 30, 55, 58, 65, 60, 16, 25, 32, 30, 30, 55, 20, 2, 1, 75, 30, 8, 60, 55, 20, 55, 75, 32, 80, 80, 60, 20, 15, 20, 60, 28, 60, 20, 25, 8, 60, 25, 25, 55, 70, 60, 53, 20, 60, 60, 30, 54, 54, 28, 60, 20, 8, 99, 30, 30, 30, 65, 60, 25, 60, 55, 80, 30, 60, 62, 20, 16, 72, 60, 60, 30, 24, 30, 25, 59, 12, 20, 60, 60, 1, 80, 7, 10, 30, 65, 57, 60, 25, 55, 30, 24, 20, 20, 60, 16, 16, 30, 60, 60, 55, 24, 6, 30, 55, 60, 70, 5, 30, 60, 25, 32, 78, 60, 20, 90, 15, 60, 16, 60, 66, 30, 60, 2, 60, 75, 60, 5, 11, 24, 25, 25, 60, 65, 55, 80, 55, 14, 65, 58, 30, 9, 55, 15, 12, 30, 70, 30, 24, 30, 65, 8, 6, 16, 16, 30, 8, 20, 16, 10, 60, 60, 60, 20, 30, 30, 60, 70, 60, 21, 70, 24, 60, 10, 20, 55, 20, 30, 16, 18, 60, 60, 20, 12, 60, 60, 80, 20, 60, 15, 15, 70, 30, 90, 16, 72, 32, 30, 60, 55, 60, 60, 70, 10, 20, 20, 20, 30, 10, 60, 56, 84, 30, 55, 10, 24, 30, 30, 60, 8, 24, 54, 15, 20, 25, 65, 10, 60, 99, 15, 16, 55, 55, 60, 70, 18, 55, 80, 25, 60, 25, 6, 20, 30, 55, 20, 3, 70, 60, 55, 30, 70, 20, 80, 60, 10, 16, 60, 70, 10, 30, 20, 20, 30, 32, 30, 60, 17, 60, 16, 4, 55, 60, 10, 55, 30, 5, 53, 16, 15, 70, 60, 25, 28, 55, 30, 70, 65, 55, 17, 55, 8, 15, 30, 5, 75, 68, 65, 30, 18, 70, 60, 60, 12, 60, 30, 30, 8, 22, 55, 18, 55, 25, 60, 21, 10, 10, 70, 20, 27, 55, 25, 24, 15, 15, 20, 60, 60, 60, 20, 60, 60, 55, 20, 60, 90, 65, 20, 25, 25, 25, 60, 30, 30, 25, 3, 70, 60, 30, 10, 30, 65, 55, 54, 30, 25, 65, 25, 30, 60, 84, 25, 24, 20, 3, 25, 25, 30, 20, 8, 55, 54, 60, 30, 10, 5, 8, 20, 25, 60, 60, 55, 25, 6, 60, 60, 30, 56, 25, 25, 65, 8, 70, 60, 21, 15, 20, 20, 30, 13, 65, 30, 65, 25, 60, 20, 3, 24, 55, 27, 55, 25, 30, 20, 20, 60, 70, 60, 20, 60, 30, 15, 25, 55, 24, 60, 56, 70, 75, 25, 24, 28, 15, 58, 5, 70, 55, 15, 20, 25, 30, 20, 55, 25, 20, 30, 32, 10, 55, 11, 20, 65, 30, 60, 25, 84, 30, 55, 18, 60, 70, 60, 60, 30, 60, 55, 60, 25, 60, 20, 10, 30, 30, 20, 20, 24, 30, 30, 55, 60, 55, 60, 20, 15, 60, 60, 20, 30, 58, 55, 25, 30, 60, 10, 16, 27, 30, 75, 5, 8, 30, 60, 98, 60, 70, 5, 2, 25, 20, 16, 10, 55, 22, 30, 80, 10, 85, 20, 56, 30, 30, 30, 25, 60, 30, 32, 30, 8, 60, 25, 30, 60, 65, 32, 60, 75, 25, 60, 60, 6, 55, 60, 9, 15, 56, 30, 30, 55, 56, 60, 20, 15, 30, 30, 60, 15, 60, 30, 10, 56, 25, 84, 70, 65, 20, 20, 56, 30, 55, 60, 20, 55, 30, 65, 15, 25, 70, 60, 60, 60, 30, 60, 60, 30, 65, 18, 5, 55, 17, 55, 60, 70, 65, 80, 25, 55, 20, 55, 60, 30, 10, 25, 20, 25, 72, 2, 60, 28, 3, 30, 55, 30, 60, 54, 16, 60, 30, 62, 84, 26, 25, 20, 32, 25, 70, 60, 54, 60, 20, 60, 20, 30, 60, 18, 30, 60, 25, 32, 20, 59, 60, 15, 32, 55, 12, 20, 25, 20, 55, 20, 55, 20, 60, 20, 30, 16, 15, 60, 20, 25, 65, 20, 55, 24, 28, 25, 20, 60, 16, 60, 20, 16, 60, 32, 55, 12, 60, 20, 99, 25, 65, 32, 12, 32, 30, 20, 20, 25, 20, 16, 20, 15, 27, 56, 27, 60, 60, 20, 12, 32, 60, 60, 30, 60, 60, 75, 30, 60, 20, 30, 30, 5, 30, 60, 20, 20, 60, 20, 22, 55, 60, 5, 28, 30, 8, 30, 30, 30, 30, 80, 20, 30, 55, 30, 30, 30, 20, 56, 3, 60, 20, 66, 32, 60, 75, 20, 60, 10, 30, 18, 10, 30, 20, 16, 24, 30, 60, 66, 70, 24, 30, 20, 72, 20, 60, 60, 30, 31, 25, 60, 25, 24, 24, 20, 55, 20, 84, 30, 14, 60, 60, 30, 20, 10, 30, 60, 21, 62, 10, 24, 20, 55, 20, 8, 56, 60, 60, 20, 30, 25, 14, 15, 55, 30, 15, 20, 6, 60, 12, 60, 70, 15, 20, 60, 55, 20, 60, 22, 20, 60, 16, 24, 99, 60, 30, 84, 54, 78, 20, 10, 30, 20, 15, 20, 60, 20, 12, 20, 60, 55, 30, 30, 28, 60, 20, 20, 20, 65, 18, 60, 30, 20, 10, 70, 56, 25, 72, 10, 10, 5, 25, 30, 20, 25, 25, 60, 30, 3, 30, 30, 75, 70, 24, 55, 25, 16, 20, 60, 30, 20, 20, 85, 15, 30, 56, 99, 12, 25, 80, 20, 53, 27, 16, 30, 80, 20, 60, 84, 65, 12, 60, 20, 10, 20, 70, 20, 55, 20, 20, 10, 12, 25, 12, 28, 30, 10, 65, 18, 32, 30, 30, 30, 55, 99, 70, 55, 56, 30, 60, 65, 30, 20, 60, 20, 4, 24, 25, 55, 60, 12, 60, 70, 60, 60, 60, 30, 10, 30, 26, 55, 60, 30, 30, 70, 24, 60, 30, 55, 16, 3, 27, 21, 60, 30, 60, 10, 60, 12, 20, 25, 60, 25, 16, 55, 24, 24, 20, 30, 60, 12, 60, 15, 25, 60, 30, 8, 10, 60, 20, 55, 20, 15, 30, 12, 20, 15, 70, 15, 20, 20, 13, 30, 25, 24, 8, 65, 77, 20, 84, 28, 55, 32, 60, 6, 12, 60, 60, 10, 8, 60, 20, 84, 60, 16, 30, 20, 20, 70, 70, 20, 60, 30, 16, 9, 54, 32, 20, 32, 60, 70, 60, 24, 20, 60, 90, 20, 65, 60, 30, 75, 30, 20, 8, 24, 18, 15, 60, 25, 20, 15, 60, 60, 60, 8, 20, 20, 16, 60, 10, 20, 30, 60, 60, 60, 60, 55, 13, 30, 25, 20, 60, 15, 30, 30, 24, 30, 25, 10, 30, 60, 15, 20, 32, 16, 60, 98, 55, 10, 58, 25, 60, 65, 60, 60, 20, 18, 55, 60, 55, 24, 30, 30, 20, 30, 55, 70, 60, 55, 30, 8, 30, 30, 55, 2, 20, 26, 20, 15, 60, 16, 20, 30, 20, 25, 20, 20, 56, 75, 12, 25, 30, 20, 60, 20, 60, 80, 25, 12, 20, 20, 20, 15, 30, 12, 60, 55, 20, 32, 60, 55, 10, 8, 60, 25, 55, 25, 60, 55, 25, 20, 60, 20, 60, 30, 56, 20, 30, 25, 30, 56, 24, 53, 30, 30, 20, 70, 20, 60, 60, 99, 20, 30, 12, 21, 55, 25, 64, 10, 25, 28, 60, 60, 30, 30, 70, 20, 63, 99, 30, 4, 32, 60, 25, 16, 12, 55, 55, 60, 80, 25, 65, 10, 25, 20, 18, 32, 80, 75, 25, 80, 10, 16, 25, 12, 30, 72, 60, 30, 75, 30, 60, 55, 56, 60, 30, 20, 20, 72, 30, 30, 30, 20, 70, 55, 60, 60, 1, 3, 55, 24, 75, 25, 25, 25, 60, 1, 20, 30, 60, 30, 15, 27, 32, 16, 30, 10, 80, 30, 60, 30, 60, 56, 20, 30, 72, 65, 30, 12, 60, 10, 60, 25, 55, 32, 60, 25, 55, 30, 22, 1, 20, 15, 20, 55, 60, 20, 10, 18, 1, 20, 60, 60, 70, 70, 12, 16, 15, 55, 30, 60, 24, 60, 6, 8, 24, 11, 25, 20, 30, 53, 60, 60, 20, 85, 30, 20, 20, 30, 15, 30, 20, 24, 55, 25, 16, 3, 20, 60, 30, 55, 32, 16, 55, 30, 55, 60, 20, 20, 28, 70, 60, 16, 24, 25, 60, 60, 7, 30, 15, 60, 60, 60, 30, 60, 20, 75, 60, 20, 68, 30, 55, 5, 10, 24, 16, 32, 55, 70, 98, 8, 60, 55, 60, 30, 60, 70, 30, 80, 10, 18, 23, 30, 24, 30, 70, 55, 60, 32, 70, 20, 60, 60, 20, 70, 55, 16, 24, 60, 32, 55, 60, 15, 25, 5, 2, 60, 9, 30, 15, 20, 60, 60, 20, 60, 55, 20, 60, 55, 24, 60, 60, 55, 25, 60, 10, 65, 30, 4, 30, 20, 30, 20, 60, 30, 56, 25, 20, 30, 10, 60, 20, 30, 28, 23, 12, 60, 55, 25, 15, 55, 20, 55, 8, 25, 30, 70, 30, 25, 55, 30, 24, 20, 25, 55, 30, 16, 20, 60, 87, 65, 60, 54, 30, 88, 16, 8, 73, 70, 8, 60, 17, 32, 25, 18, 70, 15, 24, 25, 10, 24, 30, 24, 60, 32, 60, 30, 20, 17, 20, 65, 60, 20, 90, 55, 60, 75, 10, 30, 30, 13, 55, 80, 55, 10, 55, 20, 8, 15, 55, 30, 20, 30, 30, 60, 63, 25, 60, 60, 25, 55, 20, 6, 30, 55, 25, 60, 10, 99, 30, 60, 25, 15, 75, 18, 55, 65, 6, 25, 70, 32, 65, 20, 30, 60, 16, 25, 16, 66, 25, 14, 60, 14, 90, 25, 65, 60, 20, 20, 20, 16, 60, 60, 55, 72, 20, 25, 25, 90, 80, 15, 24, 15, 65, 20, 60, 60, 10, 10, 55, 10, 70, 13, 20, 7, 25, 5, 20, 15, 55, 60, 26, 20, 80, 60, 70, 20, 12, 30, 2, 8, 72, 60, 72, 12, 24, 60, 20, 60, 18, 10, 32, 60, 32, 60, 20, 25, 99, 70, 32, 70, 60, 30, 30, 75, 25, 60, 30, 63, 30, 60, 75, 55, 60, 60, 65, 60, 10, 30, 20, 20, 15, 12, 60, 21, 55, 24, 2, 60, 60, 55, 20, 53, 20, 20, 32, 20, 25, 20, 30, 30, 20, 25, 65, 20, 70, 65, 30, 60, 20, 80, 56, 28, 60, 55, 25, 20, 6, 10, 25, 15, 30, 20, 32, 13, 89, 60, 25, 30, 60, 30, 60, 32, 60, 10, 30, 8, 15, 60, 55, 60, 75, 30, 55, 20, 30, 32, 55, 60, 60, 30, 20, 20, 20, 30, 30, 12, 72, 20, 60, 60, 60, 32, 60, 55, 55, 30, 20, 30, 60, 8, 20, 15, 20, 30, 25, 20, 70, 60, 55, 25, 30, 15, 55, 60, 24, 55, 12, 10, 32, 25, 58, 24, 57, 25, 60, 30, 22, 60, 20, 30, 30, 55, 25, 23, 15, 10, 20, 30, 30, 30, 20, 60, 60, 60, 30, 8, 20, 20, 20, 60, 25, 55, 15, 25, 60, 70, 60, 70, 32, 24, 20, 60, 27, 8, 80, 60, 25, 20, 30, 20, 25, 30, 60, 15, 25, 30, 80, 20, 25, 20, 55, 30, 24, 15, 55, 80, 32, 20, 28, 15, 20, 70, 65, 24, 65, 10, 60, 10, 25, 60, 20, 15, 60, 30, 75, 56, 24, 97, 32, 55, 70, 70, 60, 12, 25, 58, 25, 60, 55, 25, 24, 66, 60, 20, 6, 24, 21, 24, 30, 60, 30, 60, 8, 56, 30, 8, 16, 60, 30, 20, 55, 32, 8, 15, 55, 25, 60, 20, 20, 30, 30, 60, 54, 85, 78, 58, 20, 60, 12, 30, 30, 80, 55, 60, 55, 56, 16, 60, 20, 60, 60, 10, 58, 20, 8, 60, 60, 22, 30, 26, 20, 20, 16, 32, 10, 32, 30, 20, 30, 20, 60, 55, 10, 60, 30, 32, 20, 60, 15, 30, 65, 55, 20, 32, 55, 55, 32, 24, 60, 90, 60, 60, 30, 26, 90, 27, 24, 30, 60, 63, 84, 24, 15, 99, 20, 20, 30, 18, 25, 65, 28, 10, 4, 30, 30, 75, 60, 60, 65, 20, 55, 30, 15, 16, 12, 84, 60, 60, 60, 32, 80, 20, 24, 18, 65, 24, 65, 60, 25, 55, 20, 8, 20, 10, 59, 80, 30, 15, 32, 8, 20, 60, 60, 60, 72, 30, 70, 65, 20, 12, 18, 60, 4, 20, 30, 30, 70, 15, 30, 55, 20, 28, 25, 30, 60, 70, 30, 55, 80, 72, 30, 30, 20, 99, 28, 80, 60, 55, 30, 30, 18, 65, 24, 55, 16, 25, 2, 32, 20, 32, 1, 10, 60, 12, 20, 30, 6, 70, 10, 60, 30, 55, 15, 22, 60, 9, 32, 32, 24, 6, 60, 55, 16, 55, 80, 20, 30, 30, 60, 10, 10, 25, 80, 30, 20, 60, 30, 60, 15, 65, 65, 20, 21, 10, 5, 84, 80, 30, 60, 65, 32, 99, 30, 25, 60, 15, 84, 60, 70, 20, 30, 20, 10, 80, 60, 15, 25, 65, 80, 20, 16, 27, 30, 31, 60, 60, 80, 20, 65, 16, 60, 60, 32, 60, 80, 15, 60, 20, 99, 16, 12, 72, 60, 19, 30, 60, 9, 90, 75, 20, 60, 30, 16, 30, 6, 6, 15, 12, 60, 10, 55, 55, 11, 75, 60, 20, 20, 70, 25, 60, 28, 20, 55, 30, 60, 20, 30, 55, 15, 20, 10, 58, 30, 58, 30, 55, 72, 30, 30, 25, 15, 60, 65, 65, 60, 60, 20, 25, 18, 20, 55, 30, 60, 8, 15, 65, 30, 25, 22, 32, 55, 8, 80, 60, 60, 20, 60, 60, 60, 24, 20, 16, 10, 94, 55, 30, 60, 20, 26, 15, 6, 55, 1, 30, 20, 30, 30, 55, 60, 70, 15, 6, 20, 10, 15, 60, 30, 75, 24, 30, 15, 55, 60, 55, 18, 30, 16, 25, 20, 60, 12, 10, 60, 28, 32, 55, 60, 70, 24, 8, 20, 60, 30, 60, 60, 3, 30, 25, 30, 12, 30, 4, 10, 60, 60, 14, 60, 15, 24, 20, 20, 54, 65, 25, 19, 55, 80, 56, 25, 60, 16, 32, 30, 20, 32, 55, 30, 60, 55, 30, 10, 25, 30, 30, 24, 8, 25, 20, 65, 70, 15, 12, 20, 15, 25, 60, 17, 20, 30, 60, 72, 25, 70, 20, 54, 30, 12, 60, 30, 60, 20, 66, 30, 30, 60, 60, 30, 32, 25, 56, 28, 80, 32, 26, 12, 60, 28, 60, 55, 30, 29, 30, 20, 60, 30, 25, 55, 20, 25, 66, 30, 8, 65, 20, 20, 10, 12, 30, 65, 25, 65, 60, 25, 30, 20, 8, 18, 28, 85, 53, 20, 20, 24, 80, 55, 20, 15, 60, 29, 56, 20, 25, 60, 32, 15, 21, 60, 65, 60, 55, 55, 30, 6, 25, 25, 99, 4, 60, 56, 99, 27, 30, 30, 70, 28, 30, 60, 32, 15, 25, 11, 64, 80, 55, 55, 24, 24, 24, 65, 16, 15, 60, 70, 16, 8, 20, 55, 25, 60, 56, 10, 17, 20, 55, 60, 24, 60, 60, 20, 20, 55, 25, 15, 75, 60, 8, 53, 70, 55, 25, 20, 25, 55, 19, 25, 30, 25, 28, 32, 25, 25, 77, 24, 55, 60, 85, 72, 12, 30, 60, 15, 60, 20, 60, 72, 70, 32, 70, 20, 20, 21, 20, 60, 30, 64, 65, 30, 60, 84, 12, 16, 80, 20, 65, 99, 30, 20, 60, 20, 25, 30, 30, 30, 60, 70, 9, 26, 15, 7, 60, 30, 16, 55, 30, 20, 72, 30, 25, 32, 17, 60, 30, 60, 20, 19, 70, 26, 30, 55, 32, 32, 60, 85, 56, 99, 60, 20, 60, 20, 18, 72, 26, 25, 20, 7, 30, 6, 15, 30, 25, 70, 25, 30, 63, 8, 70, 20, 14, 15, 60, 20, 60, 30, 30, 26, 15, 60, 25, 60, 30, 70, 96, 20, 4, 66, 20, 16, 30, 20, 30, 11, 20, 24, 15, 30, 24, 65, 12, 25, 20, 60, 8, 99, 65, 15, 25, 20, 60, 20, 15, 24, 55, 20, 67, 60, 55, 70, 20, 20, 25, 57, 20, 25, 24, 25, 60, 56, 60, 55, 30, 20, 56, 77, 25, 20, 30, 60, 60, 60, 60, 60, 75, 25, 25, 6, 24, 65, 60, 15, 16, 60, 25, 14, 4, 25, 16, 30, 15, 8, 20, 30, 56, 55, 55, 30, 8, 25, 4, 16, 30, 20, 55, 20, 82, 20, 70, 60, 20, 70, 20, 20, 72, 60, 30, 30, 20, 25, 10, 20, 25, 70, 60, 30, 25, 28, 20, 60, 15, 2, 30, 20, 80, 24, 60, 58, 55, 72, 10, 20, 30, 60, 80, 55, 70, 30, 25, 55, 54, 60, 90, 3, 12, 25, 70, 20, 25, 55, 55, 30, 30, 25, 55, 25, 25, 55, 30, 99, 24, 25, 25, 60, 60, 57, 4, 60, 60, 30, 20, 60, 55, 60, 60, 72, 8, 20, 3, 55, 21, 20, 60, 15, 65, 20, 30, 20, 60, 60, 25, 20, 60, 70, 60, 60, 30, 60, 80, 55, 30, 10, 10, 55, 30, 80, 24, 30, 25, 70, 55, 30, 60, 25, 60, 25, 30, 32, 20, 60, 72, 24, 10, 20, 20, 20, 15, 60, 70, 70, 60, 10, 20, 20, 30, 55, 15, 72, 5, 20, 30, 60, 30, 20, 70, 20, 15, 60, 8, 9, 30, 6, 20, 60, 20, 30, 30, 24, 25, 16, 15, 16, 72, 30, 32, 65, 20, 30, 19, 55, 6, 20, 15, 20, 30, 15, 25, 20, 60, 60, 25, 55, 18, 30, 62, 1, 25, 80, 16, 60, 27, 20, 65, 20, 60, 65, 58, 66, 60, 10, 25, 28, 60, 97, 6, 30, 60, 24, 60, 20, 30, 30, 60, 20, 20, 10, 20, 60, 55, 20, 25, 20, 10, 72, 72, 15, 60, 20, 25, 12, 20, 65, 22, 55, 12, 15, 32, 30, 55, 20, 32, 60, 55, 25, 60, 8, 60, 16, 16, 60, 60, 55, 15, 20, 6, 60, 10, 26, 15, 55, 25, 12, 60, 24, 60, 30, 72, 20, 60, 60, 60, 30, 60, 60, 10, 20, 20, 30, 30, 12, 60, 4, 30, 20, 15, 60, 25, 20, 15, 60, 30, 60, 2, 30, 60, 60, 32, 72, 7, 20, 60, 30, 60, 20, 20, 99, 84, 20, 60, 60, 30, 60, 30, 32, 72, 20, 20, 30, 56, 30, 54, 30, 54, 55, 15, 60, 60, 20, 60, 60, 20, 30, 20, 70, 22, 8, 20, 12, 55, 12, 60, 55, 60, 80, 20, 30, 30, 15, 30, 30, 30, 55, 55, 20, 60, 4, 20, 60, 26, 30, 30, 20, 25, 20, 30, 30, 55, 12, 30, 60, 20, 25, 15, 60, 30, 12, 25, 60, 55, 5, 20, 30, 30, 25, 56, 12, 30, 30, 30, 60, 60, 55, 30, 65, 16, 60, 55, 99, 10, 60, 20, 20, 8, 20, 60, 60, 20, 60, 20, 55, 20, 15, 16, 10, 60, 30, 25, 20, 32, 70, 70, 10, 30, 16, 8, 75, 30, 20, 85, 80, 30, 24, 20, 25, 62, 25, 20, 25, 12, 25, 60, 60, 54, 20, 70, 30, 17, 28, 8, 28, 60, 60, 32, 20, 20, 60, 10, 60, 10, 55, 16, 60, 60, 65, 30, 60, 32, 55, 65, 15, 3, 55, 5, 23, 60, 16, 80, 60, 20, 20, 65, 30, 30, 60, 30, 60, 30, 10, 32, 60, 65, 20, 65, 25, 10, 80, 30, 70, 99, 30, 55, 60, 60, 20, 4, 20, 25, 55, 15, 30, 30, 25, 20, 30, 55, 15, 60, 24, 24, 75, 30, 60, 30, 30, 65, 21, 60, 18, 60, 20, 25, 25, 20, 60, 60, 25, 30, 55, 15, 99, 55, 24, 12, 32, 30, 20, 15, 6, 60, 30, 7, 24, 70, 55, 6, 55, 25, 60, 25, 60, 80, 14, 30, 62, 60, 16, 60, 32, 60, 55, 24, 20, 65, 25, 20, 2, 90, 24, 65, 55, 20, 60, 8, 25, 65, 28, 63, 28, 16, 60, 20, 3, 80, 8, 20, 60, 25, 25, 24, 80, 10, 25, 32, 30, 60, 25, 15, 2, 30, 60, 10, 25, 30, 60, 15, 25, 7, 20, 20, 20, 20, 25, 4, 20, 55, 57, 28, 24, 70, 23, 72, 29, 64, 20, 25, 9, 56, 25, 26, 16, 20, 30, 20, 20, 20, 70, 15, 20, 58, 60, 32, 60, 27, 55, 20, 60, 60, 72, 20, 30, 70, 25, 28, 21, 20, 55, 60, 30, 25, 25, 10, 30, 4, 60, 60, 55, 60, 60, 15, 21, 54, 55, 60, 10, 60, 15, 30, 25, 60, 30, 20, 25, 30, 60, 12, 86, 80, 55, 23, 15, 20, 25, 24, 55, 60, 2, 20, 8, 70, 60, 55, 60, 30, 60, 25, 24, 20, 60, 20, 30, 75, 20, 25, 25, 20, 55, 32, 20, 60, 20, 15, 55, 20, 20, 60, 16, 20, 30, 60, 8, 60, 60, 18, 20, 30, 55, 24, 30, 55, 65, 60, 32, 15, 55, 20, 30, 99, 60, 28, 70, 60, 55, 20, 99, 60, 25, 60, 60, 23, 56, 12, 75, 30, 12, 99, 10, 60, 80, 30, 20, 65, 24, 10, 55, 17, 70, 26, 65, 70, 70, 6, 55, 60, 3, 55, 84, 75, 25, 75, 30, 15, 72, 60, 55, 55, 70, 30, 20, 15, 10, 8, 20, 60, 60, 25, 25, 25, 15, 55, 15, 60, 20, 55, 55, 56, 30, 58, 15, 25, 12, 5, 20, 10, 4, 55, 25, 60, 99, 60, 16, 12, 72, 25, 60, 8, 25, 24, 60, 60, 20, 20, 20, 60, 24, 55, 25, 30, 20, 26, 3, 55, 25, 84, 20, 60, 25, 22, 30, 56, 15, 12, 25, 20, 30, 55, 55, 15, 65, 20, 30, 30, 55, 55, 13, 2, 30, 17, 60, 28, 25, 56, 30, 28, 13, 24, 60, 25, 6, 10, 22, 20, 65, 30, 55, 58, 25, 10, 28, 30, 15, 8, 12, 60, 30, 55, 20, 15, 24, 32, 24, 65, 60, 13, 30, 60, 10, 30, 65, 20, 20, 20, 20, 32, 20, 20, 5, 30, 3, 25, 30, 30, 55, 20, 12, 16, 55, 60, 30, 60, 30, 32, 18, 30, 60, 60, 7, 60, 70, 58, 60, 25, 25, 15, 70, 30, 20, 60, 25, 20, 20, 70, 16, 70, 5, 20, 20, 25, 65, 70, 8, 60, 65, 62, 30, 20, 84, 15, 70, 20, 27, 30, 26, 30, 55, 30, 60, 70, 60, 60, 70, 60, 9, 23, 20, 25, 10, 16, 70, 30, 25, 30, 20, 32, 10, 20, 17, 55, 30, 30, 60, 20, 20, 65, 60, 30, 24, 80, 30, 84, 60, 60, 20, 32, 25, 12, 70, 15, 16, 4, 58, 30, 30, 55, 55, 20, 60, 60, 10, 24, 56, 24, 20, 80, 15, 60, 20, 55, 11, 16, 30, 6, 20, 99, 64, 60, 20, 25, 6, 25, 25, 54, 20, 60, 20, 91, 70, 2, 60, 60, 60, 8, 25, 25, 60, 25, 25, 24, 20, 60, 14, 60, 55, 55, 20, 27, 65, 60, 72, 25, 30, 25, 20, 32, 5, 20, 18, 60, 32, 56, 81, 30, 70, 28, 15, 20, 8, 28, 15, 12, 70, 30, 30, 15, 6, 55, 32, 20, 15, 28, 55, 30, 30, 60, 25, 7, 60, 15, 20, 25, 17, 16, 30, 60, 20, 32, 20, 19, 60, 20, 55, 60, 15, 20, 65, 32, 15, 72, 60, 55, 65, 55, 12, 32, 60, 60, 60, 25, 84, 70, 60, 15, 53, 60, 60, 96, 20, 20, 99, 20, 60, 20, 16, 70, 60, 16, 56, 20, 30, 32, 30, 60, 10, 25, 12, 30, 32, 60, 55, 14, 15, 30, 30, 30, 60, 18, 20, 30, 20, 20, 55, 20, 25, 24, 55, 20, 99, 24, 25, 55, 60, 30, 4, 25, 20, 24, 60, 20, 30, 20, 8, 62, 70, 55, 15, 20, 30, 70, 10, 60, 11, 20, 15, 65, 30, 20, 30, 20, 25, 8, 30, 60, 22, 55, 55, 60, 27, 30, 65, 76, 20, 17, 99, 65, 18, 60, 18, 80, 60, 16, 78, 60, 55, 30, 12, 72, 60, 3, 20, 30, 60, 15, 55, 30, 24, 60, 75, 60, 20, 15, 99, 16, 60, 16, 16, 10, 24, 80, 20, 20, 30, 55, 20, 25, 99, 15, 30, 25, 30, 56, 32, 60, 20, 60, 20, 60, 32, 20, 22, 18, 32, 30, 75, 4, 20, 60, 80, 55, 10, 30, 30, 60, 4, 60, 20, 70, 30, 4, 65, 55, 20, 72, 28, 65, 13, 10, 8, 6, 24, 7, 55, 60, 60, 84, 20, 14, 20, 55, 55, 20, 55, 18, 55, 60, 30, 4, 55, 70, 24, 70, 25, 84, 30, 25, 25, 55, 10, 72, 32, 25, 15, 24, 55, 12, 27, 32, 60, 23, 20, 98, 30, 75, 21, 60, 20, 53, 55, 30, 80, 10, 28, 25, 60, 53, 25, 25, 20, 15, 20, 65, 70, 30, 27, 25, 20, 24, 60, 30, 8, 55, 30, 15, 30, 15, 80, 65, 60, 20, 75, 80, 25, 32, 60, 16, 65, 55, 60, 30, 25, 5, 20, 16, 60, 60, 22, 30, 16, 8, 60, 8, 20, 60, 30, 20, 20, 32, 54, 10, 20, 32, 20, 25, 6, 20, 3, 20, 66, 32, 20, 30, 32, 55, 15, 10, 30, 15, 20, 15, 30, 55, 20, 10, 15, 10, 15, 20, 72, 25, 60, 30, 16, 60, 60, 21, 60, 70, 30, 80, 65, 12, 25, 20, 8, 60, 25, 20, 60, 15, 26, 80, 60, 20, 60, 10, 8, 60, 15, 20, 7, 24, 27, 32, 30, 15, 30, 56, 30, 15, 75, 20, 25, 30, 80, 32, 15, 70, 25, 60, 30, 25, 15, 15, 20, 20, 60, 20, 15, 30, 60, 25, 70, 19, 10, 8, 16, 32, 60, 30, 30, 20, 56, 24, 30, 60, 20, 8, 24, 70, 15, 60, 25, 20, 55, 55, 20, 15, 56, 20, 60, 60, 20, 20, 25, 99, 10, 60, 6, 65, 65, 60, 60, 65, 25, 22, 25, 20, 30, 55, 65, 55, 30, 54, 24, 30, 56, 20, 60, 32, 20, 15, 55, 55, 30, 30, 32, 15, 8, 70, 60, 20, 60, 20, 18, 30, 32, 20, 24, 30, 25, 18, 15, 15, 15, 55, 30, 60, 70, 10, 28, 25, 60, 22, 20, 25, 16, 56, 20, 15, 55, 32, 20, 20, 60, 60, 25, 25, 99, 65, 15, 20, 26, 25, 25, 28, 60, 80, 10, 60, 70, 28, 15, 60, 88, 15, 9, 20, 20, 98, 10, 56, 53, 8, 20, 68, 60, 13, 14, 99, 30, 20, 20, 55, 60, 8, 30, 30, 7, 60, 20, 32, 10, 70, 65, 25, 25, 20, 30, 20, 20, 20, 20, 55, 25, 60, 32, 60, 60, 15, 60, 70, 30, 25, 20, 60, 29, 25, 80, 30, 15, 30, 10, 20, 25, 12, 10, 55, 16, 30, 30, 20, 60, 65, 70, 60, 56, 25, 10, 55, 98, 60, 12, 60, 20, 25, 20, 80, 25, 30, 30, 16, 20, 30, 24, 15, 14, 60, 55, 7, 30, 80, 60, 75, 25, 7, 60, 16, 15, 60, 60, 55, 30, 70, 12, 30, 20, 4, 65, 20, 16, 60, 4, 55, 28, 7, 60, 60, 30, 28, 10, 84, 21, 20, 25, 14, 60, 16, 12, 30, 30, 23, 25, 20, 8, 20, 25, 25, 60, 3, 30, 16, 56, 20, 24, 20, 60, 60, 20, 60, 13, 57, 55, 14, 60, 25, 30, 20, 55, 60, 65, 8, 60, 72, 99, 60, 81, 60, 20, 20, 30, 60, 55, 5, 2, 20, 30, 60, 30, 15, 24, 15, 65, 20, 26, 90, 30, 57, 60, 30, 70, 20, 25, 32, 15, 60, 15, 18, 25, 12, 60, 70, 60, 55, 55, 20, 30, 24, 55, 24, 25, 60, 32, 14, 16, 16, 60, 25, 55, 20, 25, 60, 65, 25, 84, 29, 60, 8, 60, 20, 25, 60, 60, 70, 15, 60, 32, 12, 8, 24, 20, 20, 30, 60, 60, 16, 15, 16, 20, 18, 30, 60, 16, 32, 20, 60, 17, 18, 30, 25, 65, 20, 16, 30, 18, 15, 26, 20, 55, 15, 20, 30, 18, 30, 25, 30, 70, 20, 32, 60, 70, 55, 16, 15, 17, 60, 12, 30, 20, 30, 28, 30, 32, 20, 30, 20, 60, 20, 20, 60, 55, 30, 25, 65, 60, 60, 20, 60, 30, 60, 25, 6, 25, 25, 30, 65, 60, 12, 20, 20, 32, 6, 60, 32, 20, 65, 70, 58, 4, 24, 25, 4, 70, 55, 60, 20, 30, 24, 60, 27, 15, 30, 60, 20, 65, 30, 53, 32, 20, 65, 60, 20, 15, 20, 8, 60, 70, 20, 24, 55, 30, 3, 15, 70, 56, 70, 30, 70, 55, 25, 5, 30, 30, 60, 98, 30, 10, 55, 10, 53, 30, 24, 60, 60, 25, 55, 55, 60, 13, 60, 70, 25, 60, 14, 30, 10, 60, 20, 10, 20, 60, 20, 30, 30, 60, 60, 25, 32, 20, 25, 55, 9, 60, 56, 20, 55, 54, 30, 30, 30, 70, 20, 8, 20, 30, 60, 15, 20, 55, 55, 30, 25, 68, 16, 99, 25, 25, 55, 32, 20, 30, 55, 25, 30, 25, 4, 25, 32, 15, 55, 10, 84, 60, 64, 60, 20, 32, 8, 60, 25, 60, 65, 60, 6, 20, 30, 15, 55, 84, 60, 55, 20, 30, 75, 60, 20, 60, 60, 15, 16, 25, 60, 60, 30, 20, 20, 30, 15, 30, 30, 55, 60, 30, 25, 84, 55, 60, 4, 30, 60, 20, 65, 55, 32, 20, 32, 55, 30, 60, 20, 99, 60, 20, 55, 10, 32, 10, 25, 25, 18, 60, 20, 10, 60, 32, 60, 60, 20, 13, 30, 25, 65, 24, 20, 15, 3, 30, 20, 55, 30, 80, 25, 20, 30, 32, 60, 55, 56, 55, 10, 21, 20, 20, 5, 55, 10, 8, 25, 20, 99, 30, 32, 24, 15, 25, 30, 60, 8, 30, 55, 24, 25, 7, 20, 30, 12, 25, 15, 20, 28, 20, 16, 18, 15, 55, 60, 24, 70, 76, 99, 15, 53, 60, 92, 60, 15, 18, 20, 20, 60, 25, 54, 20, 15, 15, 16, 15, 24, 25, 32, 15, 32, 54, 30, 32, 18, 30, 30, 24, 8, 20, 25, 20, 10, 60, 20, 28, 30, 55, 60, 30, 3, 60, 25, 20, 60, 20, 75, 55, 1, 30, 30, 2, 60, 25, 60, 60, 55, 15, 68, 24, 55, 15, 30, 22, 70, 99, 20, 58, 30, 30, 60, 24, 80, 15, 55, 2, 55, 60, 10, 90, 55, 12, 12, 16, 30, 55, 30, 10, 25, 30, 20, 56, 56, 30, 30, 30, 28, 12, 24, 30, 60, 55, 60, 20, 32, 20, 99, 32, 55, 30, 20, 15, 25, 30, 5, 60, 55, 57, 25, 25, 67, 56, 70, 30, 32, 20, 30, 32, 60, 8, 60, 10, 60, 30, 16, 60, 60, 24, 60, 65, 75, 20, 12, 57, 65, 30, 32, 60, 25, 60, 25, 8, 60, 10, 20, 15, 25, 20, 70, 60, 16, 10, 65, 55, 60, 30, 55, 99, 56, 20, 65, 25, 60, 10, 12, 1, 55, 30, 20, 20, 10, 15, 3, 55, 25, 18, 8, 56, 55, 30, 30, 30, 60, 80, 70, 60, 30, 30, 30, 30, 60, 24, 65, 70, 30, 60, 70, 15, 55, 10, 60, 20, 24, 20, 60, 54, 32, 25, 60, 30, 60, 30, 60, 7, 25, 25, 30, 80, 10, 25, 16, 60, 30, 5, 80, 20, 56, 20, 20, 70, 60, 30, 22, 55, 25, 80, 99, 20, 30, 65, 15, 55, 15, 20, 55, 25, 20, 65, 99, 28, 75, 80, 24, 60, 16, 12, 1, 20, 10, 60, 30, 25, 55, 10, 25, 30, 18, 6, 55, 15, 70, 68, 28, 30, 60, 25, 25, 15, 24, 20, 60, 60, 60, 25, 30, 25, 30, 57, 20, 60, 25, 20, 65, 75, 32, 70, 20, 20, 55, 55, 15, 70, 8, 60, 24, 20, 32, 13, 30, 8, 8, 30, 30, 25, 80, 20, 8, 30, 16, 16, 25, 15, 25, 55, 60, 32, 28, 8, 25, 10, 30, 60, 60, 30, 30, 56, 60, 30, 30, 55, 60, 32, 60, 60, 55, 60, 20, 20, 20, 84, 24, 30, 24, 25, 30, 55, 60, 20, 60, 20, 65, 25, 10, 20, 65, 10, 14, 67, 55, 20, 15, 65, 55, 16, 25, 60, 60, 55, 60, 20, 60, 30, 55, 77, 53, 70, 60, 55, 32, 30, 55, 70, 70, 25, 65, 15, 70, 15, 60, 30, 60, 21, 2, 20, 20, 70, 84, 65, 25, 30, 14, 19, 80, 80, 12, 25, 60, 10, 2, 30, 15, 65, 13, 60, 22, 60, 54, 30, 60, 55, 25, 56, 25, 60, 17, 8, 30, 30, 80, 20, 10, 20, 60, 15, 20, 65, 30, 62, 15, 14, 24, 60, 55, 20, 65, 55, 20, 30, 75, 60, 55, 75, 6, 24, 20, 20, 30, 24, 60, 20, 60, 12, 20, 20, 64, 60, 57, 75, 25, 5, 56, 24, 72, 55, 24, 60, 24, 90, 30, 20, 60, 60, 15, 28, 65, 10, 55, 1, 20, 65, 20, 55, 30, 30, 10, 24, 20, 20, 65, 15, 8, 25, 30, 32, 32, 60, 30, 70, 30, 60, 70, 20, 10, 60, 55, 24, 65, 60, 15, 60, 55, 60, 70, 5, 22, 20, 99, 60, 30, 14, 65, 24, 30, 20, 15, 56, 30, 20, 55, 16, 20, 25, 30, 15, 56, 32, 30, 24, 20, 60, 99, 10, 25, 28, 55, 17, 12, 32, 28, 16, 8, 10, 60, 14, 16, 60, 20, 60, 60, 30, 27, 60, 65, 30, 84, 65, 20, 10, 25, 10, 7, 12, 60, 6, 16, 20, 23, 20, 30, 10, 55, 70, 60, 15, 20, 32, 25, 60, 61, 60, 62, 15, 65, 3, 15, 6, 55, 60, 55, 20, 30, 25, 25, 15, 80, 70, 30, 30, 30, 60, 10, 70, 20, 30, 28, 60, 25, 20, 60, 20, 24, 65, 10, 60, 55, 70, 20, 32, 65, 20, 55, 60, 60, 55, 25, 55, 65, 60, 20, 55, 10, 30, 8, 30, 26, 60, 20, 25, 60, 30, 20, 60, 20, 65, 25, 25, 60, 60, 10, 70, 20, 65, 55, 55, 60, 65, 32, 65, 15, 60, 80, 20, 65, 55, 20, 24, 56, 30, 55, 20, 70, 55, 17, 20, 60, 65, 20, 72, 20, 55, 30, 60, 17, 15, 55, 25, 75, 22, 70, 7, 60, 30, 20, 30, 60, 25, 20, 19, 55, 55, 28, 12, 12, 60, 12, 32, 7, 14, 60, 10, 24, 30, 60, 60, 60, 30, 12, 30, 25, 30, 8, 15, 20, 30, 60, 60, 55, 65, 60, 85, 20, 55, 60, 60, 30, 15, 91, 85, 30, 22, 60, 55, 30, 28, 65, 55, 20, 80, 20, 30, 25, 18, 32, 56, 55, 16, 30, 72, 20, 25, 20, 5, 27, 20, 30, 15, 30, 30, 60, 10, 30, 28, 20, 55, 80, 20, 25, 21, 20, 27, 60, 20, 60, 60, 60, 25, 20, 55, 60, 60, 25, 25, 65, 18, 70, 24, 60, 54, 30, 15, 25, 63, 28, 60, 60, 30, 10, 24, 32, 60, 24, 20, 65, 60, 2, 25, 70, 55, 65, 30, 10, 30, 30, 12, 60, 15, 12, 23, 12, 80, 12, 60, 26, 20, 6, 15, 10, 99, 72, 70, 30, 70, 15, 20, 60, 84, 15, 32, 30, 25, 30, 16, 20, 32, 55, 60, 15, 30, 60, 30, 30, 55, 30, 70, 60, 25, 25, 30, 60, 99, 16, 24, 60, 20, 60, 60, 60, 10, 22, 55, 27, 32, 55, 24, 60, 75, 70, 25, 20, 55, 2, 60, 84, 12, 55, 32, 20, 27, 30, 55, 70, 8, 15, 55, 55, 60, 16, 15, 60, 30, 63, 60, 55, 25, 13, 20, 32, 22, 20, 9, 30, 60, 22, 15, 60, 25, 55, 60, 25, 8, 99, 24, 55, 4, 30, 32, 72, 16, 60, 20, 30, 60, 70, 55, 16, 10, 30, 60, 16, 20, 30, 32, 10, 60, 55, 15, 32, 20, 20, 21, 30, 15, 15, 65, 10, 64, 60, 10, 99, 15, 16, 4, 15, 30, 53, 20, 60, 30, 60, 20, 15, 70, 8, 62, 29, 60, 55, 20, 60, 20, 22, 25, 70, 70, 30, 20, 55, 10, 20, 24, 20, 10, 20, 20, 30, 12, 20, 15, 60, 25, 60, 20, 63, 15, 20, 55, 60, 25, 20, 60, 4, 14, 30, 15, 30, 15, 10, 3, 90, 20, 20, 4, 1, 60, 75, 70, 20, 65, 20, 30, 23, 55, 60, 55, 20, 60, 20, 60, 55, 10, 60, 70, 60, 20, 12, 28, 10, 32, 60, 30, 4, 60, 57, 80, 30, 55, 20, 24, 98, 28, 25, 60, 12, 16, 32, 30, 12, 20, 24, 60, 20, 30, 27, 60, 25, 12, 15, 10, 10, 16, 20, 99, 55, 20, 60, 25, 60, 65, 55, 32, 55, 30, 28, 60, 32, 30, 3, 12, 24, 99, 30, 15, 20, 53, 12, 2, 20, 80, 55, 30, 20, 25, 15, 32, 20, 28, 25, 60, 20, 55, 30, 25, 8, 60, 60, 65, 65, 60, 25, 32, 25, 10, 23, 24, 15, 30, 60, 30, 25, 30, 30, 20, 30, 55, 55, 10, 20, 55, 60, 30, 65, 15, 25, 84, 57, 99, 70, 25, 20, 55, 15, 70, 60, 32, 20, 65, 55, 56, 60, 70, 15, 25, 20, 32, 20, 80, 24, 72, 80, 53, 60, 60, 30, 30, 60, 16, 20, 32, 55, 62, 6, 96, 25, 65, 25, 30, 30, 1, 60, 55, 10, 6, 55, 60, 30, 55, 15, 60, 10, 16, 25, 30, 80, 25, 65, 20, 24, 15, 25, 60, 20, 20, 32, 60, 74, 10, 4, 15, 25, 99, 55, 30, 60, 30, 55, 90, 30, 12, 20, 25, 25, 60, 20, 55, 30, 30, 20, 15, 12, 5, 54, 65, 20, 20, 30, 65, 20, 30, 90, 12, 15, 30, 20, 20, 60, 30, 30, 60, 66, 20, 25, 16, 30, 30, 22, 70, 60, 32, 70, 12, 65, 15, 55, 99, 10, 32, 70, 10, 60, 55, 20, 20, 25, 20, 20, 80, 60, 30, 60, 9, 20, 20, 90, 24, 60, 55, 30, 60, 55, 12, 18, 32, 30, 20, 60, 20, 28, 56, 12, 60, 16, 60, 60, 55, 25, 32, 20, 90, 20, 30, 28, 24, 60, 20, 22, 18, 60, 60, 60, 65, 70, 55, 12, 25, 60, 30, 20, 20, 65, 20, 30, 55, 30, 60, 30, 30, 60, 70, 10, 20, 60, 30, 20, 24, 65, 60, 65, 20, 20, 60, 30, 60, 60, 65, 10, 60, 60, 20, 65, 55, 56, 15, 30, 60, 8, 20, 70, 15, 65, 3, 25, 15, 12, 60, 78, 8, 12, 26, 60, 30, 25, 58, 32, 1, 16, 60, 70, 30, 6, 60, 20, 60, 55, 60, 20, 25, 7, 21, 60, 24, 70, 10, 55, 20, 60, 20, 15, 30, 19, 20, 60, 16, 20, 30, 80, 60, 60, 25, 60, 55, 60, 17, 10, 16, 24, 20, 22, 32, 60, 65, 60, 15, 60, 25, 28, 99, 25, 20, 55, 10, 30, 55, 30, 20, 8, 25, 30, 60, 15, 55, 65, 30, 55, 55, 60, 24, 60, 30, 15, 20, 30, 95, 25, 20, 20, 15, 25, 64, 16, 60, 32, 25, 56, 60, 15, 15, 65, 24, 65, 25, 55, 20, 30, 65, 20, 77, 30, 60, 67, 25, 56, 20, 20, 60, 25, 20, 72, 30, 20, 30, 60, 25, 85, 25, 20, 24, 55, 20, 10, 60, 12, 24, 18, 60, 25, 30, 24, 60, 68, 32, 30, 30, 60, 30, 20, 20, 10, 30, 16, 20, 25, 20, 60, 60, 60, 10, 28, 15, 30, 18, 86, 54, 10, 6, 56, 55, 12, 70, 30, 30, 60, 72, 20, 65, 23, 60, 55, 18, 18, 18, 20, 20, 16, 16, 25, 16, 25, 62, 55, 60, 20, 75, 55, 55, 60, 32, 20, 20, 60, 20, 72, 17, 55, 20, 20, 30, 20, 6, 60, 56, 20, 5, 1, 60, 60, 60, 70, 25, 20, 30, 55, 70, 12, 15, 16, 15, 80, 20, 20, 16, 55, 80, 25, 60, 55, 20, 15, 30, 30, 20, 20, 32, 80, 30, 30, 30, 6, 24, 60, 20, 30, 15, 65, 60, 30, 70, 55, 60, 70, 4, 28, 63, 10, 20, 80, 20, 10, 55, 15, 55, 20, 60, 9, 60, 20, 20, 30, 85, 60, 84, 10, 60, 30, 65, 25, 99, 60, 25, 80, 60, 55, 60, 30, 20, 30, 13, 70, 60, 55, 15, 25, 25, 32, 30, 60, 24, 20, 25, 30, 25, 32, 12, 66, 12, 60, 53, 32, 60, 20, 15, 25, 23, 25, 8, 32, 60, 65, 15, 30, 25, 24, 30, 55, 72, 30, 5, 25, 24, 20, 60, 12, 15, 15, 30, 13, 10, 10, 30, 12, 60, 20, 70, 24, 30, 60, 30, 80, 25, 60, 25, 32, 70, 55, 25, 54, 25, 60, 25, 8, 25, 14, 72, 80, 4, 55, 32, 55, 20, 24, 20, 99, 90, 60, 20, 54, 16, 70, 60, 55, 30, 72, 10, 32, 20, 30, 30, 25, 25, 25, 6, 24, 30, 15, 55, 72, 20, 20, 20, 99, 55, 28, 72, 60, 60, 99, 25, 30, 60, 15, 25, 6, 24, 30, 30, 20, 30, 32, 55, 70, 10, 14, 55, 70, 30, 25, 16, 8, 70, 70, 70, 60, 20, 70, 65, 61, 20, 30, 8, 60, 30, 55, 60, 54, 15, 55, 84, 31, 12, 30, 20, 60, 24, 99, 16, 30, 4, 25, 30, 23, 60, 30, 20, 15, 30, 30, 15, 25, 24, 10, 30, 30, 25, 30, 55, 20, 28, 8, 55, 15, 15, 25, 15, 60, 30, 60, 70, 16, 80, 32, 60, 30, 80, 60, 55, 20, 80, 24, 30, 10, 30, 55, 20, 19, 18, 32, 22, 60, 55, 60, 60, 15, 12, 15, 60, 25, 30, 25, 30, 20, 20, 60, 20, 5, 99, 60, 60, 55, 60, 15, 55, 55, 12, 20, 32, 6, 30, 20, 60, 16, 3, 60, 20, 60, 70, 15, 70, 32, 55, 20, 20, 30, 20, 60, 20, 84, 55, 60, 55, 12, 60, 30, 55, 84, 30, 20, 30, 25, 30, 60, 32, 30, 24, 65, 6, 30, 55, 30, 15, 16, 6, 60, 4, 20, 20, 75, 12, 32, 32, 70, 70, 60, 70, 25, 30, 20, 60, 20, 12, 32, 60, 99, 60, 22, 8, 60, 16, 65, 20, 20, 10, 99, 16, 10, 60, 25, 30, 55, 20, 20, 4, 20, 15, 55, 60, 60, 30, 22, 30, 10, 20, 20, 12, 20, 55, 60, 16, 60, 20, 58, 8, 90, 20, 20, 30, 60, 56, 16, 8, 90, 60, 30, 55, 55, 60, 20, 25, 8, 25, 20, 60, 70, 54, 60, 60, 62, 55, 99, 30, 5, 32, 14, 60, 80, 32, 20, 26, 20, 8, 20, 31, 60, 30, 15, 30, 30, 10, 55, 30, 12, 17, 60, 10, 16, 16, 32, 20, 20, 20, 70, 30, 60, 20, 60, 57, 30, 12, 25, 25, 55, 65, 30, 60, 60, 65, 20, 55, 55, 60, 20, 56, 30, 30, 10, 55, 30, 30, 30, 55, 25, 30, 32, 60, 10, 18, 10, 24, 60, 65, 60, 60, 15, 72, 20, 72, 60, 60, 30, 32, 60, 65, 15, 20, 25, 80, 98, 20, 60, 32, 30, 12, 54, 70, 20, 99, 15, 30, 25, 20, 20, 25, 19, 24, 30, 8, 12, 7, 15, 60, 12, 25, 16, 20, 5, 30, 60, 70, 22, 60, 23, 70, 30, 20, 60, 7, 60, 60, 20, 60, 60, 20, 12, 55, 20, 60, 15, 60, 30, 25, 30, 25, 30, 60, 30, 55, 60, 20, 30, 25, 12, 60, 60, 65, 20, 10, 25, 27, 16, 25, 20, 13, 8, 18, 32, 25, 19, 20, 75, 55, 4, 25, 30, 25, 30, 15, 20, 70, 70, 20, 20, 60, 30, 55, 70, 32, 55, 20, 70, 30, 20, 10, 24, 29, 20, 3, 60, 30, 20, 96, 60, 54, 32, 55, 80, 30, 12, 25, 20, 30, 56, 20, 70, 65, 75, 5, 60, 16, 20, 30, 60, 60, 12, 30, 10, 10, 25, 20, 70, 55, 20, 20, 20, 65, 12, 25, 70, 84, 15, 55, 20, 30, 55, 30, 4, 20, 60, 15, 60, 99, 30, 30, 30, 15, 30, 30, 10, 20, 60, 15, 17, 30, 25, 99, 26, 68, 55, 75, 56, 16, 20, 84, 20, 20, 25, 70, 60, 60, 32, 70, 18, 25, 20, 25, 25, 55, 24, 20, 60, 12, 12, 55, 32, 75, 65, 32, 15, 30, 55, 30, 20, 6, 20, 55, 30, 14, 64, 30, 30, 20, 65, 25, 60, 30, 60, 20, 24, 15, 55, 80, 20, 32, 20, 60, 55, 10, 23, 62, 20, 30, 12, 58, 60, 30, 99, 60, 60, 70, 55, 5, 70, 20, 55, 55, 75, 60, 60, 15, 16, 30, 15, 30, 60, 6, 55, 60, 30, 24, 30, 55, 60, 25, 55, 30, 15, 30, 24, 78, 10, 60, 24, 20, 32, 20, 30, 70, 60, 60, 70, 20, 24, 15, 70, 60, 65, 60, 20, 5, 20, 60, 20, 60, 56, 30, 25, 55, 55, 20, 8, 16, 16, 90, 10, 73, 25, 75, 25, 16, 55, 8, 20, 55, 10, 55, 55, 10, 80, 20, 8, 55, 55, 20, 30, 15, 59, 6, 55, 15, 60, 30, 65, 65, 14, 80, 95, 30, 60, 66, 55, 25, 30, 55, 15, 24, 15, 30, 8, 25, 70, 16, 70, 8, 22, 24, 55, 20, 60, 10, 32, 25, 60, 80, 66, 56, 55, 25, 60, 30, 65, 84, 60, 6, 16, 16, 32, 20, 60, 30, 30, 30, 60, 30, 55, 20, 22, 30, 70, 60, 25, 22, 60, 60, 60, 15, 5, 55, 25, 24, 30, 12, 30, 24, 60, 62, 30, 15, 60, 15, 16, 25, 70, 20, 12, 20, 8, 30, 10, 15, 16, 32, 55, 70, 32, 30, 60, 30, 20, 60, 5, 22, 25, 14, 25, 55, 65, 60, 25, 60, 25, 60, 5, 55, 60, 30, 25, 53, 15, 20, 55, 20, 20, 60, 25, 55, 20, 30, 80, 30, 60, 30, 70, 20, 56, 16, 30, 55, 30, 15, 16, 10, 30, 55, 25, 30, 55, 32, 15, 60, 60, 55, 60, 20, 28, 20, 4, 16, 60, 60, 80, 72, 60, 4, 25, 54, 24, 60, 60, 66, 56, 2, 30, 55, 70, 56, 25, 55, 15, 54, 15, 55, 20, 60, 25, 16, 8, 20, 55, 70, 60, 30, 12, 25, 15, 12, 30, 30, 8, 32, 30, 6, 16, 60, 60, 99, 70, 20, 16, 30, 20, 68, 65, 24, 25, 5, 72, 65, 20, 30, 20, 60, 20, 11, 55, 30, 60, 91, 55, 55, 25, 80, 55, 30, 25, 32, 25, 25, 18, 60, 30, 25, 60, 65, 60, 15, 55, 30, 60, 55, 20, 20, 15, 30, 32, 12, 30, 55, 5, 65, 60, 60, 25, 66, 15, 55, 15, 60, 60, 70, 25, 55, 65, 32, 20, 20, 20, 60, 10, 72, 60, 84, 20, 70, 20, 20, 55, 55, 25, 25, 4, 55, 60, 20, 10, 70, 55, 20, 80, 32, 25, 55, 15, 55, 10, 3, 32, 15, 55, 12, 15, 60, 30, 24, 65, 65, 55, 25, 60, 16, 20, 60, 20, 30, 24, 60, 20, 55, 15, 30, 60, 24, 70, 32, 60, 30, 20, 30, 12, 24, 6, 60, 15, 20, 60, 80, 20, 30, 78, 20, 10, 5, 68, 75, 32, 60, 16, 15, 16, 60, 56, 24, 20, 72, 25, 55, 60, 55, 30, 60, 99, 1, 30, 10, 70, 20, 60, 30, 60, 96, 30, 60, 65, 55, 15, 20, 60, 10, 30, 32, 20, 20, 55, 55, 20, 20, 16, 60, 2, 30, 30, 20, 17, 75, 30, 30, 25, 65, 60, 16, 30, 60, 15, 30, 10, 10, 24, 20, 30, 14, 30, 20, 3, 54, 70, 15, 23, 60, 12, 60, 32, 30, 25, 77, 72, 55, 10, 30, 99, 55, 20, 56, 2, 15, 12, 84, 60, 30, 20, 20, 22, 15, 60, 99, 32, 20, 6, 60, 56, 25, 20, 57, 24, 10, 54, 18, 30, 30, 18, 20, 18, 60, 60, 56, 60, 60, 15, 20, 55, 57, 60, 60, 20, 60, 20, 25, 20, 55, 20, 30, 30, 5, 30, 10, 60, 5, 25, 25, 25, 12, 24, 2, 90, 5, 30, 20, 8, 60, 60, 20, 55, 20, 12, 15, 25, 4, 25, 24, 17, 55, 15, 60, 8, 15, 11, 60, 30, 10, 30, 55, 25, 20, 25, 20, 22, 60, 20, 20, 70, 60, 30, 30, 20, 26, 12, 78, 60, 53, 18, 55, 18, 70, 30, 4, 55, 25, 20, 32, 20, 55, 32, 60, 70, 25, 20, 30, 25, 60, 55, 60, 30, 60, 57, 20, 15, 15, 60, 30, 30, 25, 60, 30, 10, 60, 30, 60, 32, 12, 15, 30, 32, 10, 25, 84, 25, 65, 20, 30, 30, 80, 60, 20, 60, 30, 15, 30, 30, 85, 60, 30, 20, 60, 60, 13, 20, 55, 65, 30, 10, 10, 60, 55, 99, 25, 15, 32, 10, 32, 30, 30, 60, 60, 55, 30, 65, 25, 60, 60, 55, 70, 28, 16, 18, 30, 68, 28, 30, 30, 15, 12, 20, 70, 65, 30, 3, 65, 20, 24, 20, 25, 28, 99, 30, 25, 99, 25, 30, 55, 20, 8, 5, 55, 25, 20, 60, 10, 25, 70, 90, 60, 24, 20, 55, 25, 25, 53, 30, 80, 20, 30, 60, 24, 30, 20, 20, 30, 30, 72, 9, 20, 12, 15, 25, 7, 70, 30, 20, 60, 65, 18, 17, 30, 60, 20, 60, 30, 65, 13, 60, 16, 20, 60, 70, 60, 55, 53, 27, 58, 60, 60, 99, 60, 60, 8, 60, 32, 30, 62, 60, 30, 60, 55, 12, 60, 8, 60, 80, 25, 20, 60, 60, 25, 60, 15, 20, 55, 20, 60, 25, 8, 30, 60, 25, 24, 60, 90, 55, 60, 5, 55, 20, 30, 15, 5, 20, 10, 55, 70, 70, 60, 30, 60, 75, 8, 28, 20, 90, 70, 60, 25, 25, 60, 10, 20, 65, 25, 20, 60, 60, 20, 55, 60, 25, 60, 15, 60, 65, 20, 66, 20, 20, 25, 32, 16, 60, 8, 60, 20, 20, 60, 30, 30, 60, 25, 60, 70, 27, 20, 16, 20, 58, 15, 32, 15, 25, 2, 3, 30, 55, 20, 30, 55, 55, 30, 17, 60, 25, 20, 2, 55, 30, 20, 55, 16, 55, 20, 30, 20, 25, 32, 25, 60, 20, 10, 20, 25, 30, 80, 64, 54, 32, 55, 4, 30, 80, 30, 55, 20, 20, 9, 55, 55, 20, 80, 26, 20, 60, 60, 60, 53, 30, 16, 22, 25, 20, 60, 60, 30, 58, 90, 60, 70, 24, 25, 32, 4, 60, 65, 60, 55, 20, 65, 99, 20, 25, 30, 55, 20, 99, 12, 70, 65, 20, 4, 24, 55, 75, 32, 10, 30, 55, 60, 10, 30, 55, 30, 55, 55, 17, 15, 18, 80, 30, 20, 25, 25, 15, 55, 25, 25, 30, 60, 23, 30, 30, 24, 70, 70, 60, 3, 20, 30, 55, 55, 60, 55, 65, 68, 4, 3, 60, 10, 60, 30, 98, 20, 16, 30, 25, 15, 65, 25, 60, 24, 60, 55, 30, 24, 20, 55, 25, 60, 56, 30, 30, 25, 18, 20, 15, 60, 30, 55, 60, 32, 60, 15, 24, 12, 30, 70, 30, 65, 60, 20, 30, 20, 14, 70, 12, 15, 80, 62, 25, 55, 60, 20, 5, 28, 25, 55, 30, 20, 5, 60, 60, 60, 30, 60, 30, 30, 30, 16, 60, 20, 25, 60, 80, 24, 15, 55, 60, 10, 56, 60, 30, 30, 60, 10, 32, 20, 70, 15, 24, 65, 5, 25, 25, 10, 20, 80, 8, 20, 60, 12, 30, 60, 60, 30, 55, 12, 55, 65, 20, 60, 20, 20, 60, 15, 20, 20, 30, 60, 20, 65, 10, 20, 55, 25, 30, 60, 31, 16, 30, 32, 72, 20, 30, 25, 60, 25, 70, 10, 60, 20, 56, 30, 60, 4, 8, 5, 72, 72, 25, 55, 8, 12, 20, 55, 20, 15, 55, 75, 76, 60, 60, 70, 20, 32, 81, 30, 89, 25, 56, 55, 32, 30, 32, 56, 72, 20, 60, 20, 20, 20, 32, 30, 3, 32, 32, 25, 65, 99, 55, 84, 25, 60, 3, 65, 20, 28, 60, 55, 22, 24, 64, 55, 15, 1, 55, 99, 60, 55, 10, 32, 25, 30, 20, 60, 11, 20]\n"
          ]
        }
      ]
    },
    {
      "cell_type": "code",
      "source": [
        "#Fill the outliers with upper limit and lower limit\n",
        "df1.loc[df1['hours-per-week']>=upper,'hours-per-week']=upper\n",
        "df1.loc[df1['hours-per-week']<=lower,'hours-per-week']=lower"
      ],
      "metadata": {
        "id": "FAFB7ZTboyF3"
      },
      "execution_count": null,
      "outputs": []
    },
    {
      "cell_type": "code",
      "source": [
        "sns.boxplot(data=df1['hours-per-week'])"
      ],
      "metadata": {
        "colab": {
          "base_uri": "https://localhost:8080/",
          "height": 282
        },
        "id": "E8doLbTxXP20",
        "outputId": "72964dd2-fade-43eb-85b3-2b8c973b52c0"
      },
      "execution_count": null,
      "outputs": [
        {
          "output_type": "execute_result",
          "data": {
            "text/plain": [
              "<Axes: >"
            ]
          },
          "metadata": {},
          "execution_count": 19
        },
        {
          "output_type": "display_data",
          "data": {
            "text/plain": [
              "<Figure size 432x288 with 1 Axes>"
            ],
            "image/png": "[encoded data removed]"
          },
          "metadata": {
            "needs_background": "light"
          }
        }
      ]
    },
    {
      "cell_type": "markdown",
      "source": [
        "**Encode the categorical columns using Label Encoder**"
      ],
      "metadata": {
        "id": "o2liV1rLXv7u"
      }
    },
    {
      "cell_type": "code",
      "source": [],
      "metadata": {
        "id": "XiAVheE0lfsF"
      },
      "execution_count": null,
      "outputs": []
    },
    {
      "cell_type": "code",
      "source": [
        "from sklearn.preprocessing import LabelEncoder\n",
        "le=LabelEncoder()"
      ],
      "metadata": {
        "id": "bf6mr2IykZGY"
      },
      "execution_count": null,
      "outputs": []
    },
    {
      "cell_type": "code",
      "source": [
        "df1['workclass']=le.fit_transform(df['workclass'])\n",
        "df1['education']=le.fit_transform(df['education'])\n",
        "df1['marital-status']=le.fit_transform(df['marital-status'])\n",
        "df1['salary']=le.fit_transform(df['salary'])"
      ],
      "metadata": {
        "id": "xCk-sLsoeqvK"
      },
      "execution_count": null,
      "outputs": []
    },
    {
      "cell_type": "code",
      "source": [
        "df1"
      ],
      "metadata": {
        "colab": {
          "base_uri": "https://localhost:8080/",
          "height": 424
        },
        "id": "MRxqhlxag0vp",
        "outputId": "6237b99e-338a-403a-f0cd-54f3ed74e5be"
      },
      "execution_count": null,
      "outputs": [
        {
          "output_type": "execute_result",
          "data": {
            "text/plain": [
              "       workclass  education  marital-status  hours-per-week salary\n",
              "0              6          9               4              40  <=50K\n",
              "1              5          9               2              32  <=50K\n",
              "2              3         11               0              40  <=50K\n",
              "3              3          1               2              40  <=50K\n",
              "4              3          9               2              40  <=50K\n",
              "...          ...        ...             ...             ...    ...\n",
              "32556          3          7               2              38  <=50K\n",
              "32557          3         11               2              40   >50K\n",
              "32558          3         11               6              40  <=50K\n",
              "32559          3         11               4              32  <=50K\n",
              "32560          4         11               2              40   >50K\n",
              "\n",
              "[32561 rows x 5 columns]"
            ],
            "text/html": [
              "\n",
              "  <div id=\"df-cd7dd260-d089-47fc-9802-e027343a4773\">\n",
              "    <div class=\"colab-df-container\">\n",
              "      <div>\n",
              "<style scoped>\n",
              "    .dataframe tbody tr th:only-of-type {\n",
              "        vertical-align: middle;\n",
              "    }\n",
              "\n",
              "    .dataframe tbody tr th {\n",
              "        vertical-align: top;\n",
              "    }\n",
              "\n",
              "    .dataframe thead th {\n",
              "        text-align: right;\n",
              "    }\n",
              "</style>\n",
              "<table border=\"1\" class=\"dataframe\">\n",
              "  <thead>\n",
              "    <tr style=\"text-align: right;\">\n",
              "      <th></th>\n",
              "      <th>workclass</th>\n",
              "      <th>education</th>\n",
              "      <th>marital-status</th>\n",
              "      <th>hours-per-week</th>\n",
              "      <th>salary</th>\n",
              "    </tr>\n",
              "  </thead>\n",
              "  <tbody>\n",
              "    <tr>\n",
              "      <th>0</th>\n",
              "      <td>6</td>\n",
              "      <td>9</td>\n",
              "      <td>4</td>\n",
              "      <td>40</td>\n",
              "      <td>&lt;=50K</td>\n",
              "    </tr>\n",
              "    <tr>\n",
              "      <th>1</th>\n",
              "      <td>5</td>\n",
              "      <td>9</td>\n",
              "      <td>2</td>\n",
              "      <td>32</td>\n",
              "      <td>&lt;=50K</td>\n",
              "    </tr>\n",
              "    <tr>\n",
              "      <th>2</th>\n",
              "      <td>3</td>\n",
              "      <td>11</td>\n",
              "      <td>0</td>\n",
              "      <td>40</td>\n",
              "      <td>&lt;=50K</td>\n",
              "    </tr>\n",
              "    <tr>\n",
              "      <th>3</th>\n",
              "      <td>3</td>\n",
              "      <td>1</td>\n",
              "      <td>2</td>\n",
              "      <td>40</td>\n",
              "      <td>&lt;=50K</td>\n",
              "    </tr>\n",
              "    <tr>\n",
              "      <th>4</th>\n",
              "      <td>3</td>\n",
              "      <td>9</td>\n",
              "      <td>2</td>\n",
              "      <td>40</td>\n",
              "      <td>&lt;=50K</td>\n",
              "    </tr>\n",
              "    <tr>\n",
              "      <th>...</th>\n",
              "      <td>...</td>\n",
              "      <td>...</td>\n",
              "      <td>...</td>\n",
              "      <td>...</td>\n",
              "      <td>...</td>\n",
              "    </tr>\n",
              "    <tr>\n",
              "      <th>32556</th>\n",
              "      <td>3</td>\n",
              "      <td>7</td>\n",
              "      <td>2</td>\n",
              "      <td>38</td>\n",
              "      <td>&lt;=50K</td>\n",
              "    </tr>\n",
              "    <tr>\n",
              "      <th>32557</th>\n",
              "      <td>3</td>\n",
              "      <td>11</td>\n",
              "      <td>2</td>\n",
              "      <td>40</td>\n",
              "      <td>&gt;50K</td>\n",
              "    </tr>\n",
              "    <tr>\n",
              "      <th>32558</th>\n",
              "      <td>3</td>\n",
              "      <td>11</td>\n",
              "      <td>6</td>\n",
              "      <td>40</td>\n",
              "      <td>&lt;=50K</td>\n",
              "    </tr>\n",
              "    <tr>\n",
              "      <th>32559</th>\n",
              "      <td>3</td>\n",
              "      <td>11</td>\n",
              "      <td>4</td>\n",
              "      <td>32</td>\n",
              "      <td>&lt;=50K</td>\n",
              "    </tr>\n",
              "    <tr>\n",
              "      <th>32560</th>\n",
              "      <td>4</td>\n",
              "      <td>11</td>\n",
              "      <td>2</td>\n",
              "      <td>40</td>\n",
              "      <td>&gt;50K</td>\n",
              "    </tr>\n",
              "  </tbody>\n",
              "</table>\n",
              "<p>32561 rows × 5 columns</p>\n",
              "</div>\n",
              "      <button class=\"colab-df-convert\" onclick=\"convertToInteractive('df-cd7dd260-d089-47fc-9802-e027343a4773')\"\n",
              "              title=\"Convert this dataframe to an interactive table.\"\n",
              "              style=\"display:none;\">\n",
              "        \n",
              "  <svg xmlns=\"http://www.w3.org/2000/svg\" height=\"24px\"viewBox=\"0 0 24 24\"\n",
              "       width=\"24px\">\n",
              "    <path d=\"M0 0h24v24H0V0z\" fill=\"none\"/>\n",
              "    <path d=\"M18.56 5.44l.94 2.06.94-2.06 2.06-.94-2.06-.94-.94-2.06-.94 2.06-2.06.94zm-11 1L8.5 8.5l.94-2.06 2.06-.94-2.06-.94L8.5 2.5l-.94 2.06-2.06.94zm10 10l.94 2.06.94-2.06 2.06-.94-2.06-.94-.94-2.06-.94 2.06-2.06.94z\"/><path d=\"M17.41 7.96l-1.37-1.37c-.4-.4-.92-.59-1.43-.59-.52 0-1.04.2-1.43.59L10.3 9.45l-7.72 7.72c-.78.78-.78 2.05 0 2.83L4 21.41c.39.39.9.59 1.41.59.51 0 1.02-.2 1.41-.59l7.78-7.78 2.81-2.81c.8-.78.8-2.07 0-2.86zM5.41 20L4 18.59l7.72-7.72 1.47 1.35L5.41 20z\"/>\n",
              "  </svg>\n",
              "      </button>\n",
              "      \n",
              "  <style>\n",
              "    .colab-df-container {\n",
              "      display:flex;\n",
              "      flex-wrap:wrap;\n",
              "      gap: 12px;\n",
              "    }\n",
              "\n",
              "    .colab-df-convert {\n",
              "      background-color: #E8F0FE;\n",
              "      border: none;\n",
              "      border-radius: 50%;\n",
              "      cursor: pointer;\n",
              "      display: none;\n",
              "      fill: #1967D2;\n",
              "      height: 32px;\n",
              "      padding: 0 0 0 0;\n",
              "      width: 32px;\n",
              "    }\n",
              "\n",
              "    .colab-df-convert:hover {\n",
              "      background-color: #E2EBFA;\n",
              "      box-shadow: 0px 1px 2px rgba(60, 64, 67, 0.3), 0px 1px 3px 1px rgba(60, 64, 67, 0.15);\n",
              "      fill: #174EA6;\n",
              "    }\n",
              "\n",
              "    [theme=dark] .colab-df-convert {\n",
              "      background-color: #3B4455;\n",
              "      fill: #D2E3FC;\n",
              "    }\n",
              "\n",
              "    [theme=dark] .colab-df-convert:hover {\n",
              "      background-color: #434B5C;\n",
              "      box-shadow: 0px 1px 3px 1px rgba(0, 0, 0, 0.15);\n",
              "      filter: drop-shadow(0px 1px 2px rgba(0, 0, 0, 0.3));\n",
              "      fill: #FFFFFF;\n",
              "    }\n",
              "  </style>\n",
              "\n",
              "      <script>\n",
              "        const buttonEl =\n",
              "          document.querySelector('#df-cd7dd260-d089-47fc-9802-e027343a4773 button.colab-df-convert');\n",
              "        buttonEl.style.display =\n",
              "          google.colab.kernel.accessAllowed ? 'block' : 'none';\n",
              "\n",
              "        async function convertToInteractive(key) {\n",
              "          const element = document.querySelector('#df-cd7dd260-d089-47fc-9802-e027343a4773');\n",
              "          const dataTable =\n",
              "            await google.colab.kernel.invokeFunction('convertToInteractive',\n",
              "                                                     [key], {});\n",
              "          if (!dataTable) return;\n",
              "\n",
              "          const docLinkHtml = 'Like what you see? Visit the ' +\n",
              "            '<a target=\"_blank\" href=https://colab.research.google.com/notebooks/data_table.ipynb>data table notebook</a>'\n",
              "            + ' to learn more about interactive tables.';\n",
              "          element.innerHTML = '';\n",
              "          dataTable['output_type'] = 'display_data';\n",
              "          await google.colab.output.renderOutput(dataTable, element);\n",
              "          const docLink = document.createElement('div');\n",
              "          docLink.innerHTML = docLinkHtml;\n",
              "          element.appendChild(docLink);\n",
              "        }\n",
              "      </script>\n",
              "    </div>\n",
              "  </div>\n",
              "  "
            ]
          },
          "metadata": {},
          "execution_count": 20
        }
      ]
    },
    {
      "cell_type": "markdown",
      "source": [
        "**convert the column hours per week from floating to integer**"
      ],
      "metadata": {
        "id": "Kbp5_gUhrB-A"
      }
    },
    {
      "cell_type": "code",
      "source": [
        "df1['hours-per-week'] = df1['hours-per-week'].astype(int)"
      ],
      "metadata": {
        "id": "CT3cJdM4pZos"
      },
      "execution_count": null,
      "outputs": []
    },
    {
      "cell_type": "code",
      "source": [
        "df1"
      ],
      "metadata": {
        "colab": {
          "base_uri": "https://localhost:8080/",
          "height": 424
        },
        "id": "9hsSvmf7GoCR",
        "outputId": "fbf52236-d187-467a-eb04-950ff659ca50"
      },
      "execution_count": null,
      "outputs": [
        {
          "output_type": "execute_result",
          "data": {
            "text/plain": [
              "       workclass  education  marital-status  hours-per-week salary\n",
              "0              6          9               4              40  <=50K\n",
              "1              5          9               2              32  <=50K\n",
              "2              3         11               0              40  <=50K\n",
              "3              3          1               2              40  <=50K\n",
              "4              3          9               2              40  <=50K\n",
              "...          ...        ...             ...             ...    ...\n",
              "32556          3          7               2              38  <=50K\n",
              "32557          3         11               2              40   >50K\n",
              "32558          3         11               6              40  <=50K\n",
              "32559          3         11               4              32  <=50K\n",
              "32560          4         11               2              40   >50K\n",
              "\n",
              "[32561 rows x 5 columns]"
            ],
            "text/html": [
              "\n",
              "  <div id=\"df-5f683dc4-a79e-49ee-ab42-dcef682d7b6d\">\n",
              "    <div class=\"colab-df-container\">\n",
              "      <div>\n",
              "<style scoped>\n",
              "    .dataframe tbody tr th:only-of-type {\n",
              "        vertical-align: middle;\n",
              "    }\n",
              "\n",
              "    .dataframe tbody tr th {\n",
              "        vertical-align: top;\n",
              "    }\n",
              "\n",
              "    .dataframe thead th {\n",
              "        text-align: right;\n",
              "    }\n",
              "</style>\n",
              "<table border=\"1\" class=\"dataframe\">\n",
              "  <thead>\n",
              "    <tr style=\"text-align: right;\">\n",
              "      <th></th>\n",
              "      <th>workclass</th>\n",
              "      <th>education</th>\n",
              "      <th>marital-status</th>\n",
              "      <th>hours-per-week</th>\n",
              "      <th>salary</th>\n",
              "    </tr>\n",
              "  </thead>\n",
              "  <tbody>\n",
              "    <tr>\n",
              "      <th>0</th>\n",
              "      <td>6</td>\n",
              "      <td>9</td>\n",
              "      <td>4</td>\n",
              "      <td>40</td>\n",
              "      <td>&lt;=50K</td>\n",
              "    </tr>\n",
              "    <tr>\n",
              "      <th>1</th>\n",
              "      <td>5</td>\n",
              "      <td>9</td>\n",
              "      <td>2</td>\n",
              "      <td>32</td>\n",
              "      <td>&lt;=50K</td>\n",
              "    </tr>\n",
              "    <tr>\n",
              "      <th>2</th>\n",
              "      <td>3</td>\n",
              "      <td>11</td>\n",
              "      <td>0</td>\n",
              "      <td>40</td>\n",
              "      <td>&lt;=50K</td>\n",
              "    </tr>\n",
              "    <tr>\n",
              "      <th>3</th>\n",
              "      <td>3</td>\n",
              "      <td>1</td>\n",
              "      <td>2</td>\n",
              "      <td>40</td>\n",
              "      <td>&lt;=50K</td>\n",
              "    </tr>\n",
              "    <tr>\n",
              "      <th>4</th>\n",
              "      <td>3</td>\n",
              "      <td>9</td>\n",
              "      <td>2</td>\n",
              "      <td>40</td>\n",
              "      <td>&lt;=50K</td>\n",
              "    </tr>\n",
              "    <tr>\n",
              "      <th>...</th>\n",
              "      <td>...</td>\n",
              "      <td>...</td>\n",
              "      <td>...</td>\n",
              "      <td>...</td>\n",
              "      <td>...</td>\n",
              "    </tr>\n",
              "    <tr>\n",
              "      <th>32556</th>\n",
              "      <td>3</td>\n",
              "      <td>7</td>\n",
              "      <td>2</td>\n",
              "      <td>38</td>\n",
              "      <td>&lt;=50K</td>\n",
              "    </tr>\n",
              "    <tr>\n",
              "      <th>32557</th>\n",
              "      <td>3</td>\n",
              "      <td>11</td>\n",
              "      <td>2</td>\n",
              "      <td>40</td>\n",
              "      <td>&gt;50K</td>\n",
              "    </tr>\n",
              "    <tr>\n",
              "      <th>32558</th>\n",
              "      <td>3</td>\n",
              "      <td>11</td>\n",
              "      <td>6</td>\n",
              "      <td>40</td>\n",
              "      <td>&lt;=50K</td>\n",
              "    </tr>\n",
              "    <tr>\n",
              "      <th>32559</th>\n",
              "      <td>3</td>\n",
              "      <td>11</td>\n",
              "      <td>4</td>\n",
              "      <td>32</td>\n",
              "      <td>&lt;=50K</td>\n",
              "    </tr>\n",
              "    <tr>\n",
              "      <th>32560</th>\n",
              "      <td>4</td>\n",
              "      <td>11</td>\n",
              "      <td>2</td>\n",
              "      <td>40</td>\n",
              "      <td>&gt;50K</td>\n",
              "    </tr>\n",
              "  </tbody>\n",
              "</table>\n",
              "<p>32561 rows × 5 columns</p>\n",
              "</div>\n",
              "      <button class=\"colab-df-convert\" onclick=\"convertToInteractive('df-5f683dc4-a79e-49ee-ab42-dcef682d7b6d')\"\n",
              "              title=\"Convert this dataframe to an interactive table.\"\n",
              "              style=\"display:none;\">\n",
              "        \n",
              "  <svg xmlns=\"http://www.w3.org/2000/svg\" height=\"24px\"viewBox=\"0 0 24 24\"\n",
              "       width=\"24px\">\n",
              "    <path d=\"M0 0h24v24H0V0z\" fill=\"none\"/>\n",
              "    <path d=\"M18.56 5.44l.94 2.06.94-2.06 2.06-.94-2.06-.94-.94-2.06-.94 2.06-2.06.94zm-11 1L8.5 8.5l.94-2.06 2.06-.94-2.06-.94L8.5 2.5l-.94 2.06-2.06.94zm10 10l.94 2.06.94-2.06 2.06-.94-2.06-.94-.94-2.06-.94 2.06-2.06.94z\"/><path d=\"M17.41 7.96l-1.37-1.37c-.4-.4-.92-.59-1.43-.59-.52 0-1.04.2-1.43.59L10.3 9.45l-7.72 7.72c-.78.78-.78 2.05 0 2.83L4 21.41c.39.39.9.59 1.41.59.51 0 1.02-.2 1.41-.59l7.78-7.78 2.81-2.81c.8-.78.8-2.07 0-2.86zM5.41 20L4 18.59l7.72-7.72 1.47 1.35L5.41 20z\"/>\n",
              "  </svg>\n",
              "      </button>\n",
              "      \n",
              "  <style>\n",
              "    .colab-df-container {\n",
              "      display:flex;\n",
              "      flex-wrap:wrap;\n",
              "      gap: 12px;\n",
              "    }\n",
              "\n",
              "    .colab-df-convert {\n",
              "      background-color: #E8F0FE;\n",
              "      border: none;\n",
              "      border-radius: 50%;\n",
              "      cursor: pointer;\n",
              "      display: none;\n",
              "      fill: #1967D2;\n",
              "      height: 32px;\n",
              "      padding: 0 0 0 0;\n",
              "      width: 32px;\n",
              "    }\n",
              "\n",
              "    .colab-df-convert:hover {\n",
              "      background-color: #E2EBFA;\n",
              "      box-shadow: 0px 1px 2px rgba(60, 64, 67, 0.3), 0px 1px 3px 1px rgba(60, 64, 67, 0.15);\n",
              "      fill: #174EA6;\n",
              "    }\n",
              "\n",
              "    [theme=dark] .colab-df-convert {\n",
              "      background-color: #3B4455;\n",
              "      fill: #D2E3FC;\n",
              "    }\n",
              "\n",
              "    [theme=dark] .colab-df-convert:hover {\n",
              "      background-color: #434B5C;\n",
              "      box-shadow: 0px 1px 3px 1px rgba(0, 0, 0, 0.15);\n",
              "      filter: drop-shadow(0px 1px 2px rgba(0, 0, 0, 0.3));\n",
              "      fill: #FFFFFF;\n",
              "    }\n",
              "  </style>\n",
              "\n",
              "      <script>\n",
              "        const buttonEl =\n",
              "          document.querySelector('#df-5f683dc4-a79e-49ee-ab42-dcef682d7b6d button.colab-df-convert');\n",
              "        buttonEl.style.display =\n",
              "          google.colab.kernel.accessAllowed ? 'block' : 'none';\n",
              "\n",
              "        async function convertToInteractive(key) {\n",
              "          const element = document.querySelector('#df-5f683dc4-a79e-49ee-ab42-dcef682d7b6d');\n",
              "          const dataTable =\n",
              "            await google.colab.kernel.invokeFunction('convertToInteractive',\n",
              "                                                     [key], {});\n",
              "          if (!dataTable) return;\n",
              "\n",
              "          const docLinkHtml = 'Like what you see? Visit the ' +\n",
              "            '<a target=\"_blank\" href=https://colab.research.google.com/notebooks/data_table.ipynb>data table notebook</a>'\n",
              "            + ' to learn more about interactive tables.';\n",
              "          element.innerHTML = '';\n",
              "          dataTable['output_type'] = 'display_data';\n",
              "          await google.colab.output.renderOutput(dataTable, element);\n",
              "          const docLink = document.createElement('div');\n",
              "          docLink.innerHTML = docLinkHtml;\n",
              "          element.appendChild(docLink);\n",
              "        }\n",
              "      </script>\n",
              "    </div>\n",
              "  </div>\n",
              "  "
            ]
          },
          "metadata": {},
          "execution_count": 23
        }
      ]
    },
    {
      "cell_type": "code",
      "source": [
        "df1.to_csv(\"news_salary.csv\")"
      ],
      "metadata": {
        "id": "u0P0BI1vk08P"
      },
      "execution_count": null,
      "outputs": []
    },
    {
      "cell_type": "code",
      "source": [
        "new=pd.read_csv('/content/news_salary.csv')\n",
        "new"
      ],
      "metadata": {
        "id": "m3K1Y8Ffk0pq"
      },
      "execution_count": null,
      "outputs": []
    },
    {
      "cell_type": "code",
      "source": [
        "df1.to_csv(\"newsalary.csv\",index=False)"
      ],
      "metadata": {
        "id": "wyEglkiUGsN8"
      },
      "execution_count": null,
      "outputs": []
    },
    {
      "cell_type": "code",
      "source": [
        "newsal=pd.read_csv('/content/newsalary.csv')\n",
        "newsal"
      ],
      "metadata": {
        "id": "CRBoOgU-HaZ0",
        "colab": {
          "base_uri": "https://localhost:8080/",
          "height": 424
        },
        "outputId": "8ad47a5c-eb3a-45f7-b030-c7ba6c81bcf9"
      },
      "execution_count": null,
      "outputs": [
        {
          "output_type": "execute_result",
          "data": {
            "text/plain": [
              "              workclass   education      marital-status  hours-per-week salary\n",
              "0             State-gov   Bachelors       Never-married              40  <=50K\n",
              "1      Self-emp-not-inc   Bachelors  Married-civ-spouse              32  <=50K\n",
              "2               Private     HS-grad            Divorced              40  <=50K\n",
              "3               Private        11th  Married-civ-spouse              40  <=50K\n",
              "4               Private   Bachelors  Married-civ-spouse              40  <=50K\n",
              "...                 ...         ...                 ...             ...    ...\n",
              "32556           Private  Assoc-acdm  Married-civ-spouse              38  <=50K\n",
              "32557           Private     HS-grad  Married-civ-spouse              40   >50K\n",
              "32558           Private     HS-grad             Widowed              40  <=50K\n",
              "32559           Private     HS-grad       Never-married              32  <=50K\n",
              "32560      Self-emp-inc     HS-grad  Married-civ-spouse              40   >50K\n",
              "\n",
              "[32561 rows x 5 columns]"
            ],
            "text/html": [
              "\n",
              "  <div id=\"df-50b00b03-8c03-41bb-935a-9573e61256d9\">\n",
              "    <div class=\"colab-df-container\">\n",
              "      <div>\n",
              "<style scoped>\n",
              "    .dataframe tbody tr th:only-of-type {\n",
              "        vertical-align: middle;\n",
              "    }\n",
              "\n",
              "    .dataframe tbody tr th {\n",
              "        vertical-align: top;\n",
              "    }\n",
              "\n",
              "    .dataframe thead th {\n",
              "        text-align: right;\n",
              "    }\n",
              "</style>\n",
              "<table border=\"1\" class=\"dataframe\">\n",
              "  <thead>\n",
              "    <tr style=\"text-align: right;\">\n",
              "      <th></th>\n",
              "      <th>workclass</th>\n",
              "      <th>education</th>\n",
              "      <th>marital-status</th>\n",
              "      <th>hours-per-week</th>\n",
              "      <th>salary</th>\n",
              "    </tr>\n",
              "  </thead>\n",
              "  <tbody>\n",
              "    <tr>\n",
              "      <th>0</th>\n",
              "      <td>State-gov</td>\n",
              "      <td>Bachelors</td>\n",
              "      <td>Never-married</td>\n",
              "      <td>40</td>\n",
              "      <td>&lt;=50K</td>\n",
              "    </tr>\n",
              "    <tr>\n",
              "      <th>1</th>\n",
              "      <td>Self-emp-not-inc</td>\n",
              "      <td>Bachelors</td>\n",
              "      <td>Married-civ-spouse</td>\n",
              "      <td>32</td>\n",
              "      <td>&lt;=50K</td>\n",
              "    </tr>\n",
              "    <tr>\n",
              "      <th>2</th>\n",
              "      <td>Private</td>\n",
              "      <td>HS-grad</td>\n",
              "      <td>Divorced</td>\n",
              "      <td>40</td>\n",
              "      <td>&lt;=50K</td>\n",
              "    </tr>\n",
              "    <tr>\n",
              "      <th>3</th>\n",
              "      <td>Private</td>\n",
              "      <td>11th</td>\n",
              "      <td>Married-civ-spouse</td>\n",
              "      <td>40</td>\n",
              "      <td>&lt;=50K</td>\n",
              "    </tr>\n",
              "    <tr>\n",
              "      <th>4</th>\n",
              "      <td>Private</td>\n",
              "      <td>Bachelors</td>\n",
              "      <td>Married-civ-spouse</td>\n",
              "      <td>40</td>\n",
              "      <td>&lt;=50K</td>\n",
              "    </tr>\n",
              "    <tr>\n",
              "      <th>...</th>\n",
              "      <td>...</td>\n",
              "      <td>...</td>\n",
              "      <td>...</td>\n",
              "      <td>...</td>\n",
              "      <td>...</td>\n",
              "    </tr>\n",
              "    <tr>\n",
              "      <th>32556</th>\n",
              "      <td>Private</td>\n",
              "      <td>Assoc-acdm</td>\n",
              "      <td>Married-civ-spouse</td>\n",
              "      <td>38</td>\n",
              "      <td>&lt;=50K</td>\n",
              "    </tr>\n",
              "    <tr>\n",
              "      <th>32557</th>\n",
              "      <td>Private</td>\n",
              "      <td>HS-grad</td>\n",
              "      <td>Married-civ-spouse</td>\n",
              "      <td>40</td>\n",
              "      <td>&gt;50K</td>\n",
              "    </tr>\n",
              "    <tr>\n",
              "      <th>32558</th>\n",
              "      <td>Private</td>\n",
              "      <td>HS-grad</td>\n",
              "      <td>Widowed</td>\n",
              "      <td>40</td>\n",
              "      <td>&lt;=50K</td>\n",
              "    </tr>\n",
              "    <tr>\n",
              "      <th>32559</th>\n",
              "      <td>Private</td>\n",
              "      <td>HS-grad</td>\n",
              "      <td>Never-married</td>\n",
              "      <td>32</td>\n",
              "      <td>&lt;=50K</td>\n",
              "    </tr>\n",
              "    <tr>\n",
              "      <th>32560</th>\n",
              "      <td>Self-emp-inc</td>\n",
              "      <td>HS-grad</td>\n",
              "      <td>Married-civ-spouse</td>\n",
              "      <td>40</td>\n",
              "      <td>&gt;50K</td>\n",
              "    </tr>\n",
              "  </tbody>\n",
              "</table>\n",
              "<p>32561 rows × 5 columns</p>\n",
              "</div>\n",
              "      <button class=\"colab-df-convert\" onclick=\"convertToInteractive('df-50b00b03-8c03-41bb-935a-9573e61256d9')\"\n",
              "              title=\"Convert this dataframe to an interactive table.\"\n",
              "              style=\"display:none;\">\n",
              "        \n",
              "  <svg xmlns=\"http://www.w3.org/2000/svg\" height=\"24px\"viewBox=\"0 0 24 24\"\n",
              "       width=\"24px\">\n",
              "    <path d=\"M0 0h24v24H0V0z\" fill=\"none\"/>\n",
              "    <path d=\"M18.56 5.44l.94 2.06.94-2.06 2.06-.94-2.06-.94-.94-2.06-.94 2.06-2.06.94zm-11 1L8.5 8.5l.94-2.06 2.06-.94-2.06-.94L8.5 2.5l-.94 2.06-2.06.94zm10 10l.94 2.06.94-2.06 2.06-.94-2.06-.94-.94-2.06-.94 2.06-2.06.94z\"/><path d=\"M17.41 7.96l-1.37-1.37c-.4-.4-.92-.59-1.43-.59-.52 0-1.04.2-1.43.59L10.3 9.45l-7.72 7.72c-.78.78-.78 2.05 0 2.83L4 21.41c.39.39.9.59 1.41.59.51 0 1.02-.2 1.41-.59l7.78-7.78 2.81-2.81c.8-.78.8-2.07 0-2.86zM5.41 20L4 18.59l7.72-7.72 1.47 1.35L5.41 20z\"/>\n",
              "  </svg>\n",
              "      </button>\n",
              "      \n",
              "  <style>\n",
              "    .colab-df-container {\n",
              "      display:flex;\n",
              "      flex-wrap:wrap;\n",
              "      gap: 12px;\n",
              "    }\n",
              "\n",
              "    .colab-df-convert {\n",
              "      background-color: #E8F0FE;\n",
              "      border: none;\n",
              "      border-radius: 50%;\n",
              "      cursor: pointer;\n",
              "      display: none;\n",
              "      fill: #1967D2;\n",
              "      height: 32px;\n",
              "      padding: 0 0 0 0;\n",
              "      width: 32px;\n",
              "    }\n",
              "\n",
              "    .colab-df-convert:hover {\n",
              "      background-color: #E2EBFA;\n",
              "      box-shadow: 0px 1px 2px rgba(60, 64, 67, 0.3), 0px 1px 3px 1px rgba(60, 64, 67, 0.15);\n",
              "      fill: #174EA6;\n",
              "    }\n",
              "\n",
              "    [theme=dark] .colab-df-convert {\n",
              "      background-color: #3B4455;\n",
              "      fill: #D2E3FC;\n",
              "    }\n",
              "\n",
              "    [theme=dark] .colab-df-convert:hover {\n",
              "      background-color: #434B5C;\n",
              "      box-shadow: 0px 1px 3px 1px rgba(0, 0, 0, 0.15);\n",
              "      filter: drop-shadow(0px 1px 2px rgba(0, 0, 0, 0.3));\n",
              "      fill: #FFFFFF;\n",
              "    }\n",
              "  </style>\n",
              "\n",
              "      <script>\n",
              "        const buttonEl =\n",
              "          document.querySelector('#df-50b00b03-8c03-41bb-935a-9573e61256d9 button.colab-df-convert');\n",
              "        buttonEl.style.display =\n",
              "          google.colab.kernel.accessAllowed ? 'block' : 'none';\n",
              "\n",
              "        async function convertToInteractive(key) {\n",
              "          const element = document.querySelector('#df-50b00b03-8c03-41bb-935a-9573e61256d9');\n",
              "          const dataTable =\n",
              "            await google.colab.kernel.invokeFunction('convertToInteractive',\n",
              "                                                     [key], {});\n",
              "          if (!dataTable) return;\n",
              "\n",
              "          const docLinkHtml = 'Like what you see? Visit the ' +\n",
              "            '<a target=\"_blank\" href=https://colab.research.google.com/notebooks/data_table.ipynb>data table notebook</a>'\n",
              "            + ' to learn more about interactive tables.';\n",
              "          element.innerHTML = '';\n",
              "          dataTable['output_type'] = 'display_data';\n",
              "          await google.colab.output.renderOutput(dataTable, element);\n",
              "          const docLink = document.createElement('div');\n",
              "          docLink.innerHTML = docLinkHtml;\n",
              "          element.appendChild(docLink);\n",
              "        }\n",
              "      </script>\n",
              "    </div>\n",
              "  </div>\n",
              "  "
            ]
          },
          "metadata": {},
          "execution_count": 26
        }
      ]
    },
    {
      "cell_type": "markdown",
      "source": [
        "**Select Target and Features**"
      ],
      "metadata": {
        "id": "VBRgLRrCrYkN"
      }
    },
    {
      "cell_type": "code",
      "source": [
        "y=df1['salary']\n",
        "X=df1.drop('salary',axis=1)"
      ],
      "metadata": {
        "id": "ngY2HafrpkI6"
      },
      "execution_count": null,
      "outputs": []
    },
    {
      "cell_type": "code",
      "source": [
        "y"
      ],
      "metadata": {
        "id": "oSpYA2bqrBG9"
      },
      "execution_count": null,
      "outputs": []
    },
    {
      "cell_type": "markdown",
      "source": [
        "**Model creation**"
      ],
      "metadata": {
        "id": "BjmbfnH5iTTE"
      }
    },
    {
      "cell_type": "code",
      "source": [
        "from sklearn.model_selection import train_test_split\n",
        "X_train,X_test,y_train,y_test= train_test_split(X,y,test_size=0.2,random_state=42)"
      ],
      "metadata": {
        "id": "OUIuKEC3g8Ph"
      },
      "execution_count": null,
      "outputs": []
    },
    {
      "cell_type": "code",
      "source": [
        "from sklearn.metrics import confusion_matrix,f1_score\n",
        "from sklearn.metrics import accuracy_score,classification_report"
      ],
      "metadata": {
        "id": "YRrtcjyctEk5"
      },
      "execution_count": null,
      "outputs": []
    },
    {
      "cell_type": "markdown",
      "source": [
        "**1)Logistic Regression**"
      ],
      "metadata": {
        "id": "zxYsv_0UmZLR"
      }
    },
    {
      "cell_type": "code",
      "source": [],
      "metadata": {
        "id": "eQ0jf0Vsjzp_"
      },
      "execution_count": null,
      "outputs": []
    },
    {
      "cell_type": "code",
      "source": [
        "from sklearn.linear_model import LogisticRegression\n",
        "lr=LogisticRegression()\n",
        "lr_model=lr.fit(X_train,y_train)\n",
        "lr_y_predict=lr_model.predict(X_test)"
      ],
      "metadata": {
        "id": "sJpZNJuTm5iN"
      },
      "execution_count": null,
      "outputs": []
    },
    {
      "cell_type": "code",
      "source": [],
      "metadata": {
        "id": "4qwJ91_othM6"
      },
      "execution_count": null,
      "outputs": []
    },
    {
      "cell_type": "code",
      "source": [
        "print(\"Confusion matrix \\n\",confusion_matrix(y_test,lr_y_predict))\n",
        "print(\"\\n Accuracy \\n\",accuracy_score(y_test,lr_y_predict))\n",
        "print('\\nClassification Report\\n',classification_report(y_test,lr_y_predict))"
      ],
      "metadata": {
        "colab": {
          "base_uri": "https://localhost:8080/"
        },
        "id": "YPtZBUwDsfQF",
        "outputId": "d71b6d35-7ca4-460b-8f26-37f55b22b191"
      },
      "execution_count": null,
      "outputs": [
        {
          "output_type": "stream",
          "name": "stdout",
          "text": [
            "Confusion matrix \n",
            " [[4710  232]\n",
            " [1420  151]]\n",
            "\n",
            " Accuracy \n",
            " 0.7463534469522494\n",
            "\n",
            "Classification Report\n",
            "               precision    recall  f1-score   support\n",
            "\n",
            "       <=50K       0.77      0.95      0.85      4942\n",
            "        >50K       0.39      0.10      0.15      1571\n",
            "\n",
            "    accuracy                           0.75      6513\n",
            "   macro avg       0.58      0.52      0.50      6513\n",
            "weighted avg       0.68      0.75      0.68      6513\n",
            "\n"
          ]
        }
      ]
    },
    {
      "cell_type": "markdown",
      "source": [
        "**2)Support Vector Machine**"
      ],
      "metadata": {
        "id": "Y8IxnR_k4P1U"
      }
    },
    {
      "cell_type": "code",
      "source": [
        "from sklearn.svm import SVC\n",
        "svm_clf=SVC(kernel='linear')\n",
        "svm_clf_model=svm_clf.fit(X_train,y_train)\n",
        "y_pre=svm_clf_model.predict(X_test)"
      ],
      "metadata": {
        "id": "D3qyJBzJt81S"
      },
      "execution_count": null,
      "outputs": []
    },
    {
      "cell_type": "code",
      "source": [
        "print(\"Confusion matrix \\n\",confusion_matrix(y_test,y_pre))\n",
        "print(\"\\n Accuracy \\n\",accuracy_score(y_test,y_pre))\n",
        "print('\\nClassification Report\\n',classification_report(y_test,lr_y_predict))"
      ],
      "metadata": {
        "colab": {
          "base_uri": "https://localhost:8080/"
        },
        "id": "06LJZOtXuHlh",
        "outputId": "f6d88761-2ee6-44f8-c488-6321c07a0baf"
      },
      "execution_count": null,
      "outputs": [
        {
          "output_type": "stream",
          "name": "stdout",
          "text": [
            "Confusion matrix \n",
            " [[4942    0]\n",
            " [1571    0]]\n",
            "\n",
            " Accuracy \n",
            " 0.7587901120835252\n",
            "\n",
            "Classification Report\n",
            "               precision    recall  f1-score   support\n",
            "\n",
            "           0       0.77      0.95      0.85      4942\n",
            "           1       0.39      0.10      0.15      1571\n",
            "\n",
            "    accuracy                           0.75      6513\n",
            "   macro avg       0.58      0.52      0.50      6513\n",
            "weighted avg       0.68      0.75      0.68      6513\n",
            "\n"
          ]
        }
      ]
    },
    {
      "cell_type": "markdown",
      "source": [
        "**3)K-Nearest Neighbors Algorithm**"
      ],
      "metadata": {
        "id": "RO8bBBjCa72i"
      }
    },
    {
      "cell_type": "code",
      "source": [
        "from sklearn.neighbors import KNeighborsClassifier\n",
        "from sklearn import neighbors"
      ],
      "metadata": {
        "id": "M5kUxbsQa7FZ"
      },
      "execution_count": null,
      "outputs": []
    },
    {
      "cell_type": "code",
      "source": [
        "\n",
        "kNN_m=[]\n",
        "neighbors=range(3,15)\n",
        "for k in neighbors:\n",
        "  classifier=KNeighborsClassifier(n_neighbors=k)\n",
        "  classifier=classifier.fit(X_train,y_train)\n",
        "  kNN_y_predi=classifier.predict(X_test)\n",
        "  acc=accuracy_score(y_test,kNN_y_predi)\n",
        "  kNN_m.append(acc)\n",
        "  print(kNN_m)"
      ],
      "metadata": {
        "colab": {
          "base_uri": "https://localhost:8080/"
        },
        "id": "PFJ7lufNcwL9",
        "outputId": "51166201-14c6-4bf0-e08d-89f707120fbe"
      },
      "execution_count": null,
      "outputs": [
        {
          "output_type": "stream",
          "name": "stdout",
          "text": [
            "[0.7964071856287425]\n",
            "[0.7964071856287425, 0.8062336864732075]\n",
            "[0.7964071856287425, 0.8062336864732075, 0.8025487486565331]\n",
            "[0.7964071856287425, 0.8062336864732075, 0.8025487486565331, 0.8040841394134808]\n",
            "[0.7964071856287425, 0.8062336864732075, 0.8025487486565331, 0.8040841394134808, 0.8048518347919545]\n",
            "[0.7964071856287425, 0.8062336864732075, 0.8025487486565331, 0.8040841394134808, 0.8048518347919545, 0.8106863196683556]\n",
            "[0.7964071856287425, 0.8062336864732075, 0.8025487486565331, 0.8040841394134808, 0.8048518347919545, 0.8106863196683556, 0.8116075541225242]\n",
            "[0.7964071856287425, 0.8062336864732075, 0.8025487486565331, 0.8040841394134808, 0.8048518347919545, 0.8106863196683556, 0.8116075541225242, 0.8102257024412713]\n",
            "[0.7964071856287425, 0.8062336864732075, 0.8025487486565331, 0.8040841394134808, 0.8048518347919545, 0.8106863196683556, 0.8116075541225242, 0.8102257024412713, 0.8105327805926609]\n",
            "[0.7964071856287425, 0.8062336864732075, 0.8025487486565331, 0.8040841394134808, 0.8048518347919545, 0.8106863196683556, 0.8116075541225242, 0.8102257024412713, 0.8105327805926609, 0.812375249500998]\n",
            "[0.7964071856287425, 0.8062336864732075, 0.8025487486565331, 0.8040841394134808, 0.8048518347919545, 0.8106863196683556, 0.8116075541225242, 0.8102257024412713, 0.8105327805926609, 0.812375249500998, 0.8079226163058498]\n",
            "[0.7964071856287425, 0.8062336864732075, 0.8025487486565331, 0.8040841394134808, 0.8048518347919545, 0.8106863196683556, 0.8116075541225242, 0.8102257024412713, 0.8105327805926609, 0.812375249500998, 0.8079226163058498, 0.8037770612620913]\n"
          ]
        }
      ]
    },
    {
      "cell_type": "code",
      "source": [
        "plt.plot(neighbors, kNN_m,'o-')\n",
        "plt.xlabel=('K values')\n",
        "plt.ylabel('Accuracy')\n",
        "plt.grid()"
      ],
      "metadata": {
        "colab": {
          "base_uri": "https://localhost:8080/",
          "height": 265
        },
        "id": "WxDW6cGYdGZJ",
        "outputId": "534b00df-62c3-443a-a833-5dfcd384958d"
      },
      "execution_count": null,
      "outputs": [
        {
          "output_type": "display_data",
          "data": {
            "text/plain": [
              "<Figure size 432x288 with 1 Axes>"
            ],
            "image/png": "[encoded data removed]"
          },
          "metadata": {
            "needs_background": "light"
          }
        }
      ]
    },
    {
      "cell_type": "code",
      "source": [
        "classifier = KNeighborsClassifier(n_neighbors=12)\n",
        "classifier = classifier.fit(X_train,y_train)\n",
        "kNN_y_predi=classifier.predict(X_test)"
      ],
      "metadata": {
        "id": "jDYkeKlMdQGO"
      },
      "execution_count": null,
      "outputs": []
    },
    {
      "cell_type": "code",
      "source": [
        "print('confusion_matrix \\n',confusion_matrix(y_test,kNN_y_predi))\n",
        "print( '\\n accuracy_score \\n',accuracy_score(y_test,kNN_y_predi))\n",
        "print('\\nClassification Report\\n',classification_report(y_test,kNN_y_predi))"
      ],
      "metadata": {
        "colab": {
          "base_uri": "https://localhost:8080/"
        },
        "id": "-qvVLfpZdXf2",
        "outputId": "dfa5ab70-c6dd-40b1-f35a-e54eefe44465"
      },
      "execution_count": null,
      "outputs": [
        {
          "output_type": "stream",
          "name": "stdout",
          "text": [
            "confusion_matrix \n",
            " [[4656  286]\n",
            " [ 936  635]]\n",
            "\n",
            " accuracy_score \n",
            " 0.812375249500998\n",
            "\n",
            "Classification Report\n",
            "               precision    recall  f1-score   support\n",
            "\n",
            "           0       0.83      0.94      0.88      4942\n",
            "           1       0.69      0.40      0.51      1571\n",
            "\n",
            "    accuracy                           0.81      6513\n",
            "   macro avg       0.76      0.67      0.70      6513\n",
            "weighted avg       0.80      0.81      0.79      6513\n",
            "\n"
          ]
        }
      ]
    },
    {
      "cell_type": "code",
      "source": [],
      "metadata": {
        "id": "cRgBerSdepxL"
      },
      "execution_count": null,
      "outputs": []
    },
    {
      "cell_type": "markdown",
      "source": [
        "**4)Gradient Boosting Algorithm**"
      ],
      "metadata": {
        "id": "WVT9RLmnig_V"
      }
    },
    {
      "cell_type": "code",
      "source": [
        "from sklearn.ensemble import GradientBoostingClassifier\n",
        "grb_clfr=GradientBoostingClassifier()"
      ],
      "metadata": {
        "id": "rW8_lANCigC9"
      },
      "execution_count": null,
      "outputs": []
    },
    {
      "cell_type": "code",
      "source": [
        "grb_model=grb_clfr.fit(X_train,y_train)\n",
        "y_pred_grb=grb_model.predict(X_test)"
      ],
      "metadata": {
        "id": "lQ98r_1Hjfpb"
      },
      "execution_count": null,
      "outputs": []
    },
    {
      "cell_type": "code",
      "source": [
        "print('Confusion matrix\\n',confusion_matrix(y_test,y_pred_grb))\n",
        "print(\"\\nAccuracy \\n\",accuracy_score(y_test,y_pred_grb))\n",
        "print('\\n Classification Report\\n',classification_report(y_test,y_pred_grb))"
      ],
      "metadata": {
        "colab": {
          "base_uri": "https://localhost:8080/"
        },
        "id": "R5zcqj4gjpRW",
        "outputId": "7637a554-7dcf-460f-c6a1-2cdfe555a968"
      },
      "execution_count": null,
      "outputs": [
        {
          "output_type": "stream",
          "name": "stdout",
          "text": [
            "Confusion matrix\n",
            " [[4611  331]\n",
            " [ 810  761]]\n",
            "\n",
            "Accuracy \n",
            " 0.8248119146322739\n",
            "\n",
            " Classification Report\n",
            "               precision    recall  f1-score   support\n",
            "\n",
            "           0       0.85      0.93      0.89      4942\n",
            "           1       0.70      0.48      0.57      1571\n",
            "\n",
            "    accuracy                           0.82      6513\n",
            "   macro avg       0.77      0.71      0.73      6513\n",
            "weighted avg       0.81      0.82      0.81      6513\n",
            "\n"
          ]
        }
      ]
    },
    {
      "cell_type": "markdown",
      "source": [
        "**5)RandomForestClassifier**"
      ],
      "metadata": {
        "id": "VJwGkblo5Ixu"
      }
    },
    {
      "cell_type": "code",
      "source": [
        "from sklearn.ensemble import RandomForestClassifier\n",
        "rfc=RandomForestClassifier()"
      ],
      "metadata": {
        "id": "dqUP2yCJ4vYk"
      },
      "execution_count": null,
      "outputs": []
    },
    {
      "cell_type": "code",
      "source": [
        "rfc=rfc.fit(X_train,y_train)\n",
        "y_pred_fc=rfc.predict(X_test)\n",
        "print('Confusion matrix\\n',confusion_matrix(y_test,y_pred_fc))\n",
        "print(\"\\nAccuracy \\n\",accuracy_score(y_test,y_pred_fc))\n",
        "print(\"\\nClassification Report\\n\",classification_report(y_test,y_pred_fc))"
      ],
      "metadata": {
        "colab": {
          "base_uri": "https://localhost:8080/"
        },
        "id": "LZZyjzaT4zZ-",
        "outputId": "a3f8e4a7-2a3f-4dcf-899e-4df4a46e0192"
      },
      "execution_count": null,
      "outputs": [
        {
          "output_type": "stream",
          "name": "stdout",
          "text": [
            "Confusion matrix\n",
            " [[4549  393]\n",
            " [ 785  786]]\n",
            "\n",
            "Accuracy \n",
            " 0.8191309688315677\n",
            "\n",
            "Classification Report\n",
            "               precision    recall  f1-score   support\n",
            "\n",
            "           0       0.85      0.92      0.89      4942\n",
            "           1       0.67      0.50      0.57      1571\n",
            "\n",
            "    accuracy                           0.82      6513\n",
            "   macro avg       0.76      0.71      0.73      6513\n",
            "weighted avg       0.81      0.82      0.81      6513\n",
            "\n"
          ]
        }
      ]
    },
    {
      "cell_type": "markdown",
      "source": [
        "**6)DecisionTreeClassifier**"
      ],
      "metadata": {
        "id": "LKDjgfSYs7_m"
      }
    },
    {
      "cell_type": "code",
      "source": [
        "from sklearn.tree import DecisionTreeClassifier\n",
        "dt=DecisionTreeClassifier()"
      ],
      "metadata": {
        "id": "s5pD3z2Dsx-Z"
      },
      "execution_count": null,
      "outputs": []
    },
    {
      "cell_type": "code",
      "source": [
        "dt=dt.fit(X_train,y_train)\n",
        "y_predt=dt.predict(X_test)\n",
        "print(\"Confusion matrix \\n\",confusion_matrix(y_test,y_predt))\n",
        "print(\"\\nAccuracy \\n\",accuracy_score(y_test,y_predt))\n",
        "print('\\nClassification Report\\n',classification_report(y_test,y_predt))"
      ],
      "metadata": {
        "colab": {
          "base_uri": "https://localhost:8080/"
        },
        "id": "dwjyr6-eszei",
        "outputId": "7405acf7-bcdb-477f-8f54-b94b86429602"
      },
      "execution_count": null,
      "outputs": [
        {
          "output_type": "stream",
          "name": "stdout",
          "text": [
            "Confusion matrix \n",
            " [[4559  383]\n",
            " [ 796  775]]\n",
            "\n",
            "Accuracy \n",
            " 0.8189774297558728\n",
            "\n",
            "Classification Report\n",
            "               precision    recall  f1-score   support\n",
            "\n",
            "           0       0.85      0.92      0.89      4942\n",
            "           1       0.67      0.49      0.57      1571\n",
            "\n",
            "    accuracy                           0.82      6513\n",
            "   macro avg       0.76      0.71      0.73      6513\n",
            "weighted avg       0.81      0.82      0.81      6513\n",
            "\n"
          ]
        }
      ]
    },
    {
      "cell_type": "markdown",
      "source": [],
      "metadata": {
        "id": "U7wUwl3hq_Yq"
      }
    },
    {
      "cell_type": "code",
      "source": [
        "df1"
      ],
      "metadata": {
        "colab": {
          "base_uri": "https://localhost:8080/",
          "height": 424
        },
        "id": "BTRCJW-3peuU",
        "outputId": "1ac94701-4020-4788-c275-fbdc3e5d2700"
      },
      "execution_count": null,
      "outputs": [
        {
          "output_type": "execute_result",
          "data": {
            "text/plain": [
              "       workclass  education  marital-status  hours-per-week  salary\n",
              "0              6          9               4              40       0\n",
              "1              5          9               2              32       0\n",
              "2              3         11               0              40       0\n",
              "3              3          1               2              40       0\n",
              "4              3          9               2              40       0\n",
              "...          ...        ...             ...             ...     ...\n",
              "32556          3          7               2              38       0\n",
              "32557          3         11               2              40       1\n",
              "32558          3         11               6              40       0\n",
              "32559          3         11               4              32       0\n",
              "32560          4         11               2              40       1\n",
              "\n",
              "[32561 rows x 5 columns]"
            ],
            "text/html": [
              "\n",
              "  <div id=\"df-7a636fd5-931a-450d-8582-eeed6af4a8c6\">\n",
              "    <div class=\"colab-df-container\">\n",
              "      <div>\n",
              "<style scoped>\n",
              "    .dataframe tbody tr th:only-of-type {\n",
              "        vertical-align: middle;\n",
              "    }\n",
              "\n",
              "    .dataframe tbody tr th {\n",
              "        vertical-align: top;\n",
              "    }\n",
              "\n",
              "    .dataframe thead th {\n",
              "        text-align: right;\n",
              "    }\n",
              "</style>\n",
              "<table border=\"1\" class=\"dataframe\">\n",
              "  <thead>\n",
              "    <tr style=\"text-align: right;\">\n",
              "      <th></th>\n",
              "      <th>workclass</th>\n",
              "      <th>education</th>\n",
              "      <th>marital-status</th>\n",
              "      <th>hours-per-week</th>\n",
              "      <th>salary</th>\n",
              "    </tr>\n",
              "  </thead>\n",
              "  <tbody>\n",
              "    <tr>\n",
              "      <th>0</th>\n",
              "      <td>6</td>\n",
              "      <td>9</td>\n",
              "      <td>4</td>\n",
              "      <td>40</td>\n",
              "      <td>0</td>\n",
              "    </tr>\n",
              "    <tr>\n",
              "      <th>1</th>\n",
              "      <td>5</td>\n",
              "      <td>9</td>\n",
              "      <td>2</td>\n",
              "      <td>32</td>\n",
              "      <td>0</td>\n",
              "    </tr>\n",
              "    <tr>\n",
              "      <th>2</th>\n",
              "      <td>3</td>\n",
              "      <td>11</td>\n",
              "      <td>0</td>\n",
              "      <td>40</td>\n",
              "      <td>0</td>\n",
              "    </tr>\n",
              "    <tr>\n",
              "      <th>3</th>\n",
              "      <td>3</td>\n",
              "      <td>1</td>\n",
              "      <td>2</td>\n",
              "      <td>40</td>\n",
              "      <td>0</td>\n",
              "    </tr>\n",
              "    <tr>\n",
              "      <th>4</th>\n",
              "      <td>3</td>\n",
              "      <td>9</td>\n",
              "      <td>2</td>\n",
              "      <td>40</td>\n",
              "      <td>0</td>\n",
              "    </tr>\n",
              "    <tr>\n",
              "      <th>...</th>\n",
              "      <td>...</td>\n",
              "      <td>...</td>\n",
              "      <td>...</td>\n",
              "      <td>...</td>\n",
              "      <td>...</td>\n",
              "    </tr>\n",
              "    <tr>\n",
              "      <th>32556</th>\n",
              "      <td>3</td>\n",
              "      <td>7</td>\n",
              "      <td>2</td>\n",
              "      <td>38</td>\n",
              "      <td>0</td>\n",
              "    </tr>\n",
              "    <tr>\n",
              "      <th>32557</th>\n",
              "      <td>3</td>\n",
              "      <td>11</td>\n",
              "      <td>2</td>\n",
              "      <td>40</td>\n",
              "      <td>1</td>\n",
              "    </tr>\n",
              "    <tr>\n",
              "      <th>32558</th>\n",
              "      <td>3</td>\n",
              "      <td>11</td>\n",
              "      <td>6</td>\n",
              "      <td>40</td>\n",
              "      <td>0</td>\n",
              "    </tr>\n",
              "    <tr>\n",
              "      <th>32559</th>\n",
              "      <td>3</td>\n",
              "      <td>11</td>\n",
              "      <td>4</td>\n",
              "      <td>32</td>\n",
              "      <td>0</td>\n",
              "    </tr>\n",
              "    <tr>\n",
              "      <th>32560</th>\n",
              "      <td>4</td>\n",
              "      <td>11</td>\n",
              "      <td>2</td>\n",
              "      <td>40</td>\n",
              "      <td>1</td>\n",
              "    </tr>\n",
              "  </tbody>\n",
              "</table>\n",
              "<p>32561 rows × 5 columns</p>\n",
              "</div>\n",
              "      <button class=\"colab-df-convert\" onclick=\"convertToInteractive('df-7a636fd5-931a-450d-8582-eeed6af4a8c6')\"\n",
              "              title=\"Convert this dataframe to an interactive table.\"\n",
              "              style=\"display:none;\">\n",
              "        \n",
              "  <svg xmlns=\"http://www.w3.org/2000/svg\" height=\"24px\"viewBox=\"0 0 24 24\"\n",
              "       width=\"24px\">\n",
              "    <path d=\"M0 0h24v24H0V0z\" fill=\"none\"/>\n",
              "    <path d=\"M18.56 5.44l.94 2.06.94-2.06 2.06-.94-2.06-.94-.94-2.06-.94 2.06-2.06.94zm-11 1L8.5 8.5l.94-2.06 2.06-.94-2.06-.94L8.5 2.5l-.94 2.06-2.06.94zm10 10l.94 2.06.94-2.06 2.06-.94-2.06-.94-.94-2.06-.94 2.06-2.06.94z\"/><path d=\"M17.41 7.96l-1.37-1.37c-.4-.4-.92-.59-1.43-.59-.52 0-1.04.2-1.43.59L10.3 9.45l-7.72 7.72c-.78.78-.78 2.05 0 2.83L4 21.41c.39.39.9.59 1.41.59.51 0 1.02-.2 1.41-.59l7.78-7.78 2.81-2.81c.8-.78.8-2.07 0-2.86zM5.41 20L4 18.59l7.72-7.72 1.47 1.35L5.41 20z\"/>\n",
              "  </svg>\n",
              "      </button>\n",
              "      \n",
              "  <style>\n",
              "    .colab-df-container {\n",
              "      display:flex;\n",
              "      flex-wrap:wrap;\n",
              "      gap: 12px;\n",
              "    }\n",
              "\n",
              "    .colab-df-convert {\n",
              "      background-color: #E8F0FE;\n",
              "      border: none;\n",
              "      border-radius: 50%;\n",
              "      cursor: pointer;\n",
              "      display: none;\n",
              "      fill: #1967D2;\n",
              "      height: 32px;\n",
              "      padding: 0 0 0 0;\n",
              "      width: 32px;\n",
              "    }\n",
              "\n",
              "    .colab-df-convert:hover {\n",
              "      background-color: #E2EBFA;\n",
              "      box-shadow: 0px 1px 2px rgba(60, 64, 67, 0.3), 0px 1px 3px 1px rgba(60, 64, 67, 0.15);\n",
              "      fill: #174EA6;\n",
              "    }\n",
              "\n",
              "    [theme=dark] .colab-df-convert {\n",
              "      background-color: #3B4455;\n",
              "      fill: #D2E3FC;\n",
              "    }\n",
              "\n",
              "    [theme=dark] .colab-df-convert:hover {\n",
              "      background-color: #434B5C;\n",
              "      box-shadow: 0px 1px 3px 1px rgba(0, 0, 0, 0.15);\n",
              "      filter: drop-shadow(0px 1px 2px rgba(0, 0, 0, 0.3));\n",
              "      fill: #FFFFFF;\n",
              "    }\n",
              "  </style>\n",
              "\n",
              "      <script>\n",
              "        const buttonEl =\n",
              "          document.querySelector('#df-7a636fd5-931a-450d-8582-eeed6af4a8c6 button.colab-df-convert');\n",
              "        buttonEl.style.display =\n",
              "          google.colab.kernel.accessAllowed ? 'block' : 'none';\n",
              "\n",
              "        async function convertToInteractive(key) {\n",
              "          const element = document.querySelector('#df-7a636fd5-931a-450d-8582-eeed6af4a8c6');\n",
              "          const dataTable =\n",
              "            await google.colab.kernel.invokeFunction('convertToInteractive',\n",
              "                                                     [key], {});\n",
              "          if (!dataTable) return;\n",
              "\n",
              "          const docLinkHtml = 'Like what you see? Visit the ' +\n",
              "            '<a target=\"_blank\" href=https://colab.research.google.com/notebooks/data_table.ipynb>data table notebook</a>'\n",
              "            + ' to learn more about interactive tables.';\n",
              "          element.innerHTML = '';\n",
              "          dataTable['output_type'] = 'display_data';\n",
              "          await google.colab.output.renderOutput(dataTable, element);\n",
              "          const docLink = document.createElement('div');\n",
              "          docLink.innerHTML = docLinkHtml;\n",
              "          element.appendChild(docLink);\n",
              "        }\n",
              "      </script>\n",
              "    </div>\n",
              "  </div>\n",
              "  "
            ]
          },
          "metadata": {},
          "execution_count": 53
        }
      ]
    },
    {
      "cell_type": "code",
      "source": [
        "df1['hours-per-week'].nunique()"
      ],
      "metadata": {
        "colab": {
          "base_uri": "https://localhost:8080/"
        },
        "id": "tKXQ6viSrr8A",
        "outputId": "29cdf50f-522c-43fe-a493-f9c398639917"
      },
      "execution_count": null,
      "outputs": [
        {
          "output_type": "execute_result",
          "data": {
            "text/plain": [
              "21"
            ]
          },
          "metadata": {},
          "execution_count": 56
        }
      ]
    },
    {
      "cell_type": "code",
      "source": [
        "df1['hours-per-week'].unique()"
      ],
      "metadata": {
        "colab": {
          "base_uri": "https://localhost:8080/"
        },
        "id": "Pr9ObjCNsEsN",
        "outputId": "4ba5770c-9293-434e-88b7-7115707835ee"
      },
      "execution_count": null,
      "outputs": [
        {
          "output_type": "execute_result",
          "data": {
            "text/plain": [
              "array([40, 32, 45, 50, 52, 35, 44, 38, 43, 48, 41, 36, 46, 42, 34, 33, 47,\n",
              "       37, 39, 49, 51])"
            ]
          },
          "metadata": {},
          "execution_count": 58
        }
      ]
    },
    {
      "cell_type": "code",
      "source": [
        "df1['hours-per-week'].value_counts()"
      ],
      "metadata": {
        "colab": {
          "base_uri": "https://localhost:8080/"
        },
        "id": "dN03YgnIrGTU",
        "outputId": "76bbc481-1399-4b0c-8602-7d757d940caf"
      },
      "execution_count": null,
      "outputs": [
        {
          "output_type": "execute_result",
          "data": {
            "text/plain": [
              "40    15217\n",
              "32     5516\n",
              "52     3630\n",
              "50     2819\n",
              "45     1824\n",
              "35     1297\n",
              "48      517\n",
              "38      476\n",
              "36      220\n",
              "42      219\n",
              "44      212\n",
              "43      151\n",
              "37      149\n",
              "46       82\n",
              "47       49\n",
              "33       39\n",
              "39       38\n",
              "41       36\n",
              "49       29\n",
              "34       28\n",
              "51       13\n",
              "Name: hours-per-week, dtype: int64"
            ]
          },
          "metadata": {},
          "execution_count": 54
        }
      ]
    },
    {
      "cell_type": "code",
      "source": [
        "sns.displot(data=df1,x='hours-per-week',aspect=5)"
      ],
      "metadata": {
        "id": "El_C-tXZrgDt"
      },
      "execution_count": null,
      "outputs": []
    },
    {
      "cell_type": "code",
      "source": [
        "df1['hours-per-week'].describe()"
      ],
      "metadata": {
        "id": "dL0vHGN0rh0F",
        "colab": {
          "base_uri": "https://localhost:8080/"
        },
        "outputId": "f8e591ed-d42d-43e9-d4ba-cf85ffe5d21c"
      },
      "execution_count": null,
      "outputs": [
        {
          "output_type": "execute_result",
          "data": {
            "text/plain": [
              "count    32561.000000\n",
              "mean        41.064126\n",
              "std          6.212223\n",
              "min         32.000000\n",
              "25%         40.000000\n",
              "50%         40.000000\n",
              "75%         45.000000\n",
              "max         52.000000\n",
              "Name: hours-per-week, dtype: float64"
            ]
          },
          "metadata": {},
          "execution_count": 62
        }
      ]
    },
    {
      "cell_type": "code",
      "source": [
        "\n"
      ],
      "metadata": {
        "id": "DzNjObEyv5Ku"
      },
      "execution_count": null,
      "outputs": []
    },
    {
      "cell_type": "code",
      "source": [],
      "metadata": {
        "id": "nYNjuassruG7"
      },
      "execution_count": null,
      "outputs": []
    },
    {
      "cell_type": "code",
      "source": [
        "from sklearn.model_selection import RandomizedSearchCV\n",
        "from sklearn.model_selection import GridSearchCV\n",
        "from sklearn.ensemble import GradientBoostingClassifier\n",
        "from scipy.stats import uniform as sp_randFloat\n",
        "from scipy.stats import randint as sp_randInt"
      ],
      "metadata": {
        "id": "dLKupWTQDZ-M"
      },
      "execution_count": null,
      "outputs": []
    },
    {
      "cell_type": "code",
      "source": [
        "import warnings\n",
        "warnings.filterwarnings(\"ignore\")"
      ],
      "metadata": {
        "id": "iZvpVBKTM2F0"
      },
      "execution_count": null,
      "outputs": []
    },
    {
      "cell_type": "code",
      "source": [
        "import numpy as np\n",
        "from sklearn.model_selection import RandomizedSearchCV\n",
        "# Number of trees in random forest\n",
        "n_estimators = [int(x) for x in np.linspace(start = 200, stop = 2000, num = 10)]\n",
        "# Number of features to consider at every split\n",
        "max_features = ['auto', 'sqrt','log2']\n",
        "# Maximum number of levels in tree\n",
        "max_depth = [int(x) for x in np.linspace(10, 1000,10)]\n",
        "# Minimum number of samples required to split a node\n",
        "min_samples_split = [2, 5, 10,14]\n",
        "# Minimum number of samples required at each leaf node\n",
        "min_samples_leaf = [1, 2, 4,6,8]\n",
        "# Create the random grid\n",
        "random_grid = {'n_estimators': n_estimators,\n",
        "               'max_features': max_features,\n",
        "               'max_depth': max_depth,\n",
        "               'min_samples_split': min_samples_split,\n",
        "               'min_samples_leaf': min_samples_leaf,\n",
        "              'criterion':['entropy','gini']}\n",
        "print(random_grid)"
      ],
      "metadata": {
        "colab": {
          "base_uri": "https://localhost:8080/"
        },
        "id": "vI1Lh7mEum_D",
        "outputId": "76d546af-9e98-48d8-90d9-d6373b85b3f9"
      },
      "execution_count": null,
      "outputs": [
        {
          "output_type": "stream",
          "name": "stdout",
          "text": [
            "{'n_estimators': [200, 400, 600, 800, 1000, 1200, 1400, 1600, 1800, 2000], 'max_features': ['auto', 'sqrt', 'log2'], 'max_depth': [10, 120, 230, 340, 450, 560, 670, 780, 890, 1000], 'min_samples_split': [2, 5, 10, 14], 'min_samples_leaf': [1, 2, 4, 6, 8], 'criterion': ['entropy', 'gini']}\n"
          ]
        }
      ]
    },
    {
      "cell_type": "markdown",
      "source": [
        "**Hyper Parameter Tuning**"
      ],
      "metadata": {
        "id": "5GShg2JPwSn6"
      }
    },
    {
      "cell_type": "markdown",
      "source": [
        "**Randomized Search CV**"
      ],
      "metadata": {
        "id": "3q4Ao11UwJ1s"
      }
    },
    {
      "cell_type": "code",
      "source": [
        "model=GradientBoostingClassifier()\n",
        "parameters={\n",
        "            'subsample' : sp_randFloat(),\n",
        "            'n_estimators' : sp_randInt(600,1000),\n",
        "            'max_depth' : sp_randInt(4,10)}\n",
        "rndm=RandomizedSearchCV(estimator=model,param_distributions=parameters,cv=2,n_iter=10,n_jobs=-1)\n",
        "rndm1=rndm.fit(X_train,y_train)\n",
        "y_pred_gb=rndm1.predict(X_test)\n",
        "print (y_pred_gb)"
      ],
      "metadata": {
        "id": "OPFJGTI5r0Nc",
        "colab": {
          "base_uri": "https://localhost:8080/"
        },
        "outputId": "418fcf2e-85db-41e1-89ec-15c28487dde9"
      },
      "execution_count": null,
      "outputs": [
        {
          "output_type": "stream",
          "name": "stdout",
          "text": [
            "[0 0 1 ... 1 0 0]\n"
          ]
        }
      ]
    },
    {
      "cell_type": "code",
      "source": [
        "print(rndm.best_params_)"
      ],
      "metadata": {
        "colab": {
          "base_uri": "https://localhost:8080/"
        },
        "id": "Qs_h8TUNzROc",
        "outputId": "c670e58a-c381-4e1a-f791-acc9e3533274"
      },
      "execution_count": null,
      "outputs": [
        {
          "output_type": "stream",
          "name": "stdout",
          "text": [
            "{'max_depth': 4, 'n_estimators': 600, 'subsample': 0.308413907664825}\n"
          ]
        }
      ]
    },
    {
      "cell_type": "code",
      "source": [
        "rndm.best_estimator_"
      ],
      "metadata": {
        "colab": {
          "base_uri": "https://localhost:8080/",
          "height": 92
        },
        "id": "Ny8zTV40svIU",
        "outputId": "034f5c0c-d6a5-4d47-b9a1-66e33633dd4d"
      },
      "execution_count": null,
      "outputs": [
        {
          "output_type": "execute_result",
          "data": {
            "text/plain": [
              "GradientBoostingClassifier(max_depth=4, n_estimators=600,\n",
              "                           subsample=0.308413907664825)"
            ],
            "text/html": [
              "<style>#sk-container-id-1 {color: black;background-color: white;}#sk-container-id-1 pre{padding: 0;}#sk-container-id-1 div.sk-toggleable {background-color: white;}#sk-container-id-1 label.sk-toggleable__label {cursor: pointer;display: block;width: 100%;margin-bottom: 0;padding: 0.3em;box-sizing: border-box;text-align: center;}#sk-container-id-1 label.sk-toggleable__label-arrow:before {content: \"▸\";float: left;margin-right: 0.25em;color: #696969;}#sk-container-id-1 label.sk-toggleable__label-arrow:hover:before {color: black;}#sk-container-id-1 div.sk-estimator:hover label.sk-toggleable__label-arrow:before {color: black;}#sk-container-id-1 div.sk-toggleable__content {max-height: 0;max-width: 0;overflow: hidden;text-align: left;background-color: #f0f8ff;}#sk-container-id-1 div.sk-toggleable__content pre {margin: 0.2em;color: black;border-radius: 0.25em;background-color: #f0f8ff;}#sk-container-id-1 input.sk-toggleable__control:checked~div.sk-toggleable__content {max-height: 200px;max-width: 100%;overflow: auto;}#sk-container-id-1 input.sk-toggleable__control:checked~label.sk-toggleable__label-arrow:before {content: \"▾\";}#sk-container-id-1 div.sk-estimator input.sk-toggleable__control:checked~label.sk-toggleable__label {background-color: #d4ebff;}#sk-container-id-1 div.sk-label input.sk-toggleable__control:checked~label.sk-toggleable__label {background-color: #d4ebff;}#sk-container-id-1 input.sk-hidden--visually {border: 0;clip: rect(1px 1px 1px 1px);clip: rect(1px, 1px, 1px, 1px);height: 1px;margin: -1px;overflow: hidden;padding: 0;position: absolute;width: 1px;}#sk-container-id-1 div.sk-estimator {font-family: monospace;background-color: #f0f8ff;border: 1px dotted black;border-radius: 0.25em;box-sizing: border-box;margin-bottom: 0.5em;}#sk-container-id-1 div.sk-estimator:hover {background-color: #d4ebff;}#sk-container-id-1 div.sk-parallel-item::after {content: \"\";width: 100%;border-bottom: 1px solid gray;flex-grow: 1;}#sk-container-id-1 div.sk-label:hover label.sk-toggleable__label {background-color: #d4ebff;}#sk-container-id-1 div.sk-serial::before {content: \"\";position: absolute;border-left: 1px solid gray;box-sizing: border-box;top: 0;bottom: 0;left: 50%;z-index: 0;}#sk-container-id-1 div.sk-serial {display: flex;flex-direction: column;align-items: center;background-color: white;padding-right: 0.2em;padding-left: 0.2em;position: relative;}#sk-container-id-1 div.sk-item {position: relative;z-index: 1;}#sk-container-id-1 div.sk-parallel {display: flex;align-items: stretch;justify-content: center;background-color: white;position: relative;}#sk-container-id-1 div.sk-item::before, #sk-container-id-1 div.sk-parallel-item::before {content: \"\";position: absolute;border-left: 1px solid gray;box-sizing: border-box;top: 0;bottom: 0;left: 50%;z-index: -1;}#sk-container-id-1 div.sk-parallel-item {display: flex;flex-direction: column;z-index: 1;position: relative;background-color: white;}#sk-container-id-1 div.sk-parallel-item:first-child::after {align-self: flex-end;width: 50%;}#sk-container-id-1 div.sk-parallel-item:last-child::after {align-self: flex-start;width: 50%;}#sk-container-id-1 div.sk-parallel-item:only-child::after {width: 0;}#sk-container-id-1 div.sk-dashed-wrapped {border: 1px dashed gray;margin: 0 0.4em 0.5em 0.4em;box-sizing: border-box;padding-bottom: 0.4em;background-color: white;}#sk-container-id-1 div.sk-label label {font-family: monospace;font-weight: bold;display: inline-block;line-height: 1.2em;}#sk-container-id-1 div.sk-label-container {text-align: center;}#sk-container-id-1 div.sk-container {/* jupyter's `normalize.less` sets `[hidden] { display: none; }` but bootstrap.min.css set `[hidden] { display: none !important; }` so we also need the `!important` here to be able to override the default hidden behavior on the sphinx rendered scikit-learn.org. See: https://github.com/scikit-learn/scikit-learn/issues/21755 */display: inline-block !important;position: relative;}#sk-container-id-1 div.sk-text-repr-fallback {display: none;}</style><div id=\"sk-container-id-1\" class=\"sk-top-container\"><div class=\"sk-text-repr-fallback\"><pre>GradientBoostingClassifier(max_depth=4, n_estimators=600,\n",
              "                           subsample=0.308413907664825)</pre><b>In a Jupyter environment, please rerun this cell to show the HTML representation or trust the notebook. <br />On GitHub, the HTML representation is unable to render, please try loading this page with nbviewer.org.</b></div><div class=\"sk-container\" hidden><div class=\"sk-item\"><div class=\"sk-estimator sk-toggleable\"><input class=\"sk-toggleable__control sk-hidden--visually\" id=\"sk-estimator-id-1\" type=\"checkbox\" checked><label for=\"sk-estimator-id-1\" class=\"sk-toggleable__label sk-toggleable__label-arrow\">GradientBoostingClassifier</label><div class=\"sk-toggleable__content\"><pre>GradientBoostingClassifier(max_depth=4, n_estimators=600,\n",
              "                           subsample=0.308413907664825)</pre></div></div></div></div></div>"
            ]
          },
          "metadata": {},
          "execution_count": 28
        }
      ]
    },
    {
      "cell_type": "code",
      "source": [
        "rndm.best_score_"
      ],
      "metadata": {
        "colab": {
          "base_uri": "https://localhost:8080/"
        },
        "id": "O-RwcUAsthZ5",
        "outputId": "7165b539-8c25-4d1c-aca9-13f72532de68"
      },
      "execution_count": null,
      "outputs": [
        {
          "output_type": "execute_result",
          "data": {
            "text/plain": [
              "0.8229806511056511"
            ]
          },
          "metadata": {},
          "execution_count": 29
        }
      ]
    },
    {
      "cell_type": "code",
      "source": [
        "print(\"Confusion matrix \\n\",confusion_matrix(y_test,y_pred_gb))\n",
        "print(\"\\nAccuracy \\n\",accuracy_score(y_test,y_pred_gb))\n",
        "print('\\nClassification Report\\n',classification_report(y_test,y_pred_gb))"
      ],
      "metadata": {
        "colab": {
          "base_uri": "https://localhost:8080/"
        },
        "id": "BJvonrHiTkuk",
        "outputId": "077aff4b-1690-4689-e38c-c2ab287c0d36"
      },
      "execution_count": null,
      "outputs": [
        {
          "output_type": "stream",
          "name": "stdout",
          "text": [
            "Confusion matrix \n",
            " [[4573  369]\n",
            " [ 796  775]]\n",
            "\n",
            "Accuracy \n",
            " 0.8211269768155995\n",
            "\n",
            "Classification Report\n",
            "               precision    recall  f1-score   support\n",
            "\n",
            "           0       0.85      0.93      0.89      4942\n",
            "           1       0.68      0.49      0.57      1571\n",
            "\n",
            "    accuracy                           0.82      6513\n",
            "   macro avg       0.76      0.71      0.73      6513\n",
            "weighted avg       0.81      0.82      0.81      6513\n",
            "\n"
          ]
        }
      ]
    },
    {
      "cell_type": "code",
      "source": [],
      "metadata": {
        "id": "9t6KlrEZPxgI"
      },
      "execution_count": null,
      "outputs": []
    },
    {
      "cell_type": "code",
      "source": [],
      "metadata": {
        "id": "z8UHdXm0PxBC"
      },
      "execution_count": null,
      "outputs": []
    },
    {
      "cell_type": "code",
      "source": [],
      "metadata": {
        "id": "wERtsI_GT_NU"
      },
      "execution_count": null,
      "outputs": []
    },
    {
      "cell_type": "code",
      "source": [
        "random_grid.best_para"
      ],
      "metadata": {
        "id": "jwb22xK1RnB6"
      },
      "execution_count": null,
      "outputs": []
    },
    {
      "cell_type": "code",
      "source": [
        "model_random=GradientBoostingClassifier(n_estimators=625,max_depth=4)\n",
        "model1=model_random.fit(X_train,y_train)\n",
        "y_pred_random=model1.predict(X_test)"
      ],
      "metadata": {
        "id": "vZacrtqTL9du"
      },
      "execution_count": null,
      "outputs": []
    },
    {
      "cell_type": "code",
      "source": [
        "print('Accuracy',accuracy_score(y_pred_random,y_test))\n",
        "print('f1 score',f1_score(y_pred_random,y_test))"
      ],
      "metadata": {
        "id": "pLHaDkGpT-5T",
        "colab": {
          "base_uri": "https://localhost:8080/"
        },
        "outputId": "d48018c2-4d84-4c53-825e-c7efed06fbe8"
      },
      "execution_count": null,
      "outputs": [
        {
          "output_type": "stream",
          "name": "stdout",
          "text": [
            "Accuracy 0.8203592814371258\n",
            "f1 score 0.5757795503988398\n"
          ]
        }
      ]
    },
    {
      "cell_type": "code",
      "source": [],
      "metadata": {
        "id": "JYjKpASjZGws"
      },
      "execution_count": null,
      "outputs": []
    },
    {
      "cell_type": "code",
      "source": [
        "random_model=RandomizedSearchCV(GradientBoostingClassifier(),parameters,scoring='f1')\n",
        "random_model.fit(X_train,y_train)\n",
        "print(random_model.best_params_)"
      ],
      "metadata": {
        "colab": {
          "base_uri": "https://localhost:8080/"
        },
        "id": "V54jZhi_cgGX",
        "outputId": "892f3b93-9bee-4a19-b7dc-5ad0b1a9aa72"
      },
      "execution_count": null,
      "outputs": [
        {
          "output_type": "stream",
          "name": "stdout",
          "text": [
            "{'max_depth': 4, 'n_estimators': 625, 'subsample': 0.39375015989718243}\n"
          ]
        }
      ]
    },
    {
      "cell_type": "code",
      "source": [],
      "metadata": {
        "id": "qQ2Le7Khxtdc"
      },
      "execution_count": null,
      "outputs": []
    },
    {
      "cell_type": "code",
      "source": [
        "import numpy as np\n",
        "from sklearn.model_selection import GridSearchCV\n",
        "# Number of trees in random forest\n",
        "n_estimators = [int(x) for x in np.linspace(start = 200, stop = 2000, num = 10)]\n",
        "# Number of features to consider at every split\n",
        "max_features = ['auto', 'sqrt','log2']\n",
        "# Maximum number of levels in tree\n",
        "max_depth = [int(x) for x in np.linspace(10, 1000,10)]\n",
        "# Minimum number of samples required to split a node\n",
        "min_samples_split = [2, 5, 10,14]\n",
        "# Minimum number of samples required at each leaf node\n",
        "min_samples_leaf = [1, 2, 4,6,8]\n",
        "# Create the random grid\n",
        "random_grid = {'n_estimators': n_estimators,\n",
        "               'max_features': max_features,\n",
        "               'max_depth': max_depth,\n",
        "               'min_samples_split': min_samples_split,\n",
        "               'min_samples_leaf': min_samples_leaf,\n",
        "              'criterion':['entropy','gini']}\n",
        "print(random_grid)"
      ],
      "metadata": {
        "colab": {
          "base_uri": "https://localhost:8080/"
        },
        "id": "lzFrqIEfxt7Y",
        "outputId": "0a7265dc-d071-4ce3-bdb5-df32ba0fce65"
      },
      "execution_count": null,
      "outputs": [
        {
          "output_type": "stream",
          "name": "stdout",
          "text": [
            "{'n_estimators': [200, 400, 600, 800, 1000, 1200, 1400, 1600, 1800, 2000], 'max_features': ['auto', 'sqrt', 'log2'], 'max_depth': [10, 120, 230, 340, 450, 560, 670, 780, 890, 1000], 'min_samples_split': [2, 5, 10, 14], 'min_samples_leaf': [1, 2, 4, 6, 8], 'criterion': ['entropy', 'gini']}\n"
          ]
        }
      ]
    },
    {
      "cell_type": "markdown",
      "source": [
        "**Grid Search CV**"
      ],
      "metadata": {
        "id": "G3VvV9FFw6Kw"
      }
    },
    {
      "cell_type": "code",
      "source": [
        "model=GradientBoostingClassifier()\n",
        "parameters={'learning_rate':[0.01,0.02,0.03],\n",
        "            'subsample': [ 0.9,0.5,0.2],\n",
        "            'n_estimators' : [200,400,600],\n",
        "            'max_depth' : [4,6,8]}\n",
        "grid=GridSearchCV(estimator=model,param_grid=parameters,cv=2,n_jobs=-1)\n",
        "grid1=grid.fit(X_train,y_train)\n",
        "y_pred_gd=grid1.predict(X_test)\n",
        "print (y_pred_gd)\n",
        "print(grid.best_params_)"
      ],
      "metadata": {
        "colab": {
          "base_uri": "https://localhost:8080/"
        },
        "id": "8bR4F54sy6ah",
        "outputId": "a01b0793-b20e-4f37-8d36-a1f6694e8abb"
      },
      "execution_count": null,
      "outputs": [
        {
          "output_type": "stream",
          "name": "stdout",
          "text": [
            "['<=50K' '<=50K' '>50K' ... '>50K' '<=50K' '<=50K']\n",
            "{'learning_rate': 0.01, 'max_depth': 4, 'n_estimators': 400, 'subsample': 0.5}\n"
          ]
        }
      ]
    },
    {
      "cell_type": "code",
      "source": [
        "print(grid.best_estimator_)\n",
        "print(grid.best_score_)\n"
      ],
      "metadata": {
        "colab": {
          "base_uri": "https://localhost:8080/"
        },
        "id": "urGEfCPs8Q9K",
        "outputId": "1b754963-3224-44b1-a035-93a8c1c855ac"
      },
      "execution_count": null,
      "outputs": [
        {
          "output_type": "stream",
          "name": "stdout",
          "text": [
            "GradientBoostingClassifier(learning_rate=0.03, max_depth=4, n_estimators=400,\n",
            "                           subsample=0.2)\n",
            "0.8263590294840295\n"
          ]
        }
      ]
    },
    {
      "cell_type": "code",
      "source": [
        "print('Accuracy',accuracy_score(y_pred_gd,y_test))\n",
        "print('f1 score',f1_score(y_pred_gd,y_test))"
      ],
      "metadata": {
        "colab": {
          "base_uri": "https://localhost:8080/"
        },
        "id": "vmRcbHaLvArb",
        "outputId": "429dd065-084d-4ffd-b2a7-81acced44e7c"
      },
      "execution_count": null,
      "outputs": [
        {
          "output_type": "stream",
          "name": "stdout",
          "text": [
            "Accuracy 0.8232765238753262\n",
            "f1 score 0.58191064293498\n"
          ]
        }
      ]
    },
    {
      "cell_type": "code",
      "source": [],
      "metadata": {
        "id": "a1HpF9Iwyyo3"
      },
      "execution_count": null,
      "outputs": []
    },
    {
      "cell_type": "code",
      "source": [
        "model_grid=GradientBoostingClassifier(n_estimators=400,max_depth=4)\n",
        "model1=model_grid.fit(X_train,y_train)\n",
        "y_pred=model1.predict(X_test)\n",
        "print('Accuracy',accuracy_score(y_pred,y_test))\n",
        "print('f1 score',f1_score(y_pred,y_test))"
      ],
      "metadata": {
        "colab": {
          "base_uri": "https://localhost:8080/"
        },
        "id": "H6JwpCpL0xCc",
        "outputId": "227b9680-9c4b-4ffd-c383-dcdcf69ab016"
      },
      "execution_count": null,
      "outputs": [
        {
          "output_type": "stream",
          "name": "stdout",
          "text": [
            "Accuracy 0.8212805158912944\n",
            "f1 score 0.5785662563359882\n"
          ]
        }
      ]
    },
    {
      "cell_type": "code",
      "source": [],
      "metadata": {
        "id": "3wKO9MSMrPXC"
      },
      "execution_count": null,
      "outputs": []
    },
    {
      "cell_type": "code",
      "source": [
        "import pickle\n",
        "filename='savemodel.sav'\n",
        "# Dump information to the file\n",
        "pickle.dump(model1,open(filename,'wb'))\n",
        "# Load the file\n",
        "load_model=pickle.load(open(filename,'rb'))"
      ],
      "metadata": {
        "id": "g2SMzpkc2IBf"
      },
      "execution_count": null,
      "outputs": []
    }
  ]
}